{
 "cells": [
  {
   "cell_type": "markdown",
   "metadata": {},
   "source": [
    "# FBXO11\n",
    "[Intellectual developmental disorder with dysmorphic facies and behavioral abnormalities (IDDFBA)](https://omim.org/entry/618089) is caused by heterozygous mutation in the [FBXO11 gene](https://omim.org/entry/607871).\n",
    "\n",
    "F-box proteins, such as FBXO11, contain an approximately 40-amino acid motif, the F box, that binds SKP1"
   ]
  },
  {
   "cell_type": "markdown",
   "metadata": {},
   "source": [
    "import genophenocorr"
   ]
  },
  {
   "cell_type": "code",
   "execution_count": 3,
   "metadata": {},
   "outputs": [],
   "source": [
    "import gpsea"
   ]
  },
  {
   "cell_type": "code",
   "execution_count": 12,
   "metadata": {},
   "outputs": [
    {
     "name": "stdout",
     "output_type": "stream",
     "text": [
      "Loaded HPO v2024-08-13\n",
      "Using gpsea version 0.2.1.dev0\n"
     ]
    }
   ],
   "source": [
    "import gpsea\n",
    "from gpsea.analysis import configure_cohort_analysis, CohortAnalysisConfiguration\n",
    "from gpsea.analysis.predicate import PatientCategories\n",
    "from gpsea.preprocessing import load_phenopackets\n",
    "from gpsea.preprocessing import configure_caching_cohort_creator\n",
    "from gpsea.model import FeatureType, VariantEffect\n",
    "from gpsea.view import CohortViewable\n",
    "from gpsea.preprocessing import UniprotProteinMetadataService\n",
    "from gpsea.model.genome import GRCh38\n",
    "from gpsea.preprocessing import VVMultiCoordinateService\n",
    "from gpsea.view import ProteinVisualizable, ProteinVisualizer, ProteinViewable\n",
    "import hpotk\n",
    "from IPython.display import display, HTML\n",
    "\n",
    "store = hpotk.configure_ontology_store()\n",
    "hpo = store.load_minimal_hpo()\n",
    "print(f'Loaded HPO v{hpo.version}')\n",
    "print(f\"Using gpsea version {gpsea.__version__}\")"
   ]
  },
  {
   "cell_type": "code",
   "execution_count": 6,
   "metadata": {},
   "outputs": [
    {
     "name": "stdout",
     "output_type": "stream",
     "text": [
      "Found cohort with 20 phenopackets for FBXO11\n"
     ]
    }
   ],
   "source": [
    "from ppktstore.registry import configure_phenopacket_registry\n",
    "registry = configure_phenopacket_registry()\n",
    "with registry.open_phenopacket_store(release=\"0.1.19\") as ps:\n",
    "  phenopackets = list(ps.iter_cohort_phenopackets(\"FBXO11\"))\n",
    "print(f\"Found cohort with {len(phenopackets)} phenopackets for FBXO11\")"
   ]
  },
  {
   "cell_type": "code",
   "execution_count": 14,
   "metadata": {},
   "outputs": [
    {
     "name": "stdout",
     "output_type": "stream",
     "text": [
      "Patients Created: 100%|██████████████████████████████████████████████████████████████████████████████████████| 20/20 [00:42<00:00,  2.12s/it]\n"
     ]
    }
   ],
   "source": [
    "FBXO11_MANE_transcript = 'NM_001190274.2'\n",
    "FBXO11_protein_id = 'NP_001177203.1' # F-box only protein 11 isoform 4\n",
    "cohort_creator = configure_caching_cohort_creator(hpo, timeout=20)\n",
    "cohort = load_phenopackets(phenopackets=phenopackets, cohort_creator=cohort_creator)"
   ]
  },
  {
   "cell_type": "code",
   "execution_count": 16,
   "metadata": {},
   "outputs": [
    {
     "ename": "AttributeError",
     "evalue": "'tuple' object has no attribute 'list_present_phenotypes'",
     "output_type": "error",
     "traceback": [
      "\u001b[0;31m---------------------------------------------------------------------------\u001b[0m",
      "\u001b[0;31mAttributeError\u001b[0m                            Traceback (most recent call last)",
      "Cell \u001b[0;32mIn[16], line 2\u001b[0m\n\u001b[1;32m      1\u001b[0m cv \u001b[38;5;241m=\u001b[39m CohortViewable(hpo\u001b[38;5;241m=\u001b[39mhpo)\n\u001b[0;32m----> 2\u001b[0m html \u001b[38;5;241m=\u001b[39m \u001b[43mcv\u001b[49m\u001b[38;5;241;43m.\u001b[39;49m\u001b[43mprocess\u001b[49m\u001b[43m(\u001b[49m\u001b[43mcohort\u001b[49m\u001b[38;5;241;43m=\u001b[39;49m\u001b[43mcohort\u001b[49m\u001b[43m,\u001b[49m\u001b[43m \u001b[49m\u001b[43mtranscript_id\u001b[49m\u001b[38;5;241;43m=\u001b[39;49m\u001b[43mFBXO11_MANE_transcript\u001b[49m\u001b[43m)\u001b[49m\n\u001b[1;32m      3\u001b[0m display(HTML(html))\n",
      "File \u001b[0;32m~/PycharmProjects/genophenocorr/src/gpsea/view/_cohort.py:52\u001b[0m, in \u001b[0;36mCohortViewable.process\u001b[0;34m(self, cohort, transcript_id)\u001b[0m\n\u001b[1;32m     37\u001b[0m \u001b[38;5;28;01mdef\u001b[39;00m \u001b[38;5;21mprocess\u001b[39m(\n\u001b[1;32m     38\u001b[0m     \u001b[38;5;28mself\u001b[39m,\n\u001b[1;32m     39\u001b[0m     cohort: Cohort,\n\u001b[1;32m     40\u001b[0m     transcript_id: typing\u001b[38;5;241m.\u001b[39mOptional[\u001b[38;5;28mstr\u001b[39m] \u001b[38;5;241m=\u001b[39m \u001b[38;5;28;01mNone\u001b[39;00m,\n\u001b[1;32m     41\u001b[0m ) \u001b[38;5;241m-\u001b[39m\u001b[38;5;241m>\u001b[39m \u001b[38;5;28mstr\u001b[39m:\n\u001b[1;32m     42\u001b[0m \u001b[38;5;250m    \u001b[39m\u001b[38;5;124;03m\"\"\"\u001b[39;00m\n\u001b[1;32m     43\u001b[0m \u001b[38;5;124;03m    Create an HTML that should be shown with display(HTML(..)) of the ipython package.\u001b[39;00m\n\u001b[1;32m     44\u001b[0m \n\u001b[0;32m   (...)\u001b[0m\n\u001b[1;32m     50\u001b[0m \u001b[38;5;124;03m        str: an HTML string with parameterized template for rendering\u001b[39;00m\n\u001b[1;32m     51\u001b[0m \u001b[38;5;124;03m    \"\"\"\u001b[39;00m\n\u001b[0;32m---> 52\u001b[0m     context \u001b[38;5;241m=\u001b[39m \u001b[38;5;28;43mself\u001b[39;49m\u001b[38;5;241;43m.\u001b[39;49m\u001b[43m_prepare_context\u001b[49m\u001b[43m(\u001b[49m\u001b[43mcohort\u001b[49m\u001b[43m,\u001b[49m\u001b[43m \u001b[49m\u001b[43mtranscript_id\u001b[49m\u001b[38;5;241;43m=\u001b[39;49m\u001b[43mtranscript_id\u001b[49m\u001b[43m)\u001b[49m\n\u001b[1;32m     53\u001b[0m     \u001b[38;5;28;01mreturn\u001b[39;00m \u001b[38;5;28mself\u001b[39m\u001b[38;5;241m.\u001b[39m_cohort_template\u001b[38;5;241m.\u001b[39mrender(context)\n",
      "File \u001b[0;32m~/PycharmProjects/genophenocorr/src/gpsea/view/_cohort.py:62\u001b[0m, in \u001b[0;36mCohortViewable._prepare_context\u001b[0;34m(self, cohort, transcript_id)\u001b[0m\n\u001b[1;32m     55\u001b[0m \u001b[38;5;28;01mdef\u001b[39;00m \u001b[38;5;21m_prepare_context\u001b[39m(\n\u001b[1;32m     56\u001b[0m     \u001b[38;5;28mself\u001b[39m,\n\u001b[1;32m     57\u001b[0m     cohort: Cohort,\n\u001b[1;32m     58\u001b[0m     transcript_id: typing\u001b[38;5;241m.\u001b[39mOptional[\u001b[38;5;28mstr\u001b[39m],\n\u001b[1;32m     59\u001b[0m ) \u001b[38;5;241m-\u001b[39m\u001b[38;5;241m>\u001b[39m typing\u001b[38;5;241m.\u001b[39mMapping[\u001b[38;5;28mstr\u001b[39m, typing\u001b[38;5;241m.\u001b[39mAny]:\n\u001b[1;32m     61\u001b[0m     hpo_counts \u001b[38;5;241m=\u001b[39m \u001b[38;5;28mlist\u001b[39m()\n\u001b[0;32m---> 62\u001b[0m     \u001b[38;5;28;01mfor\u001b[39;00m hpo \u001b[38;5;129;01min\u001b[39;00m \u001b[43mcohort\u001b[49m\u001b[38;5;241;43m.\u001b[39;49m\u001b[43mlist_present_phenotypes\u001b[49m(top\u001b[38;5;241m=\u001b[39m\u001b[38;5;28mself\u001b[39m\u001b[38;5;241m.\u001b[39m_top_phenotype_count):\n\u001b[1;32m     63\u001b[0m         hpo_id \u001b[38;5;241m=\u001b[39m hpo[\u001b[38;5;241m0\u001b[39m]\n\u001b[1;32m     64\u001b[0m         individual_count \u001b[38;5;241m=\u001b[39m hpo[\u001b[38;5;241m1\u001b[39m]\n",
      "\u001b[0;31mAttributeError\u001b[0m: 'tuple' object has no attribute 'list_present_phenotypes'"
     ]
    }
   ],
   "source": [
    "cv = CohortViewable(hpo=hpo)\n",
    "html = cv.process(cohort=cohort, transcript_id=FBXO11_MANE_transcript)\n",
    "display(HTML(html))"
   ]
  },
  {
   "cell_type": "code",
   "execution_count": 10,
   "metadata": {},
   "outputs": [
    {
     "ename": "SyntaxError",
     "evalue": "invalid syntax (2072620363.py, line 1)",
     "output_type": "error",
     "traceback": [
      "\u001b[0;36m  Cell \u001b[0;32mIn[10], line 1\u001b[0;36m\u001b[0m\n\u001b[0;31m    from gpsea.preprocessing import load_phenopackets(phenopackets)\u001b[0m\n\u001b[0m                                                     ^\u001b[0m\n\u001b[0;31mSyntaxError\u001b[0m\u001b[0;31m:\u001b[0m invalid syntax\n"
     ]
    }
   ],
   "source": []
  },
  {
   "cell_type": "code",
   "execution_count": null,
   "metadata": {},
   "outputs": [],
   "source": []
  }
 ],
 "metadata": {
  "kernelspec": {
   "display_name": "venv_gpc",
   "language": "python",
   "name": "venv_gpc"
  },
  "language_info": {
   "codemirror_mode": {
    "name": "ipython",
    "version": 3
   },
   "file_extension": ".py",
   "mimetype": "text/x-python",
   "name": "python",
   "nbconvert_exporter": "python",
   "pygments_lexer": "ipython3",
   "version": "3.12.4"
  }
 },
 "nbformat": 4,
 "nbformat_minor": 4
}
