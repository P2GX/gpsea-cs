{
 "cells": [
  {
   "cell_type": "markdown",
   "metadata": {},
   "source": [
    "# KMT2D / Kabuki Syndrome 1 due to KMT2D deficiency \n",
    "##### OMIM: 147920, MONDO:0007843\n",
    "\n",
    "\n",
    "\n",
    "##### Clinical Synopsis (USIDNET2024)\n",
    "\n",
    "Typical facial abnormalities, cleft or high arched palate, skeletal abnormalities, \n",
    "short stature, intellectual disability, congenital heart defects, recurrent \n",
    "infections (otitis media, pneumonia) in 50% of patients. Autoimmunity may be present\n",
    "\n",
    "\n",
    "\n",
    "\n",
    "\n",
    "\n"
   ]
  },
  {
   "cell_type": "markdown",
   "metadata": {},
   "source": []
  }
 ],
 "metadata": {
  "kernelspec": {
   "display_name": "gpcvenv",
   "language": "python",
   "name": "python3"
  },
  "language_info": {
   "name": "python",
   "version": "3.12.4"
  }
 },
 "nbformat": 4,
 "nbformat_minor": 2
}
