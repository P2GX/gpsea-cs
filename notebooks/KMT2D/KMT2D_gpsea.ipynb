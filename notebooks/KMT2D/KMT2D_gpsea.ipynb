{
 "cells": [
  {
   "cell_type": "markdown",
   "metadata": {},
   "source": [
    "# KMT2D / Kabuki Syndrome 1 due to KMT2D deficiency \n",
    "##### OMIM: 147920, MONDO:0007843\n",
    "\n",
    "\n",
    "\n",
    "##### Clinical Synopsis (USIDNET2024)\n",
    "\n",
    "Typical facial abnormalities, cleft or high arched palate, skeletal abnormalities, \n",
    "short stature, intellectual disability, congenital heart defects, recurrent \n",
    "infections (otitis media, pneumonia) in 50% of patients. Autoimmunity may be present\n",
    "- Group: Combined immunodeficiencies with associated or syndromic features\n",
    "- Subgroup: Other Combined immunodeficiencies wwith syndromic features \n",
    "\n",
    "\n",
    "\n",
    "\n",
    "\n",
    "\n",
    "\n"
   ]
  },
  {
   "cell_type": "markdown",
   "metadata": {},
   "source": []
  },
  {
   "cell_type": "code",
   "execution_count": null,
   "metadata": {},
   "outputs": [],
   "source": [
    "cohort_name = 'KMT2D'\n",
    "tx_id = 'NM_003482.4'\n",
    "px_id = 'NP_003473.3' "
   ]
  },
  {
   "cell_type": "code",
   "execution_count": 3,
   "metadata": {},
   "outputs": [],
   "source": [
    "import hpotk\n",
    "store = hpotk.configure_ontology_store()\n",
    "hpo = store.load_minimal_hpo()"
   ]
  },
  {
   "cell_type": "code",
   "execution_count": null,
   "metadata": {},
   "outputs": [],
   "source": []
  }
 ],
 "metadata": {
  "kernelspec": {
   "display_name": "gpcvenv",
   "language": "python",
   "name": "python3"
  },
  "language_info": {
   "codemirror_mode": {
    "name": "ipython",
    "version": 3
   },
   "file_extension": ".py",
   "mimetype": "text/x-python",
   "name": "python",
   "nbconvert_exporter": "python",
   "pygments_lexer": "ipython3",
   "version": "3.12.4"
  }
 },
 "nbformat": 4,
 "nbformat_minor": 2
}
