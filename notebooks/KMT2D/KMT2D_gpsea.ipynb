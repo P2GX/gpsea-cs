{
 "cells": [
  {
   "cell_type": "markdown",
   "metadata": {},
   "source": [
    "# KMT2D / Kabuki Syndrome 1 due to KMT2D deficiency \n",
    "##### OMIM: 147920, MONDO:0007843\n",
    "\n",
    "\n",
    "\n",
    "##### Clinical Synopsis (USIDNET2024)\n",
    "\n",
    "Typical facial abnormalities, cleft or high arched palate, skeletal abnormalities, \n",
    "short stature, intellectual disability, congenital heart defects, recurrent \n",
    "infections (otitis media, pneumonia) in 50% of patients. Autoimmunity may be present\n",
    "- Group: Combined immunodeficiencies with associated or syndromic features\n",
    "- Subgroup: Other Combined immunodeficiencies wwith syndromic features \n",
    "\n",
    "\n",
    "\n",
    "\n",
    "\n",
    "\n",
    "\n"
   ]
  },
  {
   "cell_type": "markdown",
   "metadata": {},
   "source": []
  },
  {
   "cell_type": "code",
   "execution_count": 6,
   "metadata": {},
   "outputs": [],
   "source": [
    "cohort_name = 'KMT2D'\n",
    "tx_id = 'NM_003482.4'\n",
    "px_id = 'NP_003473.3' "
   ]
  },
  {
   "cell_type": "code",
   "execution_count": 7,
   "metadata": {},
   "outputs": [],
   "source": [
    "import hpotk\n",
    "store = hpotk.configure_ontology_store()\n",
    "hpo = store.load_minimal_hpo()"
   ]
  },
  {
   "cell_type": "code",
   "execution_count": 8,
   "metadata": {},
   "outputs": [],
   "source": [
    "from ppktstore.registry import configure_phenopacket_registry\n",
    "phenopacket_registry = configure_phenopacket_registry()\n",
    "with phenopacket_registry.open_phenopacket_store('0.1.18') as ps:\n",
    "    phenopackets = tuple(ps.iter_cohort_phenopackets(cohort_name))"
   ]
  },
  {
   "cell_type": "code",
   "execution_count": 9,
   "metadata": {},
   "outputs": [
    {
     "name": "stdout",
     "output_type": "stream",
     "text": [
      "Individuals Processed: 100%|██████████| 65/65 [01:42<00:00,  1.57s/individuals]\n"
     ]
    }
   ],
   "source": [
    "from gpsea.preprocessing import configure_caching_cohort_creator, load_phenopackets\n",
    "cohort_creator = configure_caching_cohort_creator(hpo)\n",
    "cohort, validation = load_phenopackets(  \n",
    "    phenopackets=phenopackets,\n",
    "    cohort_creator=cohort_creator,\n",
    ")"
   ]
  },
  {
   "cell_type": "code",
   "execution_count": 10,
   "metadata": {},
   "outputs": [
    {
     "name": "stdout",
     "output_type": "stream",
     "text": [
      "Validated under none policy\n",
      "Showing errors and warnings\n",
      "Phenopackets\n",
      "  patient #46\n",
      "    phenotype-features\n",
      "     warnings:\n",
      "     ·#3 HP:0000368 is an obsolete identifier for Posteriorly rotated ears. Replace HP:0000368 with the primary term ID HP:0000358\n"
     ]
    }
   ],
   "source": [
    "validation.summarize()  "
   ]
  },
  {
   "cell_type": "code",
   "execution_count": null,
   "metadata": {},
   "outputs": [],
   "source": []
  }
 ],
 "metadata": {
  "kernelspec": {
   "display_name": "gpcvenv",
   "language": "python",
   "name": "python3"
  },
  "language_info": {
   "codemirror_mode": {
    "name": "ipython",
    "version": 3
   },
   "file_extension": ".py",
   "mimetype": "text/x-python",
   "name": "python",
   "nbconvert_exporter": "python",
   "pygments_lexer": "ipython3",
   "version": "3.12.4"
  }
 },
 "nbformat": 4,
 "nbformat_minor": 2
}
