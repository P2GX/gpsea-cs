{
 "cells": [
  {
   "cell_type": "markdown",
   "id": "478dbaa1",
   "metadata": {},
   "source": [
    "# POGZ and Associated Syndrome\n",
    "\n",
    "\n",
    "[White-Sutton syndrome](https://omim.org/entry/616364) is a neurodevelopmental disorder caused by pathogenic variants in the [POGZ](https://omim.org/entry/614787) gene.\n",
    "\n",
    "<!-- Summarize key findings from previous studies on genotype-phenotype correlations in the syndrome. -->\n",
    "\n",
    "One/Two/Several previous publications have reported candidate genotype-phenotype correlations in [Syndrome Name].\n",
    "\n",
    "<!-- Cite specific studies and their findings. Replace with relevant studies and findings for the specific gene and syndrome. -->\n",
    "\n",
    "[Negy et al. (2022)](https://pubmed.ncbi.nlm.nih.gov/35052493/) summarized data on 117 individuals with White-Sutton syndrome, including 12 novel individuals. They wrote:\n",
    "\n",
    "> A severity scoring system was developed for the comparison. Mild and severe phenotypes were compared with the types and location of the variants and the predicted presence or absence of nonsense-mediated RNA decay (NMD). Missense variants were more often associated with mild phenotypes (p = 0.0421) and truncating variants predicted to escape NMD presented with more severe phenotypes (p < 0.0001). Within this group, variants in the prolin-rich region of the POGZ protein were associated with the most severe phenotypes (p = 0.0004).\n",
    "\n",
    "\n",
    "\n",
    "TODO -- find set of HPO terms that matches the severity score used by the authors:\n",
    "\n",
    "> Example: Therefore, we tested missense vs other variants (inspection of the distribution of variants showed that the other variant categories in our dataset are [list other variant categories], all of which we deemed to be null variants for the purposes of this analysis). We also tested the two most common missense variants ([DETAILS]) for correlations.\n"
   ]
  },
  {
   "cell_type": "markdown",
   "id": "a9c0d26783554837",
   "metadata": {},
   "source": [
    "## Imports "
   ]
  },
  {
   "cell_type": "code",
   "execution_count": 1,
   "id": "87d3a3de",
   "metadata": {
    "ExecuteTime": {
     "end_time": "2024-08-04T16:35:00.450742Z",
     "start_time": "2024-08-04T16:35:00.421663Z"
    }
   },
   "outputs": [
    {
     "name": "stdout",
     "output_type": "stream",
     "text": [
      "Loaded HPO v2024-08-13\n",
      "Using genophenocorr version 0.7.1\n"
     ]
    }
   ],
   "source": [
    "import gpsea\n",
    "import hpotk\n",
    "\n",
    "store = hpotk.configure_ontology_store()\n",
    "hpo = store.load_minimal_hpo()\n",
    "print(f'Loaded HPO v{hpo.version}')\n",
    "print(f\"Using genophenocorr version {gpsea.__version__}\")"
   ]
  },
  {
   "cell_type": "markdown",
   "id": "94b21ddb",
   "metadata": {},
   "source": [
    "# POGZ\n",
    "We user the [Matched Annotation from NCBI and EMBL-EBI (MANE)](https://www.ncbi.nlm.nih.gov/refseq/MANE/) transcript and the corresponding protein identifier for POGZ."
   ]
  },
  {
   "cell_type": "code",
   "execution_count": 2,
   "id": "00b32022",
   "metadata": {},
   "outputs": [],
   "source": [
    "gene_symbol = 'POGZ'\n",
    "mane_tx_id = 'NM_015100.4'\n",
    "mane_protein_id = \"NP_055915.2\""
   ]
  },
  {
   "cell_type": "code",
   "execution_count": 3,
   "id": "3558b37edaae915",
   "metadata": {},
   "outputs": [
    {
     "name": "stdout",
     "output_type": "stream",
     "text": [
      "Individuals Processed:  62%|██████▏   | 72/117 [01:27<00:54,  1.21s/individuals]\n"
     ]
    },
    {
     "ename": "ValueError",
     "evalue": "'P15ys' did not match ISO8601 pattern",
     "output_type": "error",
     "traceback": [
      "\u001b[0;31m---------------------------------------------------------------------------\u001b[0m",
      "\u001b[0;31mValueError\u001b[0m                                Traceback (most recent call last)",
      "Cell \u001b[0;32mIn[3], line 12\u001b[0m\n\u001b[1;32m      8\u001b[0m     phenopackets \u001b[38;5;241m=\u001b[39m \u001b[38;5;28mtuple\u001b[39m(ps\u001b[38;5;241m.\u001b[39miter_cohort_phenopackets(gene_symbol))\n\u001b[1;32m     10\u001b[0m cohort_creator \u001b[38;5;241m=\u001b[39m configure_caching_cohort_creator(hpo)\n\u001b[0;32m---> 12\u001b[0m cohort, qc \u001b[38;5;241m=\u001b[39m \u001b[43mload_phenopackets\u001b[49m\u001b[43m(\u001b[49m\n\u001b[1;32m     13\u001b[0m \u001b[43m    \u001b[49m\u001b[43mphenopackets\u001b[49m\u001b[38;5;241;43m=\u001b[39;49m\u001b[43mphenopackets\u001b[49m\u001b[43m,\u001b[49m\u001b[43m \u001b[49m\n\u001b[1;32m     14\u001b[0m \u001b[43m    \u001b[49m\u001b[43mcohort_creator\u001b[49m\u001b[38;5;241;43m=\u001b[39;49m\u001b[43mcohort_creator\u001b[49m\u001b[43m,\u001b[49m\n\u001b[1;32m     15\u001b[0m \u001b[43m)\u001b[49m\n\u001b[1;32m     16\u001b[0m \u001b[38;5;28mprint\u001b[39m(\u001b[38;5;124mf\u001b[39m\u001b[38;5;124m'\u001b[39m\u001b[38;5;124mLoaded \u001b[39m\u001b[38;5;132;01m{\u001b[39;00m\u001b[38;5;28mlen\u001b[39m(cohort)\u001b[38;5;132;01m}\u001b[39;00m\u001b[38;5;124m individuals from \u001b[39m\u001b[38;5;132;01m{\u001b[39;00mcohort\u001b[38;5;132;01m}\u001b[39;00m\u001b[38;5;124m'\u001b[39m)\n\u001b[1;32m     17\u001b[0m qc\u001b[38;5;241m.\u001b[39msummarize()\n",
      "File \u001b[0;32m~/GIT/gpsea-cs/venv/lib/python3.12/site-packages/gpsea/preprocessing/_config.py:391\u001b[0m, in \u001b[0;36mload_phenopackets\u001b[0;34m(phenopackets, cohort_creator, validation_policy)\u001b[0m\n\u001b[1;32m    387\u001b[0m cohort_iter \u001b[38;5;241m=\u001b[39m tqdm(\n\u001b[1;32m    388\u001b[0m     phenopackets, desc\u001b[38;5;241m=\u001b[39m\u001b[38;5;124m\"\u001b[39m\u001b[38;5;124mIndividuals Processed\u001b[39m\u001b[38;5;124m\"\u001b[39m, file\u001b[38;5;241m=\u001b[39msys\u001b[38;5;241m.\u001b[39mstdout, unit\u001b[38;5;241m=\u001b[39m\u001b[38;5;124m\"\u001b[39m\u001b[38;5;124mindividuals\u001b[39m\u001b[38;5;124m\"\u001b[39m\n\u001b[1;32m    389\u001b[0m )\n\u001b[1;32m    390\u001b[0m notepad \u001b[38;5;241m=\u001b[39m create_notepad(label\u001b[38;5;241m=\u001b[39m\u001b[38;5;124m\"\u001b[39m\u001b[38;5;124mPhenopackets\u001b[39m\u001b[38;5;124m\"\u001b[39m)\n\u001b[0;32m--> 391\u001b[0m cohort \u001b[38;5;241m=\u001b[39m \u001b[43mcohort_creator\u001b[49m\u001b[38;5;241;43m.\u001b[39;49m\u001b[43mprocess\u001b[49m\u001b[43m(\u001b[49m\u001b[43mcohort_iter\u001b[49m\u001b[43m,\u001b[49m\u001b[43m \u001b[49m\u001b[43mnotepad\u001b[49m\u001b[43m)\u001b[49m\n\u001b[1;32m    393\u001b[0m validation_result \u001b[38;5;241m=\u001b[39m PreprocessingValidationResult(\n\u001b[1;32m    394\u001b[0m     policy\u001b[38;5;241m=\u001b[39mvalidation_policy,\n\u001b[1;32m    395\u001b[0m     notepad\u001b[38;5;241m=\u001b[39mnotepad,\n\u001b[1;32m    396\u001b[0m )\n\u001b[1;32m    398\u001b[0m \u001b[38;5;28;01mreturn\u001b[39;00m cohort, validation_result\n",
      "File \u001b[0;32m~/GIT/gpsea-cs/venv/lib/python3.12/site-packages/gpsea/preprocessing/_patient.py:57\u001b[0m, in \u001b[0;36mCohortCreator.process\u001b[0;34m(self, inputs, notepad)\u001b[0m\n\u001b[1;32m     55\u001b[0m \u001b[38;5;28;01mfor\u001b[39;00m i, pp \u001b[38;5;129;01min\u001b[39;00m \u001b[38;5;28menumerate\u001b[39m(inputs):\n\u001b[1;32m     56\u001b[0m     sub \u001b[38;5;241m=\u001b[39m notepad\u001b[38;5;241m.\u001b[39madd_subsection(\u001b[38;5;124mf\u001b[39m\u001b[38;5;124m'\u001b[39m\u001b[38;5;124mpatient #\u001b[39m\u001b[38;5;132;01m{\u001b[39;00mi\u001b[38;5;132;01m}\u001b[39;00m\u001b[38;5;124m'\u001b[39m)\n\u001b[0;32m---> 57\u001b[0m     patient \u001b[38;5;241m=\u001b[39m \u001b[38;5;28;43mself\u001b[39;49m\u001b[38;5;241;43m.\u001b[39;49m\u001b[43m_pc\u001b[49m\u001b[38;5;241;43m.\u001b[39;49m\u001b[43mprocess\u001b[49m\u001b[43m(\u001b[49m\u001b[43mpp\u001b[49m\u001b[43m,\u001b[49m\u001b[43m \u001b[49m\u001b[43msub\u001b[49m\u001b[43m)\u001b[49m\n\u001b[1;32m     58\u001b[0m     \u001b[38;5;28;01mif\u001b[39;00m patient \u001b[38;5;129;01mis\u001b[39;00m \u001b[38;5;129;01mnot\u001b[39;00m \u001b[38;5;28;01mNone\u001b[39;00m:\n\u001b[1;32m     59\u001b[0m         \u001b[38;5;28;01mif\u001b[39;00m patient\u001b[38;5;241m.\u001b[39mlabels \u001b[38;5;129;01min\u001b[39;00m patient_labels:\n",
      "File \u001b[0;32m~/GIT/gpsea-cs/venv/lib/python3.12/site-packages/gpsea/preprocessing/_phenopacket.py:411\u001b[0m, in \u001b[0;36mPhenopacketPatientCreator.process\u001b[0;34m(self, pp, notepad)\u001b[0m\n\u001b[1;32m    408\u001b[0m sex \u001b[38;5;241m=\u001b[39m PhenopacketPatientCreator\u001b[38;5;241m.\u001b[39m_extract_sex(pp\u001b[38;5;241m.\u001b[39msubject, indi)\n\u001b[1;32m    410\u001b[0m \u001b[38;5;66;03m# Date of death\u001b[39;00m\n\u001b[0;32m--> 411\u001b[0m age \u001b[38;5;241m=\u001b[39m \u001b[43mPhenopacketPatientCreator\u001b[49m\u001b[38;5;241;43m.\u001b[39;49m\u001b[43m_extract_age\u001b[49m\u001b[43m(\u001b[49m\u001b[43mpp\u001b[49m\u001b[38;5;241;43m.\u001b[39;49m\u001b[43msubject\u001b[49m\u001b[43m,\u001b[49m\u001b[43m \u001b[49m\u001b[43mindi\u001b[49m\u001b[43m)\u001b[49m\n\u001b[1;32m    412\u001b[0m vital_status \u001b[38;5;241m=\u001b[39m PhenopacketPatientCreator\u001b[38;5;241m.\u001b[39m_extract_vital_status(pp\u001b[38;5;241m.\u001b[39msubject, indi)\n\u001b[1;32m    414\u001b[0m \u001b[38;5;66;03m# Check phenotypes\u001b[39;00m\n",
      "File \u001b[0;32m~/GIT/gpsea-cs/venv/lib/python3.12/site-packages/gpsea/preprocessing/_phenopacket.py:594\u001b[0m, in \u001b[0;36mPhenopacketPatientCreator._extract_age\u001b[0;34m(individual, notepad)\u001b[0m\n\u001b[1;32m    592\u001b[0m \u001b[38;5;28;01mif\u001b[39;00m individual\u001b[38;5;241m.\u001b[39mHasField(\u001b[38;5;124m\"\u001b[39m\u001b[38;5;124mtime_at_last_encounter\u001b[39m\u001b[38;5;124m\"\u001b[39m):\n\u001b[1;32m    593\u001b[0m     tale \u001b[38;5;241m=\u001b[39m individual\u001b[38;5;241m.\u001b[39mtime_at_last_encounter\n\u001b[0;32m--> 594\u001b[0m     \u001b[38;5;28;01mreturn\u001b[39;00m \u001b[43mparse_age_element\u001b[49m\u001b[43m(\u001b[49m\u001b[43mtale\u001b[49m\u001b[43m,\u001b[49m\u001b[43m \u001b[49m\u001b[43mnotepad\u001b[49m\u001b[43m)\u001b[49m\n\u001b[1;32m    595\u001b[0m \u001b[38;5;28;01mreturn\u001b[39;00m \u001b[38;5;28;01mNone\u001b[39;00m\n",
      "File \u001b[0;32m~/GIT/gpsea-cs/venv/lib/python3.12/site-packages/gpsea/preprocessing/_phenopacket.py:934\u001b[0m, in \u001b[0;36mparse_age_element\u001b[0;34m(time_element, notepad)\u001b[0m\n\u001b[1;32m    932\u001b[0m \u001b[38;5;28;01melif\u001b[39;00m case \u001b[38;5;241m==\u001b[39m \u001b[38;5;124m\"\u001b[39m\u001b[38;5;124mage\u001b[39m\u001b[38;5;124m\"\u001b[39m:\n\u001b[1;32m    933\u001b[0m     age \u001b[38;5;241m=\u001b[39m time_element\u001b[38;5;241m.\u001b[39mage\n\u001b[0;32m--> 934\u001b[0m     \u001b[38;5;28;01mreturn\u001b[39;00m \u001b[43mAge\u001b[49m\u001b[38;5;241;43m.\u001b[39;49m\u001b[43mfrom_iso8601_period\u001b[49m\u001b[43m(\u001b[49m\u001b[43mvalue\u001b[49m\u001b[38;5;241;43m=\u001b[39;49m\u001b[43mage\u001b[49m\u001b[38;5;241;43m.\u001b[39;49m\u001b[43miso8601duration\u001b[49m\u001b[43m)\u001b[49m\n\u001b[1;32m    935\u001b[0m \u001b[38;5;28;01melse\u001b[39;00m:\n\u001b[1;32m    936\u001b[0m     notepad\u001b[38;5;241m.\u001b[39madd_warning(\u001b[38;5;124mf\u001b[39m\u001b[38;5;124m\"\u001b[39m\u001b[38;5;124m`time_element` is in currently unsupported format `\u001b[39m\u001b[38;5;132;01m{\u001b[39;00mcase\u001b[38;5;132;01m}\u001b[39;00m\u001b[38;5;124m`\u001b[39m\u001b[38;5;124m\"\u001b[39m)\n",
      "File \u001b[0;32m~/GIT/gpsea-cs/venv/lib/python3.12/site-packages/gpsea/model/_temporal.py:219\u001b[0m, in \u001b[0;36mAge.from_iso8601_period\u001b[0;34m(value)\u001b[0m\n\u001b[1;32m    217\u001b[0m         \u001b[38;5;28;01mreturn\u001b[39;00m Age\u001b[38;5;241m.\u001b[39mgestational(weeks\u001b[38;5;241m=\u001b[39mweeks, days\u001b[38;5;241m=\u001b[39mdays)\n\u001b[1;32m    218\u001b[0m \u001b[38;5;28;01melse\u001b[39;00m:\n\u001b[0;32m--> 219\u001b[0m     \u001b[38;5;28;01mraise\u001b[39;00m \u001b[38;5;167;01mValueError\u001b[39;00m(\u001b[38;5;124mf\u001b[39m\u001b[38;5;124m\"\u001b[39m\u001b[38;5;124m'\u001b[39m\u001b[38;5;132;01m{\u001b[39;00mvalue\u001b[38;5;132;01m}\u001b[39;00m\u001b[38;5;124m'\u001b[39m\u001b[38;5;124m did not match ISO8601 pattern\u001b[39m\u001b[38;5;124m\"\u001b[39m)\n",
      "\u001b[0;31mValueError\u001b[0m: 'P15ys' did not match ISO8601 pattern"
     ]
    }
   ],
   "source": [
    "from ppktstore.registry import configure_phenopacket_registry\n",
    "from gpsea.preprocessing import configure_caching_cohort_creator, load_phenopackets\n",
    "\n",
    "phenopacket_store_release = '0.1.22'  \n",
    "registry = configure_phenopacket_registry()\n",
    "\n",
    "with registry.open_phenopacket_store(release=phenopacket_store_release) as ps:\n",
    "    phenopackets = tuple(ps.iter_cohort_phenopackets(gene_symbol))\n",
    "\n",
    "cohort_creator = configure_caching_cohort_creator(hpo)\n",
    "\n",
    "cohort, qc = load_phenopackets(\n",
    "    phenopackets=phenopackets, \n",
    "    cohort_creator=cohort_creator,\n",
    ")\n",
    "print(f'Loaded {len(cohort)} individuals from {cohort}')\n",
    "qc.summarize()"
   ]
  },
  {
   "cell_type": "markdown",
   "id": "a902ed94ac020687",
   "metadata": {},
   "source": [
    "## Define Configuration & Run Analysis"
   ]
  },
  {
   "cell_type": "code",
   "execution_count": null,
   "id": "66335051091642fc",
   "metadata": {},
   "outputs": [],
   "source": [
    "from gpsea.view import CohortViewer\n",
    "cv = CohortViewer(hpo=hpo)\n",
    "cv.process(cohort=cohort)"
   ]
  },
  {
   "cell_type": "code",
   "execution_count": null,
   "id": "fb860b912df70c3e",
   "metadata": {},
   "outputs": [],
   "source": [
    "from gpsea.model.genome import GRCh38\n",
    "from gpsea.preprocessing import VVMultiCoordinateService, configure_default_protein_metadata_service\n",
    "import matplotlib.pyplot as plt\n",
    "from gpsea.view import ProteinVisualizer\n",
    "\n",
    "txc_service = VVMultiCoordinateService(genome_build=GRCh38)\n",
    "tx_coordinates = txc_service.fetch(mane_tx_id) \n",
    "pms = configure_default_protein_metadata_service()\n",
    "protein_meta = pms.annotate(mane_protein_id)\n",
    "\n",
    "pogz_fig, ax = plt.subplots(figsize=(15, 8))\n",
    "visualizer = ProteinVisualizer()\n",
    "visualizer.draw_protein_diagram(\n",
    "    tx_coordinates,\n",
    "    protein_meta,\n",
    "    cohort,\n",
    "    ax=ax,\n",
    ")\n",
    "pogz_fig.tight_layout()"
   ]
  },
  {
   "cell_type": "code",
   "execution_count": null,
   "id": "204dcd4a17b4356a",
   "metadata": {},
   "outputs": [],
   "source": [
    "from gpsea.view import ProteinVariantViewer\n",
    "pvv = ProteinVariantViewer(protein_metadata=protein_meta, tx_id=mane_tx_id)\n",
    "pvv.process(cohort=cohort)"
   ]
  },
  {
   "cell_type": "code",
   "execution_count": null,
   "id": "e5734539916b2ffc",
   "metadata": {},
   "outputs": [],
   "source": [
    "from gpsea.view import CohortVariantViewer\n",
    "\n",
    "viewer = CohortVariantViewer(tx_id=mane_tx_id)\n",
    "viewer.process(cohort)"
   ]
  },
  {
   "cell_type": "markdown",
   "id": "ecc5175bbf815262",
   "metadata": {},
   "source": [
    "## Correlation Analysis"
   ]
  },
  {
   "cell_type": "code",
   "execution_count": null,
   "id": "3f8a08b68ef9ee21",
   "metadata": {},
   "outputs": [],
   "source": [
    "from gpsea.analysis.pcats import configure_hpo_term_analysis\n",
    "analysis = configure_hpo_term_analysis(hpo)\n",
    "\n",
    "from gpsea.analysis.predicate.phenotype import prepare_predicates_for_terms_of_interest\n",
    "pheno_predicates = prepare_predicates_for_terms_of_interest(\n",
    "    cohort=cohort,\n",
    "    hpo=hpo,\n",
    ")"
   ]
  },
  {
   "cell_type": "code",
   "execution_count": null,
   "id": "39902a0a0861c7f2",
   "metadata": {},
   "outputs": [],
   "source": [
    "from gpsea.model import VariantEffect\n",
    "from gpsea.analysis.predicate.genotype import VariantPredicates, biallelic_predicate\n",
    "\n",
    "\n",
    "missense = VariantPredicates.variant_effect(VariantEffect.MISSENSE_VARIANT, tx_id=mane_tx_id)\n",
    "\n"
   ]
  },
  {
   "cell_type": "code",
   "execution_count": null,
   "id": "cbbccfc7655bbe04",
   "metadata": {},
   "outputs": [],
   "source": [
    "# TODO: Check compare_by_variant_key parameters and/or variables\n",
    "feature = analysis.compare_by_variant_key(variant_key=\"12_114385521_114385521_C_T\")\n",
    "feature.summarize(hpo, PatientCategories.YES)"
   ]
  },
  {
   "cell_type": "code",
   "execution_count": null,
   "id": "73d057bed177f6d4",
   "metadata": {},
   "outputs": [],
   "source": [
    "# TODO: Check compare_by_variant_key parameters and/or variables\n",
    "feature = analysis.compare_by_variant_key(variant_key=\"12_114401830_114401830_C_T\")\n",
    "feature.summarize(hpo, PatientCategories.YES)"
   ]
  },
  {
   "cell_type": "code",
   "execution_count": null,
   "id": "a35ffca2a5ebd1d4",
   "metadata": {},
   "outputs": [],
   "source": []
  }
 ],
 "metadata": {
  "kernelspec": {
   "display_name": "venv",
   "language": "python",
   "name": "python3"
  },
  "language_info": {
   "codemirror_mode": {
    "name": "ipython",
    "version": 3
   },
   "file_extension": ".py",
   "mimetype": "text/x-python",
   "name": "python",
   "nbconvert_exporter": "python",
   "pygments_lexer": "ipython3",
   "version": "3.12.4"
  }
 },
 "nbformat": 4,
 "nbformat_minor": 5
}
