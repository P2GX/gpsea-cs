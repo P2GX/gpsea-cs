{
 "cells": [
  {
   "cell_type": "markdown",
   "metadata": {},
   "source": [
    "# SMARCC2\n",
    "\n",
    "#### Clincal Synopsis:\n",
    "\n",
    "Coffin-Siris syndrome-8 (CSS8) is characterized by variable degrees of impaired intellectual development including speech impairment, hypotonia, feeding difficulties, and behavioral abnormalities. Dysmorphic features may or may not be present and include hypertrichosis or thin scalp hair, thick eyebrows, thin upper vermilion, and upturned nose (Machol et al., 2019). \n",
    "\n",
    "For a general phenotypic description and a discussion of genetic heterogeneity of Coffin-Siris syndrome, see CSS1 (135900).\n",
    "\n"
   ]
  },
  {
   "cell_type": "code",
   "execution_count": 2,
   "metadata": {},
   "outputs": [],
   "source": [
    "cohort_name = 'SMARCC2'\n",
    "tx_id = 'NM_001330288'\n",
    "px_id = 'NP_001317217.1'"
   ]
  },
  {
   "cell_type": "code",
   "execution_count": 5,
   "metadata": {},
   "outputs": [],
   "source": [
    "import hpotk\n",
    "store = hpotk.configure_ontology_store()\n",
    "hpo = store.load_minimal_hpo()"
   ]
  },
  {
   "cell_type": "code",
   "execution_count": 6,
   "metadata": {},
   "outputs": [
    {
     "data": {
      "text/plain": [
       "65"
      ]
     },
     "execution_count": 6,
     "metadata": {},
     "output_type": "execute_result"
    }
   ],
   "source": [
    "from ppktstore.registry import configure_phenopacket_registry\n",
    "phenopacket_registry = configure_phenopacket_registry()\n",
    "with phenopacket_registry.open_phenopacket_store('0.1.18') as ps:\n",
    "    phenopackets = tuple(ps.iter_cohort_phenopackets(cohort_name))\n",
    "len(phenopackets)"
   ]
  },
  {
   "cell_type": "code",
   "execution_count": 7,
   "metadata": {},
   "outputs": [
    {
     "name": "stdout",
     "output_type": "stream",
     "text": [
      "Individuals Processed:   0%|          | 0/65 [00:00<?, ?individuals/s]"
     ]
    }
   ],
   "source": [
    "from gpsea.preprocessing import configure_caching_cohort_creator, load_phenopackets\n",
    "cohort_creator = configure_caching_cohort_creator(hpo)\n",
    "cohort, validation = load_phenopackets(  \n",
    "    phenopackets=phenopackets,\n",
    "    cohort_creator=cohort_creator,\n",
    ")"
   ]
  },
  {
   "cell_type": "code",
   "execution_count": null,
   "metadata": {},
   "outputs": [],
   "source": []
  }
 ],
 "metadata": {
  "kernelspec": {
   "display_name": "gpcvenv",
   "language": "python",
   "name": "python3"
  },
  "language_info": {
   "codemirror_mode": {
    "name": "ipython",
    "version": 3
   },
   "file_extension": ".py",
   "mimetype": "text/x-python",
   "name": "python",
   "nbconvert_exporter": "python",
   "pygments_lexer": "ipython3",
   "version": "3.12.4"
  }
 },
 "nbformat": 4,
 "nbformat_minor": 2
}
