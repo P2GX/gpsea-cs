{
 "cells": [
  {
   "cell_type": "markdown",
   "id": "478dbaa1",
   "metadata": {},
   "source": [
    "# CHD8 and IDDAM\n",
    "\n",
    "<!-- Provide a brief overview of the syndrome and its genetic basis. Replace [Gene Name] and [Syndrome Name] with the specific gene and syndrome you are studying. -->\n",
    "\n",
    "[Intellectual developmental disorder with autism and macrocephaly (IDDAM)](https://www.omim.org/entry/615032?search=intellectual%20developmental%20disorder%20with%20autism%20and%20macrocephaly&highlight=%28autism%7Cautistic%29%2Cdevelopmental%2Cdisorder%2Cintellectual%2Cmacrocephaly%2Cwith) is an autosomal dominant disease characterized by impaired intellectual development, a highly penetrant autism spectrum phenotype, and macrocephaly. Other common features include tall stature, gastrointestinal symptoms, distinct facial features, sleep problems, and attention problems [(An et al., 2020)](https://pubmed.ncbi.nlm.nih.gov/31980904/). The syndrome is caused by pathogenic variants in the [CHD8](https://omim.org/entry/610528?search=CHD8&highlight=chd8) gene.\n",
    "\n",
    "The CHD8 gene is located on chromosome 14, and is part of a group of genes that all code for a chromodomain helicase DNA binding (CHD) protein. The CHD8 protein regulates gene expression through transcription factors and histone-modifying complexes. It specifically has been found to effect beta-catenin signalling and the Wnt-signalling pathway, which are both found to be essential in brain development [(Douzgou et al., 2019)](https://pubmed.ncbi.nlm.nih.gov/31001818/).\n",
    "\n",
    "<!-- Summarize key findings from previous studies on genotype-phenotype correlations in the syndrome. -->\n",
    "\n",
    "At least two previous publications have reported candidate genotype-phenotype correlations in IDDAM.\n",
    "\n",
    "<!-- Cite specific studies and their findings. Replace with relevant studies and findings for the specific gene and syndrome. -->\n",
    "\n",
    "[Dingemans et al. (2022)](https://www.nature.com/articles/s41398-022-02189-1) stated that they were able to find a correlation between the severity of the phenotypes (using a Mann-Witney U Test) and missense variants on the CHD8 gene, specifically that those with a missense variant were significantly less affected than other individuals. \n",
    "\n",
    "[An et al. (2020)](https://pubmed.ncbi.nlm.nih.gov/31980904/) found that variants on the Helicase-C domain were significantly more likely to result in a higher severity (measured by total number of clinical features), lower verbal IQ, and a pattern of overgrowth (measured by weight, height, and head circumference). \n",
    "\n",
    "<!-- TODO: Add instructions for finding more comprehensive citations and explain the next steps in your analysis. -->\n",
    "\n",
    "Therefore, we tested missense vs other variants, and we tested variants affecting the Helicase-C domain for correlations.\n"
   ]
  },
  {
   "cell_type": "markdown",
   "id": "a9c0d26783554837",
   "metadata": {},
   "source": [
    "## Imports "
   ]
  },
  {
   "cell_type": "code",
   "execution_count": null,
   "id": "87d3a3de",
   "metadata": {
    "ExecuteTime": {
     "end_time": "2024-08-04T16:35:00.450742Z",
     "start_time": "2024-08-04T16:35:00.421663Z"
    }
   },
   "outputs": [],
   "source": [
    "import gpsea\n",
    "from gpsea.analysis.predicate import PatientCategories\n",
    "from gpsea.preprocessing import load_phenopacket_folder\n",
    "from gpsea.preprocessing import configure_caching_cohort_creator\n",
    "from gpsea.model import FeatureType, VariantEffect\n",
    "from gpsea.view import CohortViewable\n",
    "from gpsea.preprocessing import UniprotProteinMetadataService\n",
    "from gpsea.model.genome import GRCh38\n",
    "from gpsea.preprocessing import VVMultiCoordinateService\n",
    "from gpsea.view import ProteinVisualizable, ProteinVisualizer, ProteinViewable\n",
    "import hpotk\n",
    "from IPython.display import display, HTML\n",
    "\n",
    "store = hpotk.configure_ontology_store()\n",
    "hpo = store.load_minimal_hpo(release='v2023-10-09')\n",
    "print(f'Loaded HPO v{hpo.version}')\n",
    "print(f\"Using gpsea version {gpsea.__version__}\")\n"
   ]
  },
  {
   "cell_type": "markdown",
   "id": "7eb140bb442ce311",
   "metadata": {},
   "source": [
    "## Loading Phenopackets & Gene Variant Data\n",
    "The prefered transcript can be found by searching on the gene symbol in [ClinVar](https://www.ncbi.nlm.nih.gov/clinvar/). By entering the accession number in [NCBI Nucleotide](https://www.ncbi.nlm.nih.gov/nuccore/?), you can find the corresponding protein accession number."
   ]
  },
  {
   "cell_type": "code",
   "execution_count": null,
   "id": "3558b37edaae915",
   "metadata": {},
   "outputs": [],
   "source": [
    "from ppktstore.registry import configure_phenopacket_registry\n",
    "from gpsea.preprocessing import configure_caching_cohort_creator, load_phenopackets\n",
    "\n",
    "cohort_name = 'CHD8'\n",
    "phenopacket_store_release = '0.1.19'\n",
    "CHD8_MANE_transcript = 'NM_001170629.2'\n",
    "CHD8_protein_id = \"NP_001164100.1\"\n",
    "\n",
    "registry = configure_phenopacket_registry()\n",
    "with registry.open_phenopacket_store(phenopacket_store_release) as ps:\n",
    "    phenopackets = tuple(ps.iter_cohort_phenopackets(cohort_name))\n",
    "\n",
    "cohort_creator = configure_caching_cohort_creator(hpo)\n",
    "cohort, validation = load_phenopackets(\n",
    "    phenopackets=phenopackets, \n",
    "    cohort_creator=cohort_creator,\n",
    ")\n",
    "\n",
    "validation.summarize()"
   ]
  },
  {
   "cell_type": "markdown",
   "id": "a902ed94ac020687",
   "metadata": {},
   "source": [
    "## Define Configuration & Run Analysis"
   ]
  },
  {
   "cell_type": "code",
   "execution_count": null,
   "id": "66335051091642fc",
   "metadata": {},
   "outputs": [],
   "source": [
    "cv = CohortViewable(hpo=hpo)\n",
    "print(type(cohort))\n",
    "html = cv.process(cohort=cohort, transcript_id=CHD8_MANE_transcript)\n",
    "display(HTML(html))"
   ]
  },
  {
   "cell_type": "code",
   "execution_count": null,
   "id": "fb860b912df70c3e",
   "metadata": {},
   "outputs": [],
   "source": [
    "from gpsea.preprocessing import configure_protein_metadata_service\n",
    "\n",
    "pms = configure_protein_metadata_service()\n",
    "protein_meta = pms.annotate(CHD8_protein_id)\n",
    "# TODO: Check Genome Build\n",
    "txc_service = VVMultiCoordinateService(genome_build=GRCh38)\n",
    "tx_coordinates = txc_service.fetch(CHD8_MANE_transcript)\n",
    "pvis = ProteinVisualizable(tx_coordinates=tx_coordinates, protein_meta=protein_meta, cohort=cohort)"
   ]
  },
  {
   "cell_type": "code",
   "execution_count": null,
   "id": "204dcd4a17b4356a",
   "metadata": {},
   "outputs": [],
   "source": [
    "viewer = ProteinViewable()\n",
    "html_prot = viewer.process(cohort, pvis)\n",
    "display(HTML(html_prot))"
   ]
  },
  {
   "cell_type": "code",
   "execution_count": null,
   "id": "e5734539916b2ffc",
   "metadata": {},
   "outputs": [],
   "source": [
    "drawer = ProteinVisualizer()\n",
    "drawer.draw_fig(pvis=pvis);"
   ]
  },
  {
   "cell_type": "markdown",
   "id": "ecc5175bbf815262",
   "metadata": {},
   "source": [
    "## Correlation Analysis"
   ]
  },
  {
   "cell_type": "code",
   "execution_count": null,
   "id": "3f8a08b68ef9ee21",
   "metadata": {},
   "outputs": [],
   "source": [
    "from gpsea.analysis.mtc_filter import HpoMtcFilter\n",
    "mtc_filter = HpoMtcFilter.default_filter(\n",
    "    hpo=hpo,\n",
    "    term_frequency_threshold=0.2,\n",
    ")\n",
    "mtc_correction = 'fdr_bh'\n",
    "mtc_alpha = 0.05"
   ]
  },
  {
   "cell_type": "code",
   "execution_count": null,
   "id": "a8793736",
   "metadata": {},
   "outputs": [],
   "source": [
    "from gpsea.analysis.pcats.stats import FisherExactTest\n",
    "\n",
    "count_statistic = FisherExactTest()"
   ]
  },
  {
   "cell_type": "code",
   "execution_count": null,
   "id": "0e830d7a",
   "metadata": {},
   "outputs": [],
   "source": [
    "from gpsea.analysis.pcats import HpoTermAnalysis\n",
    "\n",
    "analysis = HpoTermAnalysis(\n",
    "    count_statistic=count_statistic,\n",
    "    mtc_filter=mtc_filter,\n",
    "    mtc_correction=mtc_correction,\n",
    "    mtc_alpha=mtc_alpha,\n",
    ")"
   ]
  },
  {
   "cell_type": "code",
   "execution_count": null,
   "id": "4cf3e817",
   "metadata": {},
   "outputs": [],
   "source": [
    "from gpsea.analysis.predicate.phenotype import prepare_predicates_for_terms_of_interest\n",
    "\n",
    "pheno_predicates = prepare_predicates_for_terms_of_interest(\n",
    "    cohort=cohort,\n",
    "    hpo=hpo,\n",
    "    missing_implies_excluded=False,\n",
    "    min_n_of_patients_with_term=2,\n",
    ")"
   ]
  },
  {
   "cell_type": "code",
   "execution_count": null,
   "id": "d967ce5e",
   "metadata": {},
   "outputs": [],
   "source": [
    "from gpsea.model import VariantEffect\n",
    "from gpsea.analysis.predicate.genotype import VariantPredicates, monoallelic_predicate\n",
    "\n",
    "is_missense = VariantPredicates.variant_effect(VariantEffect.MISSENSE_VARIANT, CHD8_MANE_transcript)\n",
    "gt_predicate = monoallelic_predicate(a_predicate=is_missense, b_predicate=~is_missense, names=(\"Missense\", \"Not Missense\"))\n"
   ]
  },
  {
   "cell_type": "code",
   "execution_count": null,
   "id": "39902a0a0861c7f2",
   "metadata": {},
   "outputs": [],
   "source": [
    "result = analysis.compare_genotype_vs_phenotypes(\n",
    "    cohort=cohort,\n",
    "    gt_predicate=gt_predicate,\n",
    "    pheno_predicates=pheno_predicates,\n",
    ")"
   ]
  },
  {
   "cell_type": "code",
   "execution_count": null,
   "id": "cbbccfc7655bbe04",
   "metadata": {},
   "outputs": [],
   "source": [
    "from gpsea.view import summarize_hpo_analysis\n",
    "\n",
    "summarize_hpo_analysis(hpo, result)"
   ]
  },
  {
   "cell_type": "code",
   "execution_count": null,
   "id": "e12a1c0d",
   "metadata": {},
   "outputs": [],
   "source": [
    "from gpsea.analysis.pscore import DeVriesPhenotypeScorer, PhenotypeScoreAnalysis\n",
    "from gpsea.analysis.pscore.stats import MannWhitneyStatistic\n",
    "\n",
    "dv_scorer = DeVriesPhenotypeScorer(hpo)\n",
    "mw_stats = MannWhitneyStatistic()\n",
    "\n",
    "score_analysis = PhenotypeScoreAnalysis(mw_stats)\n",
    "score_results = score_analysis.compare_genotype_vs_phenotype_score(cohort, gt_predicate, dv_scorer)"
   ]
  },
  {
   "cell_type": "code",
   "execution_count": null,
   "id": "f51c37c0",
   "metadata": {},
   "outputs": [],
   "source": []
  },
  {
   "cell_type": "code",
   "execution_count": null,
   "id": "73d057bed177f6d4",
   "metadata": {},
   "outputs": [],
   "source": [
    "from gpsea.analysis.predicate.genotype import ProteinPredicates\n",
    "\n",
    "prot_pred = ProteinPredicates(pms)\n",
    "in_helicaseC = prot_pred.protein_feature(\"Helicase C-terminal\", CHD8_MANE_transcript)\n",
    "gt_predicate = monoallelic_predicate(a_predicate=in_helicaseC, b_predicate=~in_helicaseC, names=(\"Affects Helicase C\", \"Does not affect Helicase C\"))\n"
   ]
  },
  {
   "cell_type": "code",
   "execution_count": null,
   "id": "a35ffca2a5ebd1d4",
   "metadata": {},
   "outputs": [],
   "source": [
    "result_heli = analysis.compare_genotype_vs_phenotypes(\n",
    "    cohort=cohort,\n",
    "    gt_predicate=gt_predicate,\n",
    "    pheno_predicates=pheno_predicates,\n",
    ")\n",
    "\n",
    "summarize_hpo_analysis(hpo, result_heli)"
   ]
  },
  {
   "cell_type": "code",
   "execution_count": null,
   "id": "e447fd94",
   "metadata": {},
   "outputs": [],
   "source": []
  }
 ],
 "metadata": {
  "kernelspec": {
   "display_name": "gpcvenv",
   "language": "python",
   "name": "gpcvenv"
  },
  "language_info": {
   "codemirror_mode": {
    "name": "ipython",
    "version": 3
   },
   "file_extension": ".py",
   "mimetype": "text/x-python",
   "name": "python",
   "nbconvert_exporter": "python",
   "pygments_lexer": "ipython3",
   "version": "3.12.5"
  }
 },
 "nbformat": 4,
 "nbformat_minor": 5
}
