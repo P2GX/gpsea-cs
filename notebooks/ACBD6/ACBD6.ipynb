{
 "cells": [
  {
   "metadata": {},
   "cell_type": "markdown",
   "source": [
    "# ACBD6\n",
    "\n",
    "\n",
    "[Neurodevelopmental Disorder with Progressive Movement Abnormalities (NEDPM)](https://www.omim.org/entry/620785) is an autosomal recessive complex neurologic disorder characterized by global developmental delay apparent from infancy, moderately to severely impaired intellectual development, poor or absent speech, behavioral abnormalities, and various hyperkinetic movement disorders, including dystonia, spasticity, and cerebellar ataxia, that interfere with gait and cause a stooped posture. NEDPM is caused by pathogenic variants in the [ACBD6](https://www.omim.org/entry/616352?search=acbd6&highlight=acbd6) gene.\n",
    "\n",
    "[Kaiyrzhanov et al. (2024)](https://pubmed.ncbi.nlm.nih.gov/37951597/) investigating 45 individuals stated that\n",
    "\n",
    "\n",
    "Certainly! Let's delve deeper into the details based on the information provided in the document regarding the severity of phenotypes associated with types of mutations, zygosity, and mutation location in the ACBD6 gene.\n",
    "\n",
    "> 1. Type of Mutation and Severity:\n",
    ">   - Most Severe:\n",
    "Frameshift Mutations: Often lead to the production of a truncated, non-functional protein, which can have a significant impact on disease severity. For example:\n",
    "c.474delA, p.(Asp159ThrfsTer16) results in a frameshift and a premature termination signal, leading to loss of normal protein function.\n",
    "c.360dupA, p.(Leu121ThrfsTer27), another frameshift mutation, likely results in similar severe outcomes due to premature truncation of the protein.\n",
    ">   - Least Severe:\n",
    "Missense Mutations: These mutations change a single amino acid in the protein, which might still retain partial function or have a less drastic effect on the protein structure and function. For example:\n",
    "c.602A>G, p.(Asp201Gly) might lead to a functional protein with altered properties, possibly contributing to a less severe phenotype compared to truncating mutations.\n",
    "\n",
    "> 2. Zygosity and Phenotype Expressivity:\n",
    ">   - Homozygous Mutations: Individuals with homozygous mutations often show more severe and comprehensive symptomatology due to the lack of a wild-type allele. This was evident across several cases where more severe developmental and neurological defects were noted in homozygous individuals compared to those with other forms of genetic modifications.\n",
    ">   - Compound Heterozygous: While specific details weren’t highlighted for compound heterozygotes in the document, typically, individuals with one copy of two different mutations can also exhibit significant symptoms, depending on the nature of each mutation.\n",
    "\n",
    "> 3. Mutation Location:\n",
    ">   - Most Severe:\n",
    "Splice Site Mutations: These mutations affect the normal splicing of the mRNA, often leading to significant disruptions in protein structure and function. For example:\n",
    "c.574-2A>G affects a splice acceptor site, likely leading to abnormal mRNA splicing and a significantly dysfunctional protein.\n",
    "c.664-2A>G and c.694+1G>A are other examples where splice site mutations lead to skipping of exon 7, which drastically alters the protein structure.\n",
    ">   - Least Severe:\n",
    "Exonic Mutations not Affecting Splicing or Leading to Missense Variants: These mutations, especially if they occur in less critical regions of the protein or result in conservative amino acid changes, may be associated with milder effects. The specific examples of less impactful exonic mutations weren’t detailed in the summary, but typically, these would not disrupt the fundamental structure or critical functions of the protein.\n",
    "\n",
    "\n",
    "\n",
    "\n",
    "\n"
   ],
   "id": "fed051135ad2ab61"
  },
  {
   "metadata": {},
   "cell_type": "code",
   "outputs": [],
   "execution_count": null,
   "source": "",
   "id": "647043d0764f994d"
  }
 ],
 "metadata": {
  "kernelspec": {
   "display_name": "Python 3",
   "language": "python",
   "name": "python3"
  },
  "language_info": {
   "codemirror_mode": {
    "name": "ipython",
    "version": 2
   },
   "file_extension": ".py",
   "mimetype": "text/x-python",
   "name": "python",
   "nbconvert_exporter": "python",
   "pygments_lexer": "ipython2",
   "version": "2.7.6"
  }
 },
 "nbformat": 4,
 "nbformat_minor": 5
}
