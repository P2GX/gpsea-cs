{
 "cells": [
  {
   "metadata": {},
   "cell_type": "markdown",
   "source": [
    "# ACBD6 and NEDPM Syndrome\n",
    "\n",
    "[Neurodevelopmental Disorder with Progressive Movement Abnormalities (NEDPM)](https://www.omim.org/entry/620785) is an autosomal recessive complex neurologic disorder characterized by global developmental delay apparent from infancy, moderately to severely impaired intellectual development, poor or absent speech, behavioral abnormalities, and various hyperkinetic movement disorders, including dystonia, spasticity, and cerebellar ataxia, that interfere with gait and cause a stooped posture. NEDPM is caused by pathogenic variants in the [ACBD6](https://www.omim.org/entry/616352?search=acbd6&highlight=acbd6) gene.\n",
    "\n",
    "One previous publication  reported candidate genotype-phenotype correlations in NEDPM.\n",
    "\n",
    "[Kaiyrzhanov et al. (2024)](https://pubmed.ncbi.nlm.nih.gov/37951597/) investigating 45 individuals stated that:\n",
    "\n",
    "1. **Type of Mutation and Severity:**\n",
    "   - **Most Severe:**\n",
    "     - Frameshift Mutations: Often lead to the production of a truncated, non-functional protein, which can have a significant impact on disease severity. For example:\n",
    "       - c.474delA, p.(Asp159ThrfsTer16) results in a frameshift and a premature termination signal, leading to loss of normal protein function.\n",
    "       - c.360dupA, p.(Leu121ThrfsTer27), another frameshift mutation, likely results in similar severe outcomes due to premature truncation of the protein.\n",
    "   - **Least Severe:**\n",
    "     - Missense Mutations: These mutations change a single amino acid in the protein, which might still retain partial function or have a less drastic effect on the protein structure and function. For example:\n",
    "       - c.602A>G, p.(Asp201Gly) might lead to a functional protein with altered properties, possibly contributing to a less severe phenotype compared to truncating mutations.\n",
    "\n",
    "2. **Zygosity and Phenotype Expressivity:**\n",
    "   - **Homozygous Mutations:** Individuals with homozygous mutations often show more severe and comprehensive symptomatology due to the lack of a wild-type allele. This was evident across several cases where more severe developmental and neurological defects were noted in homozygous individuals compared to those with other forms of genetic modifications.\n",
    "   - **Compound Heterozygous:** While specific details weren’t highlighted for compound heterozygotes in the document, typically, individuals with one copy of two different mutations can also exhibit significant symptoms, depending on the nature of each mutation.\n",
    "\n",
    "3. **Mutation Location:**\n",
    "   - **Most Severe:**\n",
    "     - Splice Site Mutations: These mutations affect the normal splicing of the mRNA, often leading to significant disruptions in protein structure and function. For example:\n",
    "       - c.574-2A>G affects a splice acceptor site, likely leading to abnormal mRNA splicing and a significantly dysfunctional protein.\n",
    "       - c.664-2A>G and c.694+1G>A are other examples where splice site mutations lead to skipping of exon 7, which drastically alters the protein structure.\n",
    "   - **Least Severe:**\n",
    "     - Exonic Mutations not Affecting Splicing or Leading to Missense Variants: These mutations, especially if they occur in less critical regions of the protein or result in conservative amino acid changes, may be associated with milder effects. The specific examples of less impactful exonic mutations weren’t detailed in the summary, but typically, these would not disrupt the fundamental structure or critical functions of the protein.\n",
    "\n",
    "\n",
    "Based on the findings from Kaiyrzhanov et al. (2024), we will perform the following analyses to reproduce the genotype-phenotype correlations:\n",
    "\n",
    "1. **Compare Missense vs. Other Variants:**\n",
    "   - We will categorize the variants in our dataset into missense and other variants (nonsense, frameshift, and inframe indels) and analyze the distribution and severity of phenotypic features.\n",
    "\n",
    "2. **Zygosity Analysis:**\n",
    "   - We will compare the phenotypic expressivity between individuals with homozygous mutations and those with compound heterozygous mutations.\n",
    "\n",
    "3. **Mutation Location Analysis:**\n",
    "   - We will investigate the impact of splice site mutations versus exonic mutations not affecting splicing on the severity of the phenotype.\n",
    "\n",
    "4. **Test the Two Most Common Missense Variants:**\n",
    "   - We will identify and analyze the two most common missense variants in our dataset to assess their correlation with specific phenotypic features.\n",
    "\n"
   ],
   "id": "478dbaa1"
  },
  {
   "metadata": {},
   "cell_type": "markdown",
   "source": "## Imports ",
   "id": "a9c0d26783554837"
  },
  {
   "cell_type": "code",
   "id": "87d3a3de",
   "metadata": {
    "ExecuteTime": {
     "end_time": "2024-08-04T16:49:46.896945Z",
     "start_time": "2024-08-04T16:49:46.873072Z"
    }
   },
   "source": [
    "import genophenocorr\n",
    "from genophenocorr.analysis import configure_cohort_analysis, CohortAnalysisConfiguration\n",
    "from genophenocorr.analysis.predicate import PatientCategories\n",
    "from genophenocorr.preprocessing import load_phenopacket_folder\n",
    "from genophenocorr.preprocessing import configure_caching_cohort_creator\n",
    "from genophenocorr.model import FeatureType, VariantEffect\n",
    "from genophenocorr.view import CohortViewable\n",
    "from genophenocorr.preprocessing import UniprotProteinMetadataService\n",
    "from genophenocorr.model.genome import GRCh38\n",
    "from genophenocorr.preprocessing import VVTranscriptCoordinateService\n",
    "from genophenocorr.view import ProteinVisualizable, ProteinVisualizer, ProteinViewable\n",
    "import hpotk\n",
    "from IPython.display import display, HTML\n",
    "\n",
    "store = hpotk.configure_ontology_store()\n",
    "hpo = store.load_minimal_hpo(release='v2023-10-09')\n",
    "print(f'Loaded HPO v{hpo.version}')\n",
    "print(f\"Using genophenocorr version {genophenocorr.__version__}\")\n"
   ],
   "outputs": [
    {
     "ename": "ImportError",
     "evalue": "cannot import name 'configure_cohort_analysis' from 'genophenocorr.analysis' (/Users/adam/DataspellProjects/gpc-cs/gpcvenv/lib/python3.9/site-packages/genophenocorr/analysis/__init__.py)",
     "output_type": "error",
     "traceback": [
      "\u001B[0;31m---------------------------------------------------------------------------\u001B[0m",
      "\u001B[0;31mImportError\u001B[0m                               Traceback (most recent call last)",
      "Cell \u001B[0;32mIn[3], line 2\u001B[0m\n\u001B[1;32m      1\u001B[0m \u001B[38;5;28;01mimport\u001B[39;00m \u001B[38;5;21;01mgenophenocorr\u001B[39;00m\n\u001B[0;32m----> 2\u001B[0m \u001B[38;5;28;01mfrom\u001B[39;00m \u001B[38;5;21;01mgenophenocorr\u001B[39;00m\u001B[38;5;21;01m.\u001B[39;00m\u001B[38;5;21;01manalysis\u001B[39;00m \u001B[38;5;28;01mimport\u001B[39;00m configure_cohort_analysis, CohortAnalysisConfiguration\n\u001B[1;32m      3\u001B[0m \u001B[38;5;28;01mfrom\u001B[39;00m \u001B[38;5;21;01mgenophenocorr\u001B[39;00m\u001B[38;5;21;01m.\u001B[39;00m\u001B[38;5;21;01manalysis\u001B[39;00m\u001B[38;5;21;01m.\u001B[39;00m\u001B[38;5;21;01mpredicate\u001B[39;00m \u001B[38;5;28;01mimport\u001B[39;00m PatientCategories\n\u001B[1;32m      4\u001B[0m \u001B[38;5;28;01mfrom\u001B[39;00m \u001B[38;5;21;01mgenophenocorr\u001B[39;00m\u001B[38;5;21;01m.\u001B[39;00m\u001B[38;5;21;01mpreprocessing\u001B[39;00m \u001B[38;5;28;01mimport\u001B[39;00m load_phenopacket_folder\n",
      "\u001B[0;31mImportError\u001B[0m: cannot import name 'configure_cohort_analysis' from 'genophenocorr.analysis' (/Users/adam/DataspellProjects/gpc-cs/gpcvenv/lib/python3.9/site-packages/genophenocorr/analysis/__init__.py)"
     ]
    }
   ],
   "execution_count": 3
  },
  {
   "metadata": {},
   "cell_type": "markdown",
   "source": "## Loading Phenopackets & Gene Variant Data",
   "id": "7eb140bb442ce311"
  },
  {
   "metadata": {
    "ExecuteTime": {
     "end_time": "2024-08-04T16:36:32.702976Z",
     "start_time": "2024-08-04T16:36:32.680166Z"
    }
   },
   "cell_type": "code",
   "source": [
    "ACBD6_MANE_transcript = 'NM_...'\n",
    "ACBD6_protein_id = \"NP_...\"\n",
    "cohort_creator = configure_caching_cohort_creator(hpo, timeout=20)\n",
    "phenopacket_input_folder = \"../../../../GIT/phenopacket-store/notebooks/ACBD6/phenopackets/\"\n",
    "cohort = load_phenopacket_folder(pp_directory=phenopacket_input_folder, cohort_creator=cohort_creator)"
   ],
   "id": "3558b37edaae915",
   "outputs": [
    {
     "ename": "NameError",
     "evalue": "name 'configure_caching_cohort_creator' is not defined",
     "output_type": "error",
     "traceback": [
      "\u001B[0;31m---------------------------------------------------------------------------\u001B[0m",
      "\u001B[0;31mNameError\u001B[0m                                 Traceback (most recent call last)",
      "Cell \u001B[0;32mIn[2], line 3\u001B[0m\n\u001B[1;32m      1\u001B[0m ACBD6_MANE_transcript \u001B[38;5;241m=\u001B[39m \u001B[38;5;124m'\u001B[39m\u001B[38;5;124mNM_...\u001B[39m\u001B[38;5;124m'\u001B[39m\n\u001B[1;32m      2\u001B[0m ACBD6_protein_id \u001B[38;5;241m=\u001B[39m \u001B[38;5;124m\"\u001B[39m\u001B[38;5;124mNP_...\u001B[39m\u001B[38;5;124m\"\u001B[39m\n\u001B[0;32m----> 3\u001B[0m cohort_creator \u001B[38;5;241m=\u001B[39m \u001B[43mconfigure_caching_cohort_creator\u001B[49m(hpo, timeout\u001B[38;5;241m=\u001B[39m\u001B[38;5;241m20\u001B[39m)\n\u001B[1;32m      4\u001B[0m phenopacket_input_folder \u001B[38;5;241m=\u001B[39m \u001B[38;5;124m\"\u001B[39m\u001B[38;5;124m../../../../GIT/phenopacket-store/notebooks/ACBD6/phenopackets/\u001B[39m\u001B[38;5;124m\"\u001B[39m\n\u001B[1;32m      5\u001B[0m cohort \u001B[38;5;241m=\u001B[39m load_phenopacket_folder(pp_directory\u001B[38;5;241m=\u001B[39mphenopacket_input_folder, cohort_creator\u001B[38;5;241m=\u001B[39mcohort_creator)\n",
      "\u001B[0;31mNameError\u001B[0m: name 'configure_caching_cohort_creator' is not defined"
     ]
    }
   ],
   "execution_count": 2
  },
  {
   "metadata": {},
   "cell_type": "markdown",
   "source": "## Define Configuration & Run Analysis",
   "id": "a902ed94ac020687"
  },
  {
   "metadata": {},
   "cell_type": "code",
   "source": [
    "cv = CohortViewable(hpo=hpo)\n",
    "html = cv.process(cohort=cohort, transcript_id=ACBD6_MANE_transcript)\n",
    "display(HTML(html))"
   ],
   "id": "66335051091642fc",
   "outputs": [],
   "execution_count": null
  },
  {
   "metadata": {},
   "cell_type": "code",
   "source": [
    "pms = UniprotProteinMetadataService()\n",
    "protein_meta = pms.annotate(ACBD6_protein_id)\n",
    "# TODO: Check Genome Build\n",
    "txc_service = VVTranscriptCoordinateService(genome_build=GRCh38)\n",
    "tx_coordinates = txc_service.fetch(ACBD6_MANE_transcript)\n",
    "pvis = ProteinVisualizable(tx_coordinates=tx_coordinates, protein_meta=protein_meta, cohort=cohort)"
   ],
   "id": "fb860b912df70c3e",
   "outputs": [],
   "execution_count": null
  },
  {
   "metadata": {},
   "cell_type": "code",
   "source": [
    "viewer = ProteinViewable()\n",
    "html_prot = viewer.process(cohort, pvis)\n",
    "display(HTML(html_prot))"
   ],
   "id": "204dcd4a17b4356a",
   "outputs": [],
   "execution_count": null
  },
  {
   "metadata": {},
   "cell_type": "code",
   "source": [
    "drawer = ProteinVisualizer()\n",
    "drawer.draw_fig(pvis=pvis);"
   ],
   "id": "e5734539916b2ffc",
   "outputs": [],
   "execution_count": null
  },
  {
   "metadata": {},
   "cell_type": "markdown",
   "source": "## Correlation Analysis",
   "id": "ecc5175bbf815262"
  },
  {
   "metadata": {},
   "cell_type": "code",
   "source": [
    "analysis_config = CohortAnalysisConfiguration()\n",
    "analysis_config.missing_implies_excluded = False\n",
    "# TODO: Check HPO_observed_frequency \n",
    "analysis_config.heuristic_strategy(threshold_HPO_observed_frequency=0.2)\n",
    "analysis = configure_cohort_analysis(cohort, hpo, config=analysis_config)"
   ],
   "id": "3f8a08b68ef9ee21",
   "outputs": [],
   "execution_count": null
  },
  {
   "metadata": {},
   "cell_type": "code",
   "source": [
    "from genophenocorr.model import FeatureType\n",
    "\n",
    "# TODO: Check compare_by_variant_effect parameters and/or variables \n",
    "frameshift = analysis.compare_by_variant_effect(VariantEffect.MISSENSE_VARIANT, tx_id=ACBD6_MANE_transcript)\n",
    "frameshift.summarize(hpo, PatientCategories.YES)"
   ],
   "id": "39902a0a0861c7f2",
   "outputs": [],
   "execution_count": null
  },
  {
   "metadata": {},
   "cell_type": "code",
   "source": [
    "# TODO: Check compare_by_variant_key parameters and/or variables\n",
    "feature = analysis.compare_by_variant_key(variant_key=\"12_114385521_114385521_C_T\")\n",
    "feature.summarize(hpo, PatientCategories.YES)"
   ],
   "id": "cbbccfc7655bbe04",
   "outputs": [],
   "execution_count": null
  },
  {
   "metadata": {},
   "cell_type": "code",
   "source": [
    "# TODO: Check compare_by_variant_key parameters and/or variables\n",
    "feature = analysis.compare_by_variant_key(variant_key=\"12_114401830_114401830_C_T\")\n",
    "feature.summarize(hpo, PatientCategories.YES)"
   ],
   "id": "73d057bed177f6d4",
   "outputs": [],
   "execution_count": null
  },
  {
   "metadata": {},
   "cell_type": "code",
   "source": "",
   "id": "a35ffca2a5ebd1d4",
   "outputs": [],
   "execution_count": null
  }
 ],
 "metadata": {
  "kernelspec": {
   "name": "gpcvenv",
   "language": "python",
   "display_name": "gpcvenv"
  }
 },
 "nbformat": 4,
 "nbformat_minor": 5
}
