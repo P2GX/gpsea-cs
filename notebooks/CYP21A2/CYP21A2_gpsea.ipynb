{
 "cells": [
  {
   "cell_type": "markdown",
   "metadata": {},
   "source": [
    "# CYP21A2\n",
    "to do"
   ]
  },
  {
   "cell_type": "code",
   "execution_count": 1,
   "metadata": {},
   "outputs": [
    {
     "name": "stdout",
     "output_type": "stream",
     "text": [
      "Loaded HPO v2024-08-13\n",
      "Using gpsea version 0.4.1.dev0\n"
     ]
    }
   ],
   "source": [
    "import gpsea\n",
    "import hpotk\n",
    "from IPython.display import display, HTML\n",
    "\n",
    "store = hpotk.configure_ontology_store()\n",
    "hpo = store.load_minimal_hpo()\n",
    "print(f'Loaded HPO v{hpo.version}')\n",
    "print(f\"Using gpsea version {gpsea.__version__}\")"
   ]
  },
  {
   "cell_type": "code",
   "execution_count": 2,
   "metadata": {},
   "outputs": [
    {
     "name": "stdout",
     "output_type": "stream",
     "text": [
      "Individuals Processed: 11individuals [00:39,  3.57s/individuals]\n"
     ]
    },
    {
     "ename": "ValueError",
     "evalue": "Unknown structural type SO:0001636",
     "output_type": "error",
     "traceback": [
      "\u001b[0;31m---------------------------------------------------------------------------\u001b[0m",
      "\u001b[0;31mValueError\u001b[0m                                Traceback (most recent call last)",
      "Cell \u001b[0;32mIn[2], line 10\u001b[0m\n\u001b[1;32m      8\u001b[0m \u001b[38;5;28;01mfrom\u001b[39;00m \u001b[38;5;21;01mgpsea\u001b[39;00m\u001b[38;5;21;01m.\u001b[39;00m\u001b[38;5;21;01mpreprocessing\u001b[39;00m \u001b[38;5;28;01mimport\u001b[39;00m load_phenopacket_folder\n\u001b[1;32m      9\u001b[0m pp_dir \u001b[38;5;241m=\u001b[39m \u001b[38;5;124m'\u001b[39m\u001b[38;5;124m/Users/robin/GIT/phenopacket-store/notebooks/CYP21A2/phenopackets/\u001b[39m\u001b[38;5;124m'\u001b[39m\n\u001b[0;32m---> 10\u001b[0m cohort, qc_results \u001b[38;5;241m=\u001b[39m \u001b[43mload_phenopacket_folder\u001b[49m\u001b[43m(\u001b[49m\u001b[43mpp_dir\u001b[49m\u001b[43m,\u001b[49m\u001b[43m \u001b[49m\u001b[43mcohort_creator\u001b[49m\u001b[43m)\u001b[49m  \n",
      "File \u001b[0;32m~/GIT/gpsea/src/gpsea/preprocessing/_config.py:401\u001b[0m, in \u001b[0;36mload_phenopacket_folder\u001b[0;34m(pp_directory, cohort_creator, validation_policy)\u001b[0m\n\u001b[1;32m    398\u001b[0m pp_files \u001b[38;5;241m=\u001b[39m _find_phenopacket_files(pp_directory)\n\u001b[1;32m    400\u001b[0m \u001b[38;5;66;03m# Map to patients\u001b[39;00m\n\u001b[0;32m--> 401\u001b[0m \u001b[38;5;28;01mreturn\u001b[39;00m \u001b[43mload_phenopacket_files\u001b[49m\u001b[43m(\u001b[49m\n\u001b[1;32m    402\u001b[0m \u001b[43m    \u001b[49m\u001b[43mpp_files\u001b[49m\u001b[38;5;241;43m=\u001b[39;49m\u001b[43mpp_files\u001b[49m\u001b[43m,\u001b[49m\n\u001b[1;32m    403\u001b[0m \u001b[43m    \u001b[49m\u001b[43mcohort_creator\u001b[49m\u001b[38;5;241;43m=\u001b[39;49m\u001b[43mcohort_creator\u001b[49m\u001b[43m,\u001b[49m\n\u001b[1;32m    404\u001b[0m \u001b[43m    \u001b[49m\u001b[43mvalidation_policy\u001b[49m\u001b[38;5;241;43m=\u001b[39;49m\u001b[43mvalidation_policy\u001b[49m\u001b[43m,\u001b[49m\n\u001b[1;32m    405\u001b[0m \u001b[43m\u001b[49m\u001b[43m)\u001b[49m\n",
      "File \u001b[0;32m~/GIT/gpsea/src/gpsea/preprocessing/_config.py:425\u001b[0m, in \u001b[0;36mload_phenopacket_files\u001b[0;34m(pp_files, cohort_creator, validation_policy)\u001b[0m\n\u001b[1;32m    408\u001b[0m \u001b[38;5;28;01mdef\u001b[39;00m \u001b[38;5;21mload_phenopacket_files\u001b[39m(\n\u001b[1;32m    409\u001b[0m     pp_files: typing\u001b[38;5;241m.\u001b[39mIterator[\u001b[38;5;28mstr\u001b[39m],\n\u001b[1;32m    410\u001b[0m     cohort_creator: CohortCreator[Phenopacket],\n\u001b[1;32m    411\u001b[0m     validation_policy: typing\u001b[38;5;241m.\u001b[39mLiteral[\u001b[38;5;124m\"\u001b[39m\u001b[38;5;124mnone\u001b[39m\u001b[38;5;124m\"\u001b[39m, \u001b[38;5;124m\"\u001b[39m\u001b[38;5;124mlenient\u001b[39m\u001b[38;5;124m\"\u001b[39m, \u001b[38;5;124m\"\u001b[39m\u001b[38;5;124mstrict\u001b[39m\u001b[38;5;124m\"\u001b[39m] \u001b[38;5;241m=\u001b[39m \u001b[38;5;124m\"\u001b[39m\u001b[38;5;124mnone\u001b[39m\u001b[38;5;124m\"\u001b[39m,\n\u001b[1;32m    412\u001b[0m ) \u001b[38;5;241m-\u001b[39m\u001b[38;5;241m>\u001b[39m typing\u001b[38;5;241m.\u001b[39mTuple[Cohort, PreprocessingValidationResult]:\n\u001b[1;32m    413\u001b[0m \u001b[38;5;250m    \u001b[39m\u001b[38;5;124;03m\"\"\"\u001b[39;00m\n\u001b[1;32m    414\u001b[0m \u001b[38;5;124;03m    Load phenopacket JSON files, validate the data, and assemble into a :class:`~gpsea.model.Cohort`.\u001b[39;00m\n\u001b[1;32m    415\u001b[0m \u001b[38;5;124;03m    \u001b[39;00m\n\u001b[0;32m   (...)\u001b[0m\n\u001b[1;32m    423\u001b[0m \u001b[38;5;124;03m    :return: a tuple with the cohort and the validation result.\u001b[39;00m\n\u001b[1;32m    424\u001b[0m \u001b[38;5;124;03m    \"\"\"\u001b[39;00m\n\u001b[0;32m--> 425\u001b[0m     \u001b[38;5;28;01mreturn\u001b[39;00m \u001b[43mload_phenopackets\u001b[49m\u001b[43m(\u001b[49m\n\u001b[1;32m    426\u001b[0m \u001b[43m        \u001b[49m\u001b[43mphenopackets\u001b[49m\u001b[38;5;241;43m=\u001b[39;49m\u001b[43m(\u001b[49m\u001b[43m_load_phenopacket\u001b[49m\u001b[43m(\u001b[49m\u001b[43mpp_file\u001b[49m\u001b[43m)\u001b[49m\u001b[43m \u001b[49m\u001b[38;5;28;43;01mfor\u001b[39;49;00m\u001b[43m \u001b[49m\u001b[43mpp_file\u001b[49m\u001b[43m \u001b[49m\u001b[38;5;129;43;01min\u001b[39;49;00m\u001b[43m \u001b[49m\u001b[43mpp_files\u001b[49m\u001b[43m)\u001b[49m\u001b[43m,\u001b[49m\n\u001b[1;32m    427\u001b[0m \u001b[43m        \u001b[49m\u001b[43mcohort_creator\u001b[49m\u001b[38;5;241;43m=\u001b[39;49m\u001b[43mcohort_creator\u001b[49m\u001b[43m,\u001b[49m\n\u001b[1;32m    428\u001b[0m \u001b[43m        \u001b[49m\u001b[43mvalidation_policy\u001b[49m\u001b[38;5;241;43m=\u001b[39;49m\u001b[43mvalidation_policy\u001b[49m\u001b[43m,\u001b[49m\n\u001b[1;32m    429\u001b[0m \u001b[43m    \u001b[49m\u001b[43m)\u001b[49m\n",
      "File \u001b[0;32m~/GIT/gpsea/src/gpsea/preprocessing/_config.py:460\u001b[0m, in \u001b[0;36mload_phenopackets\u001b[0;34m(phenopackets, cohort_creator, validation_policy)\u001b[0m\n\u001b[1;32m    458\u001b[0m cohort_iter \u001b[38;5;241m=\u001b[39m tqdm(phenopackets, desc\u001b[38;5;241m=\u001b[39m\u001b[38;5;124m\"\u001b[39m\u001b[38;5;124mIndividuals Processed\u001b[39m\u001b[38;5;124m\"\u001b[39m, file\u001b[38;5;241m=\u001b[39msys\u001b[38;5;241m.\u001b[39mstdout, unit\u001b[38;5;241m=\u001b[39m\u001b[38;5;124m\"\u001b[39m\u001b[38;5;124mindividuals\u001b[39m\u001b[38;5;124m\"\u001b[39m)\n\u001b[1;32m    459\u001b[0m notepad \u001b[38;5;241m=\u001b[39m cohort_creator\u001b[38;5;241m.\u001b[39mprepare_notepad(\u001b[38;5;124m\"\u001b[39m\u001b[38;5;124mPhenopackets\u001b[39m\u001b[38;5;124m\"\u001b[39m)\n\u001b[0;32m--> 460\u001b[0m cohort \u001b[38;5;241m=\u001b[39m \u001b[43mcohort_creator\u001b[49m\u001b[38;5;241;43m.\u001b[39;49m\u001b[43mprocess\u001b[49m\u001b[43m(\u001b[49m\u001b[43mcohort_iter\u001b[49m\u001b[43m,\u001b[49m\u001b[43m \u001b[49m\u001b[43mnotepad\u001b[49m\u001b[43m)\u001b[49m\n\u001b[1;32m    462\u001b[0m validation_result \u001b[38;5;241m=\u001b[39m PreprocessingValidationResult(\n\u001b[1;32m    463\u001b[0m     policy\u001b[38;5;241m=\u001b[39mvalidation_policy,\n\u001b[1;32m    464\u001b[0m     notepad\u001b[38;5;241m=\u001b[39mnotepad,\n\u001b[1;32m    465\u001b[0m )\n\u001b[1;32m    467\u001b[0m \u001b[38;5;28;01mreturn\u001b[39;00m cohort, validation_result\n",
      "File \u001b[0;32m~/GIT/gpsea/src/gpsea/preprocessing/_patient.py:46\u001b[0m, in \u001b[0;36mCohortCreator.process\u001b[0;34m(self, inputs, notepad)\u001b[0m\n\u001b[1;32m     44\u001b[0m \u001b[38;5;28;01mfor\u001b[39;00m i, pp \u001b[38;5;129;01min\u001b[39;00m \u001b[38;5;28menumerate\u001b[39m(inputs):\n\u001b[1;32m     45\u001b[0m     sub \u001b[38;5;241m=\u001b[39m notepad\u001b[38;5;241m.\u001b[39madd_subsection(\u001b[38;5;124mf\u001b[39m\u001b[38;5;124m'\u001b[39m\u001b[38;5;124mpatient #\u001b[39m\u001b[38;5;132;01m{\u001b[39;00mi\u001b[38;5;132;01m}\u001b[39;00m\u001b[38;5;124m'\u001b[39m)\n\u001b[0;32m---> 46\u001b[0m     patient \u001b[38;5;241m=\u001b[39m \u001b[38;5;28;43mself\u001b[39;49m\u001b[38;5;241;43m.\u001b[39;49m\u001b[43m_pc\u001b[49m\u001b[38;5;241;43m.\u001b[39;49m\u001b[43mprocess\u001b[49m\u001b[43m(\u001b[49m\u001b[43mpp\u001b[49m\u001b[43m,\u001b[49m\u001b[43m \u001b[49m\u001b[43msub\u001b[49m\u001b[43m)\u001b[49m\n\u001b[1;32m     47\u001b[0m     \u001b[38;5;28;01mif\u001b[39;00m patient\u001b[38;5;241m.\u001b[39mlabels \u001b[38;5;129;01min\u001b[39;00m patient_labels:\n\u001b[1;32m     48\u001b[0m         duplicate_pat_labels\u001b[38;5;241m.\u001b[39madd(patient\u001b[38;5;241m.\u001b[39mlabels)\n",
      "File \u001b[0;32m~/GIT/gpsea/src/gpsea/preprocessing/_phenopacket.py:309\u001b[0m, in \u001b[0;36mPhenopacketPatientCreator.process\u001b[0;34m(self, pp, notepad)\u001b[0m\n\u001b[1;32m    307\u001b[0m \u001b[38;5;66;03m# Check variants\u001b[39;00m\n\u001b[1;32m    308\u001b[0m vs \u001b[38;5;241m=\u001b[39m notepad\u001b[38;5;241m.\u001b[39madd_subsection(\u001b[38;5;124m\"\u001b[39m\u001b[38;5;124mvariants\u001b[39m\u001b[38;5;124m\"\u001b[39m)\n\u001b[0;32m--> 309\u001b[0m variants \u001b[38;5;241m=\u001b[39m \u001b[38;5;28;43mself\u001b[39;49m\u001b[38;5;241;43m.\u001b[39;49m\u001b[43m_add_variants\u001b[49m\u001b[43m(\u001b[49m\u001b[43msample_id\u001b[49m\u001b[43m,\u001b[49m\u001b[43m \u001b[49m\u001b[43mpp\u001b[49m\u001b[43m,\u001b[49m\u001b[43m \u001b[49m\u001b[43mvs\u001b[49m\u001b[43m)\u001b[49m\n\u001b[1;32m    311\u001b[0m \u001b[38;5;28;01mreturn\u001b[39;00m Patient\u001b[38;5;241m.\u001b[39mfrom_raw_parts(\n\u001b[1;32m    312\u001b[0m     sample_id,\n\u001b[1;32m    313\u001b[0m     sex\u001b[38;5;241m=\u001b[39msex,\n\u001b[0;32m   (...)\u001b[0m\n\u001b[1;32m    316\u001b[0m     diseases\u001b[38;5;241m=\u001b[39mdiseases,\n\u001b[1;32m    317\u001b[0m )\n",
      "File \u001b[0;32m~/GIT/gpsea/src/gpsea/preprocessing/_phenopacket.py:394\u001b[0m, in \u001b[0;36mPhenopacketPatientCreator._add_variants\u001b[0;34m(self, sample_id, pp, notepad)\u001b[0m\n\u001b[1;32m    388\u001b[0m     sub_note\u001b[38;5;241m.\u001b[39madd_warning(\n\u001b[1;32m    389\u001b[0m         \u001b[38;5;124m\"\u001b[39m\u001b[38;5;124mCould not extract genotype from genomic interpretation\u001b[39m\u001b[38;5;124m\"\u001b[39m,\n\u001b[1;32m    390\u001b[0m         \u001b[38;5;124m\"\u001b[39m\u001b[38;5;124mRemove variant from testing\u001b[39m\u001b[38;5;124m\"\u001b[39m,\n\u001b[1;32m    391\u001b[0m     )\n\u001b[1;32m    392\u001b[0m     \u001b[38;5;28;01mcontinue\u001b[39;00m\n\u001b[0;32m--> 394\u001b[0m variant_info \u001b[38;5;241m=\u001b[39m \u001b[38;5;28;43mself\u001b[39;49m\u001b[38;5;241;43m.\u001b[39;49m\u001b[43m_extract_variant_info\u001b[49m\u001b[43m(\u001b[49m\n\u001b[1;32m    395\u001b[0m \u001b[43m    \u001b[49m\u001b[43msample_id\u001b[49m\u001b[43m,\u001b[49m\u001b[43m \u001b[49m\u001b[43mgenomic_interpretation\u001b[49m\u001b[43m,\u001b[49m\u001b[43m \u001b[49m\u001b[43msub_note\u001b[49m\n\u001b[1;32m    396\u001b[0m \u001b[43m\u001b[49m\u001b[43m)\u001b[49m\n\u001b[1;32m    397\u001b[0m \u001b[38;5;28;01mif\u001b[39;00m variant_info \u001b[38;5;129;01mis\u001b[39;00m \u001b[38;5;28;01mNone\u001b[39;00m:\n\u001b[1;32m    398\u001b[0m     \u001b[38;5;66;03m# We already complained in the extract function\u001b[39;00m\n\u001b[1;32m    399\u001b[0m     \u001b[38;5;28;01mcontinue\u001b[39;00m\n",
      "File \u001b[0;32m~/GIT/gpsea/src/gpsea/preprocessing/_phenopacket.py:473\u001b[0m, in \u001b[0;36mPhenopacketPatientCreator._extract_variant_info\u001b[0;34m(self, sample_id, genomic_interpretation, notepad)\u001b[0m\n\u001b[1;32m    470\u001b[0m     \u001b[38;5;28;01mreturn\u001b[39;00m \u001b[38;5;28;01mNone\u001b[39;00m\n\u001b[1;32m    472\u001b[0m \u001b[38;5;28;01mif\u001b[39;00m variant_coordinates \u001b[38;5;129;01mis\u001b[39;00m \u001b[38;5;28;01mNone\u001b[39;00m:\n\u001b[0;32m--> 473\u001b[0m     sv_info \u001b[38;5;241m=\u001b[39m \u001b[38;5;28;43mself\u001b[39;49m\u001b[38;5;241;43m.\u001b[39;49m\u001b[43m_map_to_imprecise_sv\u001b[49m\u001b[43m(\u001b[49m\u001b[43mgenomic_interpretation\u001b[49m\u001b[43m)\u001b[49m\n\u001b[1;32m    474\u001b[0m     \u001b[38;5;28;01mif\u001b[39;00m sv_info \u001b[38;5;129;01mis\u001b[39;00m \u001b[38;5;28;01mNone\u001b[39;00m:\n\u001b[1;32m    475\u001b[0m         notepad\u001b[38;5;241m.\u001b[39madd_warning(\n\u001b[1;32m    476\u001b[0m             \u001b[38;5;124m\"\u001b[39m\u001b[38;5;124mCould not extract the information for large SV annotation\u001b[39m\u001b[38;5;124m\"\u001b[39m,\n\u001b[1;32m    477\u001b[0m             \u001b[38;5;124m\"\u001b[39m\u001b[38;5;124mRemove variant from testing\u001b[39m\u001b[38;5;124m\"\u001b[39m,\n\u001b[1;32m    478\u001b[0m         )\n",
      "File \u001b[0;32m~/GIT/gpsea/src/gpsea/preprocessing/_phenopacket.py:508\u001b[0m, in \u001b[0;36mPhenopacketPatientCreator._map_to_imprecise_sv\u001b[0;34m(self, genomic_interpretation)\u001b[0m\n\u001b[1;32m    506\u001b[0m         \u001b[38;5;28;01mif\u001b[39;00m structural_type \u001b[38;5;129;01mis\u001b[39;00m \u001b[38;5;129;01mnot\u001b[39;00m \u001b[38;5;28;01mNone\u001b[39;00m \u001b[38;5;129;01mand\u001b[39;00m gene_context \u001b[38;5;129;01mis\u001b[39;00m \u001b[38;5;129;01mnot\u001b[39;00m \u001b[38;5;28;01mNone\u001b[39;00m:\n\u001b[1;32m    507\u001b[0m             st \u001b[38;5;241m=\u001b[39m hpotk\u001b[38;5;241m.\u001b[39mTermId\u001b[38;5;241m.\u001b[39mfrom_curie(curie\u001b[38;5;241m=\u001b[39mstructural_type\u001b[38;5;241m.\u001b[39mid)\n\u001b[0;32m--> 508\u001b[0m             variant_class \u001b[38;5;241m=\u001b[39m \u001b[38;5;28;43mself\u001b[39;49m\u001b[38;5;241;43m.\u001b[39;49m\u001b[43m_map_structural_type_to_variant_class\u001b[49m\u001b[43m(\u001b[49m\u001b[43mst\u001b[49m\u001b[43m)\u001b[49m\n\u001b[1;32m    509\u001b[0m             \u001b[38;5;28;01mreturn\u001b[39;00m ImpreciseSvInfo(\n\u001b[1;32m    510\u001b[0m                 structural_type\u001b[38;5;241m=\u001b[39mst,\n\u001b[1;32m    511\u001b[0m                 variant_class\u001b[38;5;241m=\u001b[39mvariant_class,\n\u001b[1;32m    512\u001b[0m                 gene_id\u001b[38;5;241m=\u001b[39mgene_context\u001b[38;5;241m.\u001b[39mvalue_id,\n\u001b[1;32m    513\u001b[0m                 gene_symbol\u001b[38;5;241m=\u001b[39mgene_context\u001b[38;5;241m.\u001b[39msymbol,\n\u001b[1;32m    514\u001b[0m             )\n\u001b[1;32m    516\u001b[0m \u001b[38;5;28;01mreturn\u001b[39;00m \u001b[38;5;28;01mNone\u001b[39;00m\n",
      "File \u001b[0;32m~/GIT/gpsea/src/gpsea/preprocessing/_phenopacket.py:532\u001b[0m, in \u001b[0;36mPhenopacketPatientCreator._map_structural_type_to_variant_class\u001b[0;34m(self, structural_type)\u001b[0m\n\u001b[1;32m    530\u001b[0m         \u001b[38;5;28;01mreturn\u001b[39;00m VariantClass\u001b[38;5;241m.\u001b[39mDUP\n\u001b[1;32m    531\u001b[0m     \u001b[38;5;28;01melse\u001b[39;00m:\n\u001b[0;32m--> 532\u001b[0m         \u001b[38;5;28;01mraise\u001b[39;00m \u001b[38;5;167;01mValueError\u001b[39;00m(\u001b[38;5;124mf\u001b[39m\u001b[38;5;124m\"\u001b[39m\u001b[38;5;124mUnknown structural type \u001b[39m\u001b[38;5;132;01m{\u001b[39;00mstructural_type\u001b[38;5;132;01m}\u001b[39;00m\u001b[38;5;124m\"\u001b[39m)\n\u001b[1;32m    533\u001b[0m \u001b[38;5;28;01melse\u001b[39;00m:\n\u001b[1;32m    534\u001b[0m     \u001b[38;5;28;01mraise\u001b[39;00m \u001b[38;5;167;01mValueError\u001b[39;00m(\u001b[38;5;124mf\u001b[39m\u001b[38;5;124m\"\u001b[39m\u001b[38;5;124mUnknown structural type \u001b[39m\u001b[38;5;132;01m{\u001b[39;00mstructural_type\u001b[38;5;132;01m}\u001b[39;00m\u001b[38;5;124m\"\u001b[39m)\n",
      "\u001b[0;31mValueError\u001b[0m: Unknown structural type SO:0001636"
     ]
    }
   ],
   "source": [
    "from ppktstore.registry import configure_phenopacket_registry\n",
    "from gpsea.preprocessing import configure_caching_cohort_creator\n",
    "\n",
    "cohort_name = \"CYP21A2\"\t\n",
    "\n",
    "\n",
    "cohort_creator = configure_caching_cohort_creator(hpo)\n",
    "from gpsea.preprocessing import load_phenopacket_folder\n",
    "pp_dir = '/Users/robin/GIT/phenopacket-store/notebooks/CYP21A2/phenopackets/'\n",
    "cohort, qc_results = load_phenopacket_folder(pp_dir, cohort_creator)  \n",
    "\n"
   ]
  },
  {
   "cell_type": "code",
   "execution_count": 8,
   "metadata": {},
   "outputs": [
    {
     "name": "stdout",
     "output_type": "stream",
     "text": [
      "[pyphetools] Ingested 69 GA4GH phenopackets.\n"
     ]
    }
   ],
   "source": [
    "from pyphetools.visualization import PhenopacketIngestor\n",
    "pp_dir = '/Users/robin/GIT/phenopacket-store/notebooks/CYP21A2/phenopackets'\n",
    "ingestor = PhenopacketIngestor(indir=pp_dir)\n",
    "ppkt_lst = ingestor.get_phenopacket_list()\n"
   ]
  },
  {
   "cell_type": "code",
   "execution_count": 15,
   "metadata": {},
   "outputs": [],
   "source": [
    "pplist = list()\n",
    "for ppkt in ppkt_lst:\n",
    "    gi = ppkt.interpretations[0].diagnosis.genomic_interpretations[0]\n",
    "    vi = gi.variant_interpretation\n",
    "    vd = vi.variation_descriptor\n",
    "    if vd.HasField(\"structural_type\"):\n",
    "        continue\n",
    "    pplist.append(ppkt)\n",
    "\n"
   ]
  },
  {
   "cell_type": "code",
   "execution_count": 16,
   "metadata": {},
   "outputs": [
    {
     "name": "stdout",
     "output_type": "stream",
     "text": [
      "Individuals Processed: 100%|██████████| 67/67 [01:03<00:00,  1.06individuals/s]\n"
     ]
    }
   ],
   "source": [
    "from gpsea.preprocessing import load_phenopackets\n",
    "cohort, qc_results = load_phenopackets(pplist, cohort_creator)  "
   ]
  },
  {
   "cell_type": "code",
   "execution_count": 17,
   "metadata": {},
   "outputs": [
    {
     "name": "stdout",
     "output_type": "stream",
     "text": [
      "Validated under none policy\n",
      "Showing errors and warnings\n",
      "Phenopackets\n",
      "  patient #24\n",
      "    phenotype-features\n",
      "     warnings:\n",
      "     ·No phenotype terms were left after the validation. Revise the phenotype terms and try again\n"
     ]
    }
   ],
   "source": [
    "qc_results.summarize()"
   ]
  },
  {
   "cell_type": "code",
   "execution_count": 18,
   "metadata": {},
   "outputs": [
    {
     "data": {
      "text/plain": [
       "id: \"PMID_30968594_individual_29\"\n",
       "subject {\n",
       "  id: \"individual 29\"\n",
       "  sex: MALE\n",
       "}\n",
       "measurements {\n",
       "  assay {\n",
       "    id: \"LOINC:1668-3\"\n",
       "    label: \"17-Hydroxyprogesterone[Mass/Vol]\"\n",
       "  }\n",
       "  value {\n",
       "    quantity {\n",
       "      unit {\n",
       "        id: \"UCUM:ng/dL\"\n",
       "        label: \"nanogram per deciliter\"\n",
       "      }\n",
       "      value: 238.0\n",
       "    }\n",
       "  }\n",
       "}\n",
       "interpretations {\n",
       "  id: \"individual 29\"\n",
       "  progress_status: SOLVED\n",
       "  diagnosis {\n",
       "    disease {\n",
       "      id: \"OMIM:201910\"\n",
       "      label: \"Adrenal hyperplasia, congenital, due to 21-hydroxylase deficiency\"\n",
       "    }\n",
       "    genomic_interpretations {\n",
       "      subject_or_biosample_id: \"individual 29\"\n",
       "      interpretation_status: CAUSATIVE\n",
       "      variant_interpretation {\n",
       "        variation_descriptor {\n",
       "          id: \"var_QnpUKQDkvkXSkGfiQThrqIRvE\"\n",
       "          gene_context {\n",
       "            value_id: \"HGNC:2600\"\n",
       "            symbol: \"CYP21A2\"\n",
       "          }\n",
       "          expressions {\n",
       "            syntax: \"hgvs.c\"\n",
       "            value: \"NM_000500.9:c.293-13C>G\"\n",
       "          }\n",
       "          expressions {\n",
       "            syntax: \"hgvs.g\"\n",
       "            value: \"NC_000006.12:g.32039081C>G\"\n",
       "          }\n",
       "          vcf_record {\n",
       "            genome_assembly: \"hg38\"\n",
       "            chrom: \"chr6\"\n",
       "            pos: 32039081\n",
       "            ref: \"C\"\n",
       "            alt: \"G\"\n",
       "          }\n",
       "          molecule_context: genomic\n",
       "          allelic_state {\n",
       "            id: \"GENO:0000135\"\n",
       "            label: \"heterozygous\"\n",
       "          }\n",
       "        }\n",
       "      }\n",
       "    }\n",
       "    genomic_interpretations {\n",
       "      subject_or_biosample_id: \"individual 29\"\n",
       "      interpretation_status: CAUSATIVE\n",
       "      variant_interpretation {\n",
       "        variation_descriptor {\n",
       "          id: \"var_mnqNUXrOkXEJyAkjCKBWRflzw\"\n",
       "          label: \"gene deletion\"\n",
       "          gene_context {\n",
       "            value_id: \"HGNC:2600\"\n",
       "            symbol: \"CYP21A2\"\n",
       "          }\n",
       "          molecule_context: genomic\n",
       "          structural_type {\n",
       "            id: \"SO:1000029\"\n",
       "            label: \"chromosomal_deletion\"\n",
       "          }\n",
       "          allelic_state {\n",
       "            id: \"GENO:0000135\"\n",
       "            label: \"heterozygous\"\n",
       "          }\n",
       "        }\n",
       "      }\n",
       "    }\n",
       "  }\n",
       "}\n",
       "diseases {\n",
       "  term {\n",
       "    id: \"OMIM:201910\"\n",
       "    label: \"Adrenal hyperplasia, congenital, due to 21-hydroxylase deficiency\"\n",
       "  }\n",
       "  onset {\n",
       "    age {\n",
       "      iso8601duration: \"P1M\"\n",
       "    }\n",
       "  }\n",
       "}\n",
       "meta_data {\n",
       "  created {\n",
       "    seconds: 1725173488\n",
       "    nanos: 153013\n",
       "  }\n",
       "  created_by: \"ORCID:0000-0002-5648-2155\"\n",
       "  resources {\n",
       "    id: \"hp\"\n",
       "    name: \"human phenotype ontology\"\n",
       "    url: \"http://purl.obolibrary.org/obo/hp.owl\"\n",
       "    version: \"2024-08-13\"\n",
       "    namespace_prefix: \"HP\"\n",
       "    iri_prefix: \"http://purl.obolibrary.org/obo/HP_\"\n",
       "  }\n",
       "  resources {\n",
       "    id: \"geno\"\n",
       "    name: \"Genotype Ontology\"\n",
       "    url: \"http://purl.obolibrary.org/obo/geno.owl\"\n",
       "    version: \"2022-03-05\"\n",
       "    namespace_prefix: \"GENO\"\n",
       "    iri_prefix: \"http://purl.obolibrary.org/obo/GENO_\"\n",
       "  }\n",
       "  resources {\n",
       "    id: \"hgnc\"\n",
       "    name: \"HUGO Gene Nomenclature Committee\"\n",
       "    url: \"https://www.genenames.org\"\n",
       "    version: \"06/01/23\"\n",
       "    namespace_prefix: \"HGNC\"\n",
       "    iri_prefix: \"https://www.genenames.org/data/gene-symbol-report/#!/hgnc_id/\"\n",
       "  }\n",
       "  resources {\n",
       "    id: \"omim\"\n",
       "    name: \"An Online Catalog of Human Genes and Genetic Disorders\"\n",
       "    url: \"https://www.omim.org\"\n",
       "    version: \"August 1, 2024\"\n",
       "    namespace_prefix: \"OMIM\"\n",
       "    iri_prefix: \"https://www.omim.org/entry/\"\n",
       "  }\n",
       "  resources {\n",
       "    id: \"so\"\n",
       "    name: \"Sequence types and features ontology\"\n",
       "    url: \"http://purl.obolibrary.org/obo/so.obo\"\n",
       "    version: \"2021-11-22\"\n",
       "    namespace_prefix: \"SO\"\n",
       "    iri_prefix: \"http://purl.obolibrary.org/obo/SO_\"\n",
       "  }\n",
       "  resources {\n",
       "    id: \"loinc\"\n",
       "    name: \"Logical Observation Identifier Names and Codes\"\n",
       "    url: \"https://loinc.org/\"\n",
       "    version: \"2.78\"\n",
       "    namespace_prefix: \"LOINC\"\n",
       "    iri_prefix: \"http://purl.bioontology.org/ontology/LOINC_\"\n",
       "  }\n",
       "  resources {\n",
       "    id: \"ucum\"\n",
       "    name: \"Unified Code for Units of Measure\"\n",
       "    url: \"https://ucum.org/\"\n",
       "    version: \"1.7\"\n",
       "    namespace_prefix: \"UCUM\"\n",
       "    iri_prefix: \"https://ucum.org/UCUM_\"\n",
       "  }\n",
       "  phenopacket_schema_version: \"2.0.2\"\n",
       "  external_references {\n",
       "    id: \"PMID:30968594\"\n",
       "    reference: \"https://pubmed.ncbi.nlm.nih.gov/30968594\"\n",
       "    description: \"Genotype-phenotype correlation study and mutational and hormonal analysis in a Chinese cohort with 21-hydroxylase deficiency\"\n",
       "  }\n",
       "}"
      ]
     },
     "execution_count": 18,
     "metadata": {},
     "output_type": "execute_result"
    }
   ],
   "source": [
    "pplist[24]"
   ]
  },
  {
   "cell_type": "markdown",
   "metadata": {},
   "source": [
    "# \"id\": \"LOINC:2986-8\",\n",
    "        \"label\": \"Testosterone[Mass/Vol]\""
   ]
  },
  {
   "cell_type": "markdown",
   "metadata": {},
   "source": [
    "#  "
   ]
  },
  {
   "cell_type": "code",
   "execution_count": null,
   "metadata": {},
   "outputs": [],
   "source": [
    "testor_predicate = from_loinc()"
   ]
  },
  {
   "cell_type": "code",
   "execution_count": null,
   "metadata": {},
   "outputs": [],
   "source": []
  }
 ],
 "metadata": {
  "kernelspec": {
   "display_name": "venv",
   "language": "python",
   "name": "python3"
  },
  "language_info": {
   "codemirror_mode": {
    "name": "ipython",
    "version": 3
   },
   "file_extension": ".py",
   "mimetype": "text/x-python",
   "name": "python",
   "nbconvert_exporter": "python",
   "pygments_lexer": "ipython3",
   "version": "3.12.4"
  }
 },
 "nbformat": 4,
 "nbformat_minor": 2
}
