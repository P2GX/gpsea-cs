{
 "cells": [
  {
   "cell_type": "markdown",
   "id": "dca4eea54d4d60dd",
   "metadata": {},
   "source": [
    "# GPC-CS Template\n",
    "\n",
    "This notebook is designed to analyze and visualize  the effects of a specific genetic variant on various phenotypic features. You need to fill in the following sections with actual code and data to perform the analysis.\n",
    "> Tip: Change all \"[GeneName]\" placeholders to the actual gene name you are analyzing."
   ]
  },
  {
   "cell_type": "code",
   "execution_count": null,
   "id": "e7a70d60958fe950",
   "metadata": {
    "SqlCellData": {
     "variableName$1": "df_sql"
    }
   },
   "outputs": [],
   "source": [
    "%%sql\n"
   ]
  },
  {
   "cell_type": "markdown",
   "id": "478dbaa1",
   "metadata": {},
   "source": [
    "# [GeneName] and Associated Syndrome\n",
    "\n",
    "<!-- Provide a brief overview of the syndrome and its genetic basis. Replace [Gene Name] and [Syndrome Name] with the specific gene and syndrome you are studying. -->\n",
    "\n",
    "[[Syndrome Name]](link_to_syndrome) is an [type of disease, e.g. autosomal dominant] disease characterized by [describe main features of the syndrome]. The syndrome is caused by pathogenic variants in the [[GeneName]](link_to_gene) gene.\n",
    "\n",
    "<!-- Summarize key findings from previous studies on genotype-phenotype correlations in the syndrome. -->\n",
    "\n",
    "One/Two/Several previous publications have reported candidate genotype-phenotype correlations in [Syndrome Name].\n",
    "\n",
    "<!-- Cite specific studies and their findings. Replace with relevant studies and findings for the specific gene and syndrome. -->\n",
    "\n",
    "[Author et al. (Year)](link_to_study) stated that:\n",
    "\n",
    "> [Quote relevant finding from the study]\n",
    "\n",
    "[Author et al. (Year)](link_to_study) stated that:\n",
    "\n",
    "> [Quote relevant finding from the study]\n",
    "\n",
    "[Author et al. (Year)](link_to_study) report:\n",
    "\n",
    "> [Quote relevant finding from the study]\n",
    "\n",
    "<!-- TODO: Add instructions for finding more comprehensive citations and explain the next steps in your analysis. -->\n",
    "\n",
    "TODO -- find a more comprehensive collection of citations for [GeneName]. At the end of the introduction for a gene, we would write something like this:\n",
    "\n",
    "> Example: Therefore, we tested missense vs other variants (inspection of the distribution of variants showed that the other variant categories in our dataset are [list other variant categories], all of which we deemed to be null variants for the purposes of this analysis). We also tested the two most common missense variants ([DETAILS]) for correlations.\n"
   ]
  },
  {
   "cell_type": "markdown",
   "id": "a9c0d26783554837",
   "metadata": {},
   "source": [
    "## Imports "
   ]
  },
  {
   "cell_type": "code",
   "execution_count": 20,
   "id": "87d3a3de",
   "metadata": {
    "ExecuteTime": {
     "end_time": "2024-08-04T16:35:00.450742Z",
     "start_time": "2024-08-04T16:35:00.421663Z"
    }
   },
   "outputs": [
    {
     "ename": "ModuleNotFoundError",
     "evalue": "No module named 'genophenocorr'",
     "output_type": "error",
     "traceback": [
      "\u001b[0;31m---------------------------------------------------------------------------\u001b[0m",
      "\u001b[0;31mModuleNotFoundError\u001b[0m                       Traceback (most recent call last)",
      "Cell \u001b[0;32mIn[20], line 1\u001b[0m\n\u001b[0;32m----> 1\u001b[0m \u001b[38;5;28;01mimport\u001b[39;00m \u001b[38;5;21;01mgenophenocorr\u001b[39;00m\n\u001b[1;32m      2\u001b[0m \u001b[38;5;28;01mfrom\u001b[39;00m \u001b[38;5;21;01mgenophenocorr\u001b[39;00m\u001b[38;5;21;01m.\u001b[39;00m\u001b[38;5;21;01manalysis\u001b[39;00m \u001b[38;5;28;01mimport\u001b[39;00m configure_cohort_analysis, CohortAnalysisConfiguration\n\u001b[1;32m      3\u001b[0m \u001b[38;5;28;01mfrom\u001b[39;00m \u001b[38;5;21;01mgenophenocorr\u001b[39;00m\u001b[38;5;21;01m.\u001b[39;00m\u001b[38;5;21;01manalysis\u001b[39;00m\u001b[38;5;21;01m.\u001b[39;00m\u001b[38;5;21;01mpredicate\u001b[39;00m \u001b[38;5;28;01mimport\u001b[39;00m PatientCategories\n",
      "\u001b[0;31mModuleNotFoundError\u001b[0m: No module named 'genophenocorr'"
     ]
    }
   ],
   "source": [
    "import gpsea\n",
    "from gpsea.analysis import configure_cohort_analysis, CohortAnalysisConfiguration\n",
    "from gpsea.analysis.predicate import PatientCategories\n",
    "from gpsea.preprocessing import load_phenopacket_folder\n",
    "from gpsea.preprocessing import configure_caching_cohort_creator\n",
    "from gpsea.model import FeatureType, VariantEffect\n",
    "from gpsea.view import CohortViewable\n",
    "from gpsea.preprocessing import UniprotProteinMetadataService\n",
    "from gpsea.model.genome import GRCh38\n",
    "from gpsea.preprocessing import VVTranscriptCoordinateService\n",
    "from gpsea.view import ProteinVisualizable, ProteinVisualizer, ProteinViewable\n",
    "import hpotk\n",
    "from IPython.display import display, HTML\n",
    "\n",
    "store = hpotk.configure_ontology_store()\n",
    "hpo = store.load_minimal_hpo(release='v2023-10-09')\n",
    "print(f'Loaded HPO v{hpo.version}')\n",
    "print(f\"Using gpsea version {gpsea.__version__}\")\n"
   ]
  },
  {
   "cell_type": "markdown",
   "id": "7eb140bb442ce311",
   "metadata": {},
   "source": [
    "## Loading Phenopackets & Gene Variant Data\n",
    "The prefered transcript can be found by searching on the gene symbol in [ClinVar](https://www.ncbi.nlm.nih.gov/clinvar/). By entering the accession number in [NCBI Nucleotide](https://www.ncbi.nlm.nih.gov/nuccore/?), you can find the corresponding protein accession number."
   ]
  },
  {
   "cell_type": "code",
   "execution_count": null,
   "id": "3558b37edaae915",
   "metadata": {},
   "outputs": [],
   "source": [
    "[GeneName]_MANE_transcript = 'NM_...'\n",
    "[GeneName]_protein_id = \"NP_...\"\n",
    "cohort_creator = configure_caching_cohort_creator(hpo, timeout=20)\n",
    "phenopacket_input_folder = \"../../../../GIT/phenopacket-store/notebooks/[GeneName]/phenopackets/\"\n",
    "cohort = load_phenopacket_folder(pp_directory=phenopacket_input_folder, cohort_creator=cohort_creator)"
   ]
  },
  {
   "cell_type": "markdown",
   "id": "a902ed94ac020687",
   "metadata": {},
   "source": [
    "## Define Configuration & Run Analysis"
   ]
  },
  {
   "cell_type": "code",
   "execution_count": null,
   "id": "66335051091642fc",
   "metadata": {},
   "outputs": [],
   "source": [
    "cv = CohortViewable(hpo=hpo)\n",
    "html = cv.process(cohort=cohort, transcript_id=[GeneName]_MANE_transcript)\n",
    "display(HTML(html))"
   ]
  },
  {
   "cell_type": "code",
   "execution_count": null,
   "id": "fb860b912df70c3e",
   "metadata": {},
   "outputs": [],
   "source": [
    "pms = UniprotProteinMetadataService()\n",
    "protein_meta = pms.annotate([GeneName]_protein_id)\n",
    "# TODO: Check Genome Build\n",
    "txc_service = VVTranscriptCoordinateService(genome_build=GRCh38)\n",
    "tx_coordinates = txc_service.fetch([GeneName]_MANE_transcript)\n",
    "pvis = ProteinVisualizable(tx_coordinates=tx_coordinates, protein_meta=protein_meta, cohort=cohort)"
   ]
  },
  {
   "cell_type": "code",
   "execution_count": null,
   "id": "204dcd4a17b4356a",
   "metadata": {},
   "outputs": [],
   "source": [
    "viewer = ProteinViewable()\n",
    "html_prot = viewer.process(cohort, pvis)\n",
    "display(HTML(html_prot))"
   ]
  },
  {
   "cell_type": "code",
   "execution_count": null,
   "id": "e5734539916b2ffc",
   "metadata": {},
   "outputs": [],
   "source": [
    "drawer = ProteinVisualizer()\n",
    "drawer.draw_fig(pvis=pvis);"
   ]
  },
  {
   "cell_type": "markdown",
   "id": "ecc5175bbf815262",
   "metadata": {},
   "source": [
    "## Correlation Analysis"
   ]
  },
  {
   "cell_type": "code",
   "execution_count": null,
   "id": "3f8a08b68ef9ee21",
   "metadata": {},
   "outputs": [],
   "source": [
    "analysis_config = CohortAnalysisConfiguration()\n",
    "analysis_config.missing_implies_excluded = False\n",
    "# TODO: Check HPO_observed_frequency \n",
    "analysis_config.heuristic_strategy(threshold_HPO_observed_frequency=0.2)\n",
    "analysis = configure_cohort_analysis(cohort, hpo, config=analysis_config)"
   ]
  },
  {
   "cell_type": "code",
   "execution_count": null,
   "id": "39902a0a0861c7f2",
   "metadata": {},
   "outputs": [],
   "source": [
    "from gpsea.model import FeatureType\n",
    "\n",
    "# TODO: Check compare_by_variant_effect parameters and/or variables \n",
    "frameshift = analysis.compare_by_variant_effect(VariantEffect.MISSENSE_VARIANT, tx_id=[GeneName]_MANE_transcript)\n",
    "frameshift.summarize(hpo, PatientCategories.YES)"
   ]
  },
  {
   "cell_type": "code",
   "execution_count": null,
   "id": "cbbccfc7655bbe04",
   "metadata": {},
   "outputs": [],
   "source": [
    "# TODO: Check compare_by_variant_key parameters and/or variables\n",
    "feature = analysis.compare_by_variant_key(variant_key=\"12_114385521_114385521_C_T\")\n",
    "feature.summarize(hpo, PatientCategories.YES)"
   ]
  },
  {
   "cell_type": "code",
   "execution_count": null,
   "id": "73d057bed177f6d4",
   "metadata": {},
   "outputs": [],
   "source": [
    "# TODO: Check compare_by_variant_key parameters and/or variables\n",
    "feature = analysis.compare_by_variant_key(variant_key=\"12_114401830_114401830_C_T\")\n",
    "feature.summarize(hpo, PatientCategories.YES)"
   ]
  },
  {
   "cell_type": "code",
   "execution_count": null,
   "id": "a35ffca2a5ebd1d4",
   "metadata": {},
   "outputs": [],
   "source": []
  }
 ],
 "metadata": {
  "kernelspec": {
   "display_name": "Python 3 (ipykernel)",
   "language": "python",
   "name": "python3"
  }
 },
 "nbformat": 4,
 "nbformat_minor": 5
}
