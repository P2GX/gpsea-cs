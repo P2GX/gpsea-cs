{
 "cells": [
  {
   "cell_type": "markdown",
   "id": "dca4eea54d4d60dd",
   "metadata": {},
   "source": [
    "\n",
    "# Gene Variant Analysis Template\n",
    "\n",
    "This notebook is designed to analyze and visualize  the effects of a specific genetic variant on various phenotypic features. You need to fill in the following sections with actual code and data to perform the analysis."
   ]
  },
  {
   "metadata": {},
   "cell_type": "markdown",
   "source": [
    "# [Gene Name] and Associated Syndrome\n",
    "\n",
    "<!-- Provide a brief overview of the syndrome and its genetic basis. Replace [Gene Name] and [Syndrome Name] with the specific gene and syndrome you are studying. -->\n",
    "\n",
    "[[Syndrome Name]](link_to_syndrome) is an [type of disease, e.g. autosomal dominant] disease characterized by [describe main features of the syndrome]. The syndrome is caused by pathogenic variants in the [[Gene Name]](link_to_gene) gene.\n",
    "\n",
    "<!-- Summarize key findings from previous studies on genotype-phenotype correlations in the syndrome. -->\n",
    "\n",
    "One/Two/Several previous publications have reported candidate genotype-phenotype correlations in [Syndrome Name].\n",
    "\n",
    "<!-- Cite specific studies and their findings. Replace with relevant studies and findings for the specific gene and syndrome. -->\n",
    "\n",
    "[Author et al. (Year)](link_to_study) stated that:\n",
    "\n",
    "> [Quote relevant finding from the study]\n",
    "\n",
    "[Author et al. (Year)](link_to_study) stated that:\n",
    "\n",
    "> [Quote relevant finding from the study]\n",
    "\n",
    "[Author et al. (Year)](link_to_study) report:\n",
    "\n",
    "> [Quote relevant finding from the study]\n",
    "\n",
    "<!-- TODO: Add instructions for finding more comprehensive citations and explain the next steps in your analysis. -->\n",
    "\n",
    "TODO -- find a more comprehensive collection of citations for [Gene Name]. At the end of the introduction for a gene, we would write something like this:\n",
    "\n",
    "> Example: Therefore, we tested missense vs other variants (inspection of the distribution of variants showed that the other variant categories in our dataset are [list other variant categories], all of which we deemed to be null variants for the purposes of this analysis). We also tested the two most common missense variants ([DETAILS]) for correlations.\n"
   ],
   "id": "478dbaa1"
  },
  {
   "metadata": {},
   "cell_type": "markdown",
   "source": "### Imports ",
   "id": "a9c0d26783554837"
  },
  {
   "cell_type": "code",
   "id": "87d3a3de",
   "metadata": {
    "ExecuteTime": {
     "end_time": "2024-08-04T16:09:32.330381Z",
     "start_time": "2024-08-04T16:09:32.302856Z"
    }
   },
   "source": [
    "import genophenocorr\n",
    "from genophenocorr.analysis import configure_cohort_analysis, CohortAnalysisConfiguration\n",
    "from genophenocorr.analysis.predicate import PatientCategories\n",
    "from genophenocorr.preprocessing import load_phenopacket_folder\n",
    "from genophenocorr.preprocessing import configure_caching_cohort_creator\n",
    "from genophenocorr.model import FeatureType, VariantEffect\n",
    "from genophenocorr.view import CohortViewable\n",
    "from genophenocorr.preprocessing import UniprotProteinMetadataService\n",
    "from genophenocorr.model.genome import GRCh38\n",
    "from genophenocorr.preprocessing import VVTranscriptCoordinateService\n",
    "from genophenocorr.view import ProteinVisualizable, ProteinVisualizer, ProteinViewable\n",
    "import hpotk\n",
    "from IPython.display import display, HTML\n",
    "\n",
    "store = hpotk.configure_ontology_store()\n",
    "hpo = store.load_minimal_hpo(release='v2023-10-09')\n",
    "print(f'Loaded HPO v{hpo.version}')\n",
    "print(f\"Using genophenocorr version {genophenocorr.__version__}\")\n"
   ],
   "outputs": [
    {
     "ename": "ModuleNotFoundError",
     "evalue": "No module named 'genophenocorr'",
     "output_type": "error",
     "traceback": [
      "\u001B[0;31m---------------------------------------------------------------------------\u001B[0m",
      "\u001B[0;31mModuleNotFoundError\u001B[0m                       Traceback (most recent call last)",
      "Cell \u001B[0;32mIn[11], line 1\u001B[0m\n\u001B[0;32m----> 1\u001B[0m \u001B[38;5;28;01mimport\u001B[39;00m \u001B[38;5;21;01mgenophenocorr\u001B[39;00m\n\u001B[1;32m      2\u001B[0m \u001B[38;5;28;01mfrom\u001B[39;00m \u001B[38;5;21;01mgenophenocorr\u001B[39;00m\u001B[38;5;21;01m.\u001B[39;00m\u001B[38;5;21;01manalysis\u001B[39;00m \u001B[38;5;28;01mimport\u001B[39;00m configure_cohort_analysis, CohortAnalysisConfiguration\n\u001B[1;32m      3\u001B[0m \u001B[38;5;28;01mfrom\u001B[39;00m \u001B[38;5;21;01mgenophenocorr\u001B[39;00m\u001B[38;5;21;01m.\u001B[39;00m\u001B[38;5;21;01manalysis\u001B[39;00m\u001B[38;5;21;01m.\u001B[39;00m\u001B[38;5;21;01mpredicate\u001B[39;00m \u001B[38;5;28;01mimport\u001B[39;00m PatientCategories\n",
      "\u001B[0;31mModuleNotFoundError\u001B[0m: No module named 'genophenocorr'"
     ]
    }
   ],
   "execution_count": 11
  },
  {
   "metadata": {},
   "cell_type": "markdown",
   "source": "### Loading Phenopackets & Gene Variant Data",
   "id": "7eb140bb442ce311"
  },
  {
   "metadata": {},
   "cell_type": "code",
   "outputs": [],
   "execution_count": null,
   "source": [
    "TBX5_MANE_transcript = 'NM_...'\n",
    "TBX5_protein_id = \"NP_...\"\n",
    "cohort_creator = configure_caching_cohort_creator(hpo, timeout=20)\n",
    "phenopacket_input_folder = \"../../../../GIT/phenopacket-store/notebooks/[GeneName]/phenopackets/\"\n",
    "cohort = load_phenopacket_folder(pp_directory=phenopacket_input_folder, cohort_creator=cohort_creator)"
   ],
   "id": "3558b37edaae915"
  },
  {
   "metadata": {
    "ExecuteTime": {
     "end_time": "2024-08-04T16:10:51.360760Z",
     "start_time": "2024-08-04T16:10:51.342784Z"
    }
   },
   "cell_type": "code",
   "source": [
    "cv = CohortViewable(hpo=hpo)\n",
    "html = cv.process(cohort=cohort, transcript_id=TBX5_MANE_transcript)\n",
    "display(HTML(html))"
   ],
   "id": "66335051091642fc",
   "outputs": [
    {
     "ename": "NameError",
     "evalue": "name 'CohortViewable' is not defined",
     "output_type": "error",
     "traceback": [
      "\u001B[0;31m---------------------------------------------------------------------------\u001B[0m",
      "\u001B[0;31mNameError\u001B[0m                                 Traceback (most recent call last)",
      "Cell \u001B[0;32mIn[12], line 1\u001B[0m\n\u001B[0;32m----> 1\u001B[0m cv \u001B[38;5;241m=\u001B[39m \u001B[43mCohortViewable\u001B[49m(hpo\u001B[38;5;241m=\u001B[39mhpo)\n\u001B[1;32m      2\u001B[0m html \u001B[38;5;241m=\u001B[39m cv\u001B[38;5;241m.\u001B[39mprocess(cohort\u001B[38;5;241m=\u001B[39mcohort, transcript_id\u001B[38;5;241m=\u001B[39mTBX5_MANE_transcript)\n\u001B[1;32m      3\u001B[0m display(HTML(html))\n",
      "\u001B[0;31mNameError\u001B[0m: name 'CohortViewable' is not defined"
     ]
    }
   ],
   "execution_count": 12
  },
  {
   "cell_type": "code",
   "execution_count": null,
   "id": "287bceae",
   "metadata": {},
   "outputs": [],
   "source": [
    "\n",
    "# Load data\n",
    "# Replace with actual data loading code\n",
    "variant_data = pd.read_csv('path_to_variant_data.csv')\n",
    "phenotype_data = pd.read_csv('path_to_phenotype_data.csv')\n"
   ]
  },
  {
   "cell_type": "code",
   "execution_count": null,
   "id": "4a05d498",
   "metadata": {},
   "outputs": [],
   "source": [
    "\n",
    "# Analyze specific variant\n",
    "variant_key = 'your_variant_key_here' # Replace with actual variant key\n",
    "# feature = analysis_function.compare_by_variant_key(variant_key=variant_key)\n",
    "# feature.summarize(phenotype_data, 'PatientCategories.YES') # Replace with actual function parameters as needed\n"
   ]
  },
  {
   "cell_type": "code",
   "execution_count": null,
   "id": "d6f9875d",
   "metadata": {},
   "outputs": [],
   "source": [
    "\n",
    "# Visualization\n",
    "# Replace with actual visualization code\n",
    "plt.figure(figsize=(10, 6))\n",
    "# sns.barplot(data=feature.results)\n",
    "plt.title('Phenotypic Features Associated with Variant')\n",
    "plt.show()\n"
   ]
  }
 ],
 "metadata": {
  "kernelspec": {
   "name": "python3",
   "language": "python",
   "display_name": "Python 3 (ipykernel)"
  }
 },
 "nbformat": 4,
 "nbformat_minor": 5
}
