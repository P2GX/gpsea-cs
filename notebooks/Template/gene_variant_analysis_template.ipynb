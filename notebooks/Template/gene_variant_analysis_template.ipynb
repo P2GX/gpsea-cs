{
 "cells": [
  {
   "cell_type": "markdown",
   "id": "dca4eea54d4d60dd",
   "metadata": {},
   "source": [
    "\n",
    "# Gene Variant Analysis Template\n",
    "\n",
    "This notebook is designed to analyze and visualize  the effects of a specific genetic variant on various phenotypic features. You need to fill in the following sections with actual code and data to perform the analysis.\n",
    "> Tip: Change all \"[GeneName]\" placeholders to the actual gene name you are analyzing."
   ]
  },
  {
   "metadata": {},
   "cell_type": "markdown",
   "source": [
    "# [GeneName] and Associated Syndrome\n",
    "\n",
    "<!-- Provide a brief overview of the syndrome and its genetic basis. Replace [Gene Name] and [Syndrome Name] with the specific gene and syndrome you are studying. -->\n",
    "\n",
    "[[Syndrome Name]](link_to_syndrome) is an [type of disease, e.g. autosomal dominant] disease characterized by [describe main features of the syndrome]. The syndrome is caused by pathogenic variants in the [[GeneName]](link_to_gene) gene.\n",
    "\n",
    "<!-- Summarize key findings from previous studies on genotype-phenotype correlations in the syndrome. -->\n",
    "\n",
    "One/Two/Several previous publications have reported candidate genotype-phenotype correlations in [Syndrome Name].\n",
    "\n",
    "<!-- Cite specific studies and their findings. Replace with relevant studies and findings for the specific gene and syndrome. -->\n",
    "\n",
    "[Author et al. (Year)](link_to_study) stated that:\n",
    "\n",
    "> [Quote relevant finding from the study]\n",
    "\n",
    "[Author et al. (Year)](link_to_study) stated that:\n",
    "\n",
    "> [Quote relevant finding from the study]\n",
    "\n",
    "[Author et al. (Year)](link_to_study) report:\n",
    "\n",
    "> [Quote relevant finding from the study]\n",
    "\n",
    "<!-- TODO: Add instructions for finding more comprehensive citations and explain the next steps in your analysis. -->\n",
    "\n",
    "TODO -- find a more comprehensive collection of citations for [GeneName]. At the end of the introduction for a gene, we would write something like this:\n",
    "\n",
    "> Example: Therefore, we tested missense vs other variants (inspection of the distribution of variants showed that the other variant categories in our dataset are [list other variant categories], all of which we deemed to be null variants for the purposes of this analysis). We also tested the two most common missense variants ([DETAILS]) for correlations.\n"
   ],
   "id": "478dbaa1"
  },
  {
   "metadata": {},
   "cell_type": "markdown",
   "source": "## Imports ",
   "id": "a9c0d26783554837"
  },
  {
   "cell_type": "code",
   "id": "87d3a3de",
   "metadata": {},
   "source": [
    "import genophenocorr\n",
    "from genophenocorr.analysis import configure_cohort_analysis, CohortAnalysisConfiguration\n",
    "from genophenocorr.analysis.predicate import PatientCategories\n",
    "from genophenocorr.preprocessing import load_phenopacket_folder\n",
    "from genophenocorr.preprocessing import configure_caching_cohort_creator\n",
    "from genophenocorr.model import FeatureType, VariantEffect\n",
    "from genophenocorr.view import CohortViewable\n",
    "from genophenocorr.preprocessing import UniprotProteinMetadataService\n",
    "from genophenocorr.model.genome import GRCh38\n",
    "from genophenocorr.preprocessing import VVTranscriptCoordinateService\n",
    "from genophenocorr.view import ProteinVisualizable, ProteinVisualizer, ProteinViewable\n",
    "import hpotk\n",
    "from IPython.display import display, HTML\n",
    "\n",
    "store = hpotk.configure_ontology_store()\n",
    "hpo = store.load_minimal_hpo(release='v2023-10-09')\n",
    "print(f'Loaded HPO v{hpo.version}')\n",
    "print(f\"Using genophenocorr version {genophenocorr.__version__}\")\n"
   ],
   "outputs": [],
   "execution_count": null
  },
  {
   "metadata": {},
   "cell_type": "markdown",
   "source": "## Loading Phenopackets & Gene Variant Data",
   "id": "7eb140bb442ce311"
  },
  {
   "metadata": {},
   "cell_type": "code",
   "source": [
    "[GeneName]_MANE_transcript = 'NM_...'\n",
    "[GeneName]_protein_id = \"NP_...\"\n",
    "cohort_creator = configure_caching_cohort_creator(hpo, timeout=20)\n",
    "phenopacket_input_folder = \"../../../../GIT/phenopacket-store/notebooks/[GeneName]/phenopackets/\"\n",
    "cohort = load_phenopacket_folder(pp_directory=phenopacket_input_folder, cohort_creator=cohort_creator)"
   ],
   "id": "3558b37edaae915",
   "outputs": [],
   "execution_count": null
  },
  {
   "metadata": {},
   "cell_type": "markdown",
   "source": "## Define Configuration & Run Analysis",
   "id": "a902ed94ac020687"
  },
  {
   "metadata": {},
   "cell_type": "code",
   "source": [
    "cv = CohortViewable(hpo=hpo)\n",
    "html = cv.process(cohort=cohort, transcript_id=[GeneName]_MANE_transcript)\n",
    "display(HTML(html))"
   ],
   "id": "66335051091642fc",
   "outputs": [],
   "execution_count": null
  },
  {
   "metadata": {},
   "cell_type": "code",
   "source": [
    "pms = UniprotProteinMetadataService()\n",
    "protein_meta = pms.annotate([GeneName]_protein_id)\n",
    "# TODO: Check Genome Build\n",
    "txc_service = VVTranscriptCoordinateService(genome_build=GRCh38)\n",
    "tx_coordinates = txc_service.fetch([GeneName]_MANE_transcript)\n",
    "pvis = ProteinVisualizable(tx_coordinates=tx_coordinates, protein_meta=protein_meta, cohort=cohort)"
   ],
   "id": "fb860b912df70c3e",
   "outputs": [],
   "execution_count": null
  },
  {
   "metadata": {},
   "cell_type": "code",
   "source": [
    "viewer = ProteinViewable()\n",
    "html_prot = viewer.process(cohort, pvis)\n",
    "display(HTML(html_prot))"
   ],
   "id": "204dcd4a17b4356a",
   "outputs": [],
   "execution_count": null
  },
  {
   "metadata": {},
   "cell_type": "code",
   "source": [
    "drawer = ProteinVisualizer()\n",
    "drawer.draw_fig(pvis=pvis);"
   ],
   "id": "e5734539916b2ffc",
   "outputs": [],
   "execution_count": null
  },
  {
   "metadata": {},
   "cell_type": "markdown",
   "source": "## Correlation Analysis",
   "id": "ecc5175bbf815262"
  },
  {
   "metadata": {},
   "cell_type": "code",
   "source": [
    "analysis_config = CohortAnalysisConfiguration()\n",
    "analysis_config.missing_implies_excluded = False\n",
    "# TODO: Check HPO_observed_frequency \n",
    "analysis_config.heuristic_strategy(threshold_HPO_observed_frequency=0.2)\n",
    "analysis = configure_cohort_analysis(cohort, hpo, config=analysis_config)"
   ],
   "id": "3f8a08b68ef9ee21",
   "outputs": [],
   "execution_count": null
  },
  {
   "metadata": {},
   "cell_type": "code",
   "source": [
    "from genophenocorr.model import FeatureType\n",
    "\n",
    "# TODO: Check compare_by_variant_effect parameters and/or variables \n",
    "frameshift = analysis.compare_by_variant_effect(VariantEffect.MISSENSE_VARIANT, tx_id=[GeneName]_MANE_transcript)\n",
    "frameshift.summarize(hpo, PatientCategories.YES)"
   ],
   "id": "39902a0a0861c7f2",
   "outputs": [],
   "execution_count": null
  },
  {
   "metadata": {},
   "cell_type": "code",
   "source": [
    "# TODO: Check compare_by_variant_key parameters and/or variables\n",
    "feature = analysis.compare_by_variant_key(variant_key=\"12_114385521_114385521_C_T\")\n",
    "feature.summarize(hpo, PatientCategories.YES)"
   ],
   "id": "cbbccfc7655bbe04",
   "outputs": [],
   "execution_count": null
  },
  {
   "metadata": {},
   "cell_type": "code",
   "source": [
    "# TODO: Check compare_by_variant_key parameters and/or variables\n",
    "feature = analysis.compare_by_variant_key(variant_key=\"12_114401830_114401830_C_T\")\n",
    "feature.summarize(hpo, PatientCategories.YES)"
   ],
   "id": "73d057bed177f6d4",
   "outputs": [],
   "execution_count": null
  },
  {
   "metadata": {},
   "cell_type": "code",
   "source": "",
   "id": "a35ffca2a5ebd1d4",
   "outputs": [],
   "execution_count": null
  }
 ],
 "metadata": {
  "kernelspec": {
   "name": "python3",
   "language": "python",
   "display_name": "Python 3 (ipykernel)"
  }
 },
 "nbformat": 4,
 "nbformat_minor": 5
}
