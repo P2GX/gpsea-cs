{
 "cells": [
  {
   "cell_type": "markdown",
   "id": "dca4eea54d4d60dd",
   "metadata": {},
   "source": [
    "# GPC-CS Template\n",
    "\n",
    "This notebook is designed to analyze and visualize  the effects of a specific genetic variant on various phenotypic features. You need to fill in the following sections with actual code and data to perform the analysis.\n",
    "> Tip: Change all \"[GeneName]\" placeholders to the actual gene name you are analyzing."
   ]
  },
  {
   "cell_type": "markdown",
   "id": "478dbaa1",
   "metadata": {},
   "source": [
    "# CNTNAP2\n",
    "\n",
    "[Pitt-Hopkins like syndrome 1 (PTHSL1)](https://omim.org/entry/610042) is  an autosomal recessive neurodevelopmental disorder. The syndrome is caused by pathogenic variants in the [CNTNAP2](https://omim.org/entry/604569) gene.\n",
    "\n",
    "<!-- Summarize key findings from previous studies on genotype-phenotype correlations in the syndrome. -->\n",
    "\n",
    "One/Two/Several previous publications have reported candidate genotype-phenotype correlations in [Syndrome Name].\n",
    "\n",
    "<!-- Cite specific studies and their findings. Replace with relevant studies and findings for the specific gene and syndrome. -->\n",
    "\n",
    "[D'Onofrio et al. (2023)](https://pubmed.ncbi.nlm.nih.gov/37183190/) compared monoallelic and biallelic cases:\n",
    "\n",
    "> Overall, GDD (p < 0.0001), epilepsy (p < 0.0001), hyporeflexia (p = 0.012), ASD (p = 0.009), language impairment (p = 0.020) and severe cognitive impairment (p = 0.031) were significantly associated with the presence of biallelic versus monoallelic variants.\n",
    "\n",
    "> Therefore, we tested the phenotypic spectrum of cases with monoallelic and biallelic variants in CNTNAP2. We curated all of the cases used in the \n",
    "[D'Onofrio et al. (2023)](https://pubmed.ncbi.nlm.nih.gov/37183190/) publication."
   ]
  },
  {
   "cell_type": "markdown",
   "id": "a9c0d26783554837",
   "metadata": {},
   "source": [
    "## Imports "
   ]
  },
  {
   "cell_type": "code",
   "execution_count": 1,
   "id": "87d3a3de",
   "metadata": {
    "ExecuteTime": {
     "end_time": "2024-08-04T16:35:00.450742Z",
     "start_time": "2024-08-04T16:35:00.421663Z"
    }
   },
   "outputs": [
    {
     "name": "stdout",
     "output_type": "stream",
     "text": [
      "Loaded HPO v2023-10-09\n",
      "Using genophenocorr version 0.1.1dev\n"
     ]
    }
   ],
   "source": [
    "import genophenocorr\n",
    "from genophenocorr.analysis import configure_cohort_analysis, CohortAnalysisConfiguration\n",
    "from genophenocorr.analysis.predicate import PatientCategories\n",
    "from genophenocorr.preprocessing import load_phenopacket_folder\n",
    "from genophenocorr.preprocessing import configure_caching_cohort_creator\n",
    "from genophenocorr.model import FeatureType, VariantEffect\n",
    "from genophenocorr.view import CohortViewable\n",
    "from genophenocorr.preprocessing import UniprotProteinMetadataService\n",
    "from genophenocorr.model.genome import GRCh38\n",
    "from genophenocorr.preprocessing import VVMultiCoordinateService\n",
    "from genophenocorr.view import ProteinVisualizable, ProteinVisualizer, ProteinViewable\n",
    "import hpotk\n",
    "from IPython.display import display, HTML\n",
    "\n",
    "store = hpotk.configure_ontology_store()\n",
    "hpo = store.load_minimal_hpo(release='v2023-10-09')\n",
    "print(f'Loaded HPO v{hpo.version}')\n",
    "print(f\"Using genophenocorr version {genophenocorr.__version__}\")\n"
   ]
  },
  {
   "cell_type": "markdown",
   "id": "7eb140bb442ce311",
   "metadata": {},
   "source": [
    "## Loading Phenopackets & Gene Variant Data\n",
    "The prefered transcript can be found by searching on the gene symbol in [ClinVar](https://www.ncbi.nlm.nih.gov/clinvar/). By entering the accession number in [NCBI Nucleotide](https://www.ncbi.nlm.nih.gov/nuccore/?), you can find the corresponding protein accession number."
   ]
  },
  {
   "cell_type": "code",
   "execution_count": 2,
   "id": "3558b37edaae915",
   "metadata": {},
   "outputs": [
    {
     "ename": "SyntaxError",
     "evalue": "invalid syntax (2699549713.py, line 1)",
     "output_type": "error",
     "traceback": [
      "\u001b[0;36m  Cell \u001b[0;32mIn[2], line 1\u001b[0;36m\u001b[0m\n\u001b[0;31m    [GeneName]_MANE_transcript = 'NM_...'\u001b[0m\n\u001b[0m              ^\u001b[0m\n\u001b[0;31mSyntaxError\u001b[0m\u001b[0;31m:\u001b[0m invalid syntax\n"
     ]
    }
   ],
   "source": [
    "[GeneName]_MANE_transcript = 'NM_...'\n",
    "[GeneName]_protein_id = \"NP_...\"\n",
    "cohort_creator = configure_caching_cohort_creator(hpo, timeout=20)\n",
    "phenopacket_input_folder = \"../../../../GIT/phenopacket-store/notebooks/[GeneName]/phenopackets/\"\n",
    "cohort = load_phenopacket_folder(pp_directory=phenopacket_input_folder, cohort_creator=cohort_creator)"
   ]
  },
  {
   "cell_type": "markdown",
   "id": "a902ed94ac020687",
   "metadata": {},
   "source": [
    "## Define Configuration & Run Analysis"
   ]
  },
  {
   "cell_type": "code",
   "execution_count": null,
   "id": "66335051091642fc",
   "metadata": {},
   "outputs": [],
   "source": [
    "cv = CohortViewable(hpo=hpo)\n",
    "html = cv.process(cohort=cohort, transcript_id=[GeneName]_MANE_transcript)\n",
    "display(HTML(html))"
   ]
  },
  {
   "cell_type": "code",
   "execution_count": null,
   "id": "fb860b912df70c3e",
   "metadata": {},
   "outputs": [],
   "source": [
    "pms = UniprotProteinMetadataService()\n",
    "protein_meta = pms.annotate([GeneName]_protein_id)\n",
    "# TODO: Check Genome Build\n",
    "txc_service = VVMultiCoordinateService(genome_build=GRCh38)\n",
    "tx_coordinates = txc_service.fetch([GeneName]_MANE_transcript)\n",
    "pvis = ProteinVisualizable(tx_coordinates=tx_coordinates, protein_meta=protein_meta, cohort=cohort)"
   ]
  },
  {
   "cell_type": "code",
   "execution_count": null,
   "id": "204dcd4a17b4356a",
   "metadata": {},
   "outputs": [],
   "source": [
    "viewer = ProteinViewable()\n",
    "html_prot = viewer.process(cohort, pvis)\n",
    "display(HTML(html_prot))"
   ]
  },
  {
   "cell_type": "code",
   "execution_count": null,
   "id": "e5734539916b2ffc",
   "metadata": {},
   "outputs": [],
   "source": [
    "drawer = ProteinVisualizer()\n",
    "drawer.draw_fig(pvis=pvis);"
   ]
  },
  {
   "cell_type": "markdown",
   "id": "ecc5175bbf815262",
   "metadata": {},
   "source": [
    "## Correlation Analysis"
   ]
  },
  {
   "cell_type": "code",
   "execution_count": null,
   "id": "3f8a08b68ef9ee21",
   "metadata": {},
   "outputs": [],
   "source": [
    "analysis_config = CohortAnalysisConfiguration()\n",
    "analysis_config.missing_implies_excluded = False\n",
    "# TODO: Check HPO_observed_frequency \n",
    "analysis_config.heuristic_strategy(threshold_HPO_observed_frequency=0.2)\n",
    "analysis = configure_cohort_analysis(cohort, hpo, config=analysis_config)"
   ]
  },
  {
   "cell_type": "code",
   "execution_count": null,
   "id": "39902a0a0861c7f2",
   "metadata": {},
   "outputs": [],
   "source": [
    "from genophenocorr.model import FeatureType\n",
    "\n",
    "# TODO: Check compare_by_variant_effect parameters and/or variables \n",
    "frameshift = analysis.compare_by_variant_effect(VariantEffect.MISSENSE_VARIANT, tx_id=[GeneName]_MANE_transcript)\n",
    "frameshift.summarize(hpo, PatientCategories.YES)"
   ]
  },
  {
   "cell_type": "code",
   "execution_count": null,
   "id": "cbbccfc7655bbe04",
   "metadata": {},
   "outputs": [],
   "source": [
    "# TODO: Check compare_by_variant_key parameters and/or variables\n",
    "feature = analysis.compare_by_variant_key(variant_key=\"12_114385521_114385521_C_T\")\n",
    "feature.summarize(hpo, PatientCategories.YES)"
   ]
  },
  {
   "cell_type": "code",
   "execution_count": null,
   "id": "73d057bed177f6d4",
   "metadata": {},
   "outputs": [],
   "source": [
    "# TODO: Check compare_by_variant_key parameters and/or variables\n",
    "feature = analysis.compare_by_variant_key(variant_key=\"12_114401830_114401830_C_T\")\n",
    "feature.summarize(hpo, PatientCategories.YES)"
   ]
  },
  {
   "cell_type": "code",
   "execution_count": null,
   "id": "a35ffca2a5ebd1d4",
   "metadata": {},
   "outputs": [],
   "source": []
  }
 ],
 "metadata": {
  "kernelspec": {
   "display_name": "Python 3 (ipykernel)",
   "language": "python",
   "name": "python3"
  },
  "language_info": {
   "codemirror_mode": {
    "name": "ipython",
    "version": 3
   },
   "file_extension": ".py",
   "mimetype": "text/x-python",
   "name": "python",
   "nbconvert_exporter": "python",
   "pygments_lexer": "ipython3",
   "version": "3.12.4"
  }
 },
 "nbformat": 4,
 "nbformat_minor": 5
}
