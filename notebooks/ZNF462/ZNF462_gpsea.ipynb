{
 "cells": [
  {
   "cell_type": "markdown",
   "metadata": {},
   "source": [
    "# ZNF462\n",
    "[Weiss-Kruszka syndrome (WSKA)](https://omim.org/entry/618619) is caused by heterozygous mutation in the [ZNF462](https://omim.org/entry/617371) gene."
   ]
  },
  {
   "cell_type": "code",
   "execution_count": 1,
   "metadata": {},
   "outputs": [
    {
     "name": "stdout",
     "output_type": "stream",
     "text": [
      "Loaded HPO v2024-08-13\n",
      "Using gpsea version 0.3.1.dev0\n"
     ]
    }
   ],
   "source": [
    "import gpsea\n",
    "import hpotk\n",
    "from IPython.display import display, HTML\n",
    "\n",
    "store = hpotk.configure_ontology_store()\n",
    "hpo = store.load_minimal_hpo()\n",
    "print(f'Loaded HPO v{hpo.version}')\n",
    "print(f\"Using gpsea version {gpsea.__version__}\")"
   ]
  },
  {
   "cell_type": "code",
   "execution_count": 2,
   "metadata": {},
   "outputs": [
    {
     "name": "stdout",
     "output_type": "stream",
     "text": [
      "[pyphetools] Ingested 39 GA4GH phenopackets.\n",
      "Imported 39 phenopackets from cohort ZNF462\n"
     ]
    }
   ],
   "source": [
    "from pyphetools.visualization import PhenopacketIngestor\n",
    "znf462_dir = \"/Users/robin/GIT/phenopacket-store/notebooks/ZNF462/phenopackets\"\n",
    "import os \n",
    "if not os.path.isdir(znf462_dir):\n",
    "     raise FileNotFoundError(f\"Could not find {znf462_dir}.\")                \n",
    "ingestor = PhenopacketIngestor(indir=znf462_dir)\n",
    "phenopackets = ingestor.get_phenopacket_list()\n",
    "cohort_name = \"ZNF462\"\n",
    "\n",
    "print(f\"Imported {len(phenopackets)} phenopackets from cohort {cohort_name}\")"
   ]
  },
  {
   "cell_type": "code",
   "execution_count": 3,
   "metadata": {},
   "outputs": [
    {
     "name": "stdout",
     "output_type": "stream",
     "text": [
      "Patients Created:  28%|██▊       | 11/39 [00:34<01:28,  3.17s/it]\n"
     ]
    },
    {
     "ename": "ValueError",
     "evalue": "Unknown structural type SO:1000044",
     "output_type": "error",
     "traceback": [
      "\u001b[0;31m---------------------------------------------------------------------------\u001b[0m",
      "\u001b[0;31mValueError\u001b[0m                                Traceback (most recent call last)",
      "Cell \u001b[0;32mIn[3], line 3\u001b[0m\n\u001b[1;32m      1\u001b[0m \u001b[38;5;28;01mfrom\u001b[39;00m \u001b[38;5;21;01mgpsea\u001b[39;00m\u001b[38;5;21;01m.\u001b[39;00m\u001b[38;5;21;01mpreprocessing\u001b[39;00m \u001b[38;5;28;01mimport\u001b[39;00m configure_caching_cohort_creator, load_phenopackets\n\u001b[1;32m      2\u001b[0m cohort_creator \u001b[38;5;241m=\u001b[39m configure_caching_cohort_creator(hpo)\n\u001b[0;32m----> 3\u001b[0m cohort, validation \u001b[38;5;241m=\u001b[39m \u001b[43mload_phenopackets\u001b[49m\u001b[43m(\u001b[49m\u001b[43mphenopackets\u001b[49m\u001b[38;5;241;43m=\u001b[39;49m\u001b[43mphenopackets\u001b[49m\u001b[43m,\u001b[49m\u001b[43mcohort_creator\u001b[49m\u001b[38;5;241;43m=\u001b[39;49m\u001b[43mcohort_creator\u001b[49m\u001b[43m,\u001b[49m\u001b[43m)\u001b[49m\n",
      "File \u001b[0;32m~/GIT/gpsea/src/gpsea/preprocessing/_config.py:460\u001b[0m, in \u001b[0;36mload_phenopackets\u001b[0;34m(phenopackets, cohort_creator, validation_policy)\u001b[0m\n\u001b[1;32m    458\u001b[0m cohort_iter \u001b[38;5;241m=\u001b[39m tqdm(phenopackets, desc\u001b[38;5;241m=\u001b[39m\u001b[38;5;124m\"\u001b[39m\u001b[38;5;124mPatients Created\u001b[39m\u001b[38;5;124m\"\u001b[39m, file\u001b[38;5;241m=\u001b[39msys\u001b[38;5;241m.\u001b[39mstdout)\n\u001b[1;32m    459\u001b[0m notepad \u001b[38;5;241m=\u001b[39m cohort_creator\u001b[38;5;241m.\u001b[39mprepare_notepad(\u001b[38;5;124m\"\u001b[39m\u001b[38;5;124mPhenopackets\u001b[39m\u001b[38;5;124m\"\u001b[39m)\n\u001b[0;32m--> 460\u001b[0m cohort \u001b[38;5;241m=\u001b[39m \u001b[43mcohort_creator\u001b[49m\u001b[38;5;241;43m.\u001b[39;49m\u001b[43mprocess\u001b[49m\u001b[43m(\u001b[49m\u001b[43mcohort_iter\u001b[49m\u001b[43m,\u001b[49m\u001b[43m \u001b[49m\u001b[43mnotepad\u001b[49m\u001b[43m)\u001b[49m\n\u001b[1;32m    462\u001b[0m validation_result \u001b[38;5;241m=\u001b[39m PreprocessingValidationResult(\n\u001b[1;32m    463\u001b[0m     policy\u001b[38;5;241m=\u001b[39mvalidation_policy,\n\u001b[1;32m    464\u001b[0m     notepad\u001b[38;5;241m=\u001b[39mnotepad,\n\u001b[1;32m    465\u001b[0m )\n\u001b[1;32m    467\u001b[0m \u001b[38;5;28;01mreturn\u001b[39;00m cohort, validation_result\n",
      "File \u001b[0;32m~/GIT/gpsea/src/gpsea/preprocessing/_patient.py:46\u001b[0m, in \u001b[0;36mCohortCreator.process\u001b[0;34m(self, inputs, notepad)\u001b[0m\n\u001b[1;32m     44\u001b[0m \u001b[38;5;28;01mfor\u001b[39;00m i, pp \u001b[38;5;129;01min\u001b[39;00m \u001b[38;5;28menumerate\u001b[39m(inputs):\n\u001b[1;32m     45\u001b[0m     sub \u001b[38;5;241m=\u001b[39m notepad\u001b[38;5;241m.\u001b[39madd_subsection(\u001b[38;5;124mf\u001b[39m\u001b[38;5;124m'\u001b[39m\u001b[38;5;124mpatient #\u001b[39m\u001b[38;5;132;01m{\u001b[39;00mi\u001b[38;5;132;01m}\u001b[39;00m\u001b[38;5;124m'\u001b[39m)\n\u001b[0;32m---> 46\u001b[0m     patient \u001b[38;5;241m=\u001b[39m \u001b[38;5;28;43mself\u001b[39;49m\u001b[38;5;241;43m.\u001b[39;49m\u001b[43m_pc\u001b[49m\u001b[38;5;241;43m.\u001b[39;49m\u001b[43mprocess\u001b[49m\u001b[43m(\u001b[49m\u001b[43mpp\u001b[49m\u001b[43m,\u001b[49m\u001b[43m \u001b[49m\u001b[43msub\u001b[49m\u001b[43m)\u001b[49m\n\u001b[1;32m     47\u001b[0m     \u001b[38;5;28;01mif\u001b[39;00m patient\u001b[38;5;241m.\u001b[39mlabels \u001b[38;5;129;01min\u001b[39;00m patient_labels:\n\u001b[1;32m     48\u001b[0m         duplicate_pat_labels\u001b[38;5;241m.\u001b[39madd(patient\u001b[38;5;241m.\u001b[39mlabels)\n",
      "File \u001b[0;32m~/GIT/gpsea/src/gpsea/preprocessing/_phenopacket.py:309\u001b[0m, in \u001b[0;36mPhenopacketPatientCreator.process\u001b[0;34m(self, pp, notepad)\u001b[0m\n\u001b[1;32m    307\u001b[0m \u001b[38;5;66;03m# Check variants\u001b[39;00m\n\u001b[1;32m    308\u001b[0m vs \u001b[38;5;241m=\u001b[39m notepad\u001b[38;5;241m.\u001b[39madd_subsection(\u001b[38;5;124m\"\u001b[39m\u001b[38;5;124mvariants\u001b[39m\u001b[38;5;124m\"\u001b[39m)\n\u001b[0;32m--> 309\u001b[0m variants \u001b[38;5;241m=\u001b[39m \u001b[38;5;28;43mself\u001b[39;49m\u001b[38;5;241;43m.\u001b[39;49m\u001b[43m_add_variants\u001b[49m\u001b[43m(\u001b[49m\u001b[43msample_id\u001b[49m\u001b[43m,\u001b[49m\u001b[43m \u001b[49m\u001b[43mpp\u001b[49m\u001b[43m,\u001b[49m\u001b[43m \u001b[49m\u001b[43mvs\u001b[49m\u001b[43m)\u001b[49m\n\u001b[1;32m    311\u001b[0m \u001b[38;5;28;01mreturn\u001b[39;00m Patient\u001b[38;5;241m.\u001b[39mfrom_raw_parts(\n\u001b[1;32m    312\u001b[0m     sample_id,\n\u001b[1;32m    313\u001b[0m     sex\u001b[38;5;241m=\u001b[39msex,\n\u001b[0;32m   (...)\u001b[0m\n\u001b[1;32m    316\u001b[0m     diseases\u001b[38;5;241m=\u001b[39mdiseases,\n\u001b[1;32m    317\u001b[0m )\n",
      "File \u001b[0;32m~/GIT/gpsea/src/gpsea/preprocessing/_phenopacket.py:394\u001b[0m, in \u001b[0;36mPhenopacketPatientCreator._add_variants\u001b[0;34m(self, sample_id, pp, notepad)\u001b[0m\n\u001b[1;32m    388\u001b[0m     sub_note\u001b[38;5;241m.\u001b[39madd_warning(\n\u001b[1;32m    389\u001b[0m         \u001b[38;5;124m\"\u001b[39m\u001b[38;5;124mCould not extract genotype from genomic interpretation\u001b[39m\u001b[38;5;124m\"\u001b[39m,\n\u001b[1;32m    390\u001b[0m         \u001b[38;5;124m\"\u001b[39m\u001b[38;5;124mRemove variant from testing\u001b[39m\u001b[38;5;124m\"\u001b[39m,\n\u001b[1;32m    391\u001b[0m     )\n\u001b[1;32m    392\u001b[0m     \u001b[38;5;28;01mcontinue\u001b[39;00m\n\u001b[0;32m--> 394\u001b[0m variant_info \u001b[38;5;241m=\u001b[39m \u001b[38;5;28;43mself\u001b[39;49m\u001b[38;5;241;43m.\u001b[39;49m\u001b[43m_extract_variant_info\u001b[49m\u001b[43m(\u001b[49m\n\u001b[1;32m    395\u001b[0m \u001b[43m    \u001b[49m\u001b[43msample_id\u001b[49m\u001b[43m,\u001b[49m\u001b[43m \u001b[49m\u001b[43mgenomic_interpretation\u001b[49m\u001b[43m,\u001b[49m\u001b[43m \u001b[49m\u001b[43msub_note\u001b[49m\n\u001b[1;32m    396\u001b[0m \u001b[43m\u001b[49m\u001b[43m)\u001b[49m\n\u001b[1;32m    397\u001b[0m \u001b[38;5;28;01mif\u001b[39;00m variant_info \u001b[38;5;129;01mis\u001b[39;00m \u001b[38;5;28;01mNone\u001b[39;00m:\n\u001b[1;32m    398\u001b[0m     \u001b[38;5;66;03m# We already complained in the extract function\u001b[39;00m\n\u001b[1;32m    399\u001b[0m     \u001b[38;5;28;01mcontinue\u001b[39;00m\n",
      "File \u001b[0;32m~/GIT/gpsea/src/gpsea/preprocessing/_phenopacket.py:473\u001b[0m, in \u001b[0;36mPhenopacketPatientCreator._extract_variant_info\u001b[0;34m(self, sample_id, genomic_interpretation, notepad)\u001b[0m\n\u001b[1;32m    470\u001b[0m     \u001b[38;5;28;01mreturn\u001b[39;00m \u001b[38;5;28;01mNone\u001b[39;00m\n\u001b[1;32m    472\u001b[0m \u001b[38;5;28;01mif\u001b[39;00m variant_coordinates \u001b[38;5;129;01mis\u001b[39;00m \u001b[38;5;28;01mNone\u001b[39;00m:\n\u001b[0;32m--> 473\u001b[0m     sv_info \u001b[38;5;241m=\u001b[39m \u001b[38;5;28;43mself\u001b[39;49m\u001b[38;5;241;43m.\u001b[39;49m\u001b[43m_map_to_imprecise_sv\u001b[49m\u001b[43m(\u001b[49m\u001b[43mgenomic_interpretation\u001b[49m\u001b[43m)\u001b[49m\n\u001b[1;32m    474\u001b[0m     \u001b[38;5;28;01mif\u001b[39;00m sv_info \u001b[38;5;129;01mis\u001b[39;00m \u001b[38;5;28;01mNone\u001b[39;00m:\n\u001b[1;32m    475\u001b[0m         notepad\u001b[38;5;241m.\u001b[39madd_warning(\n\u001b[1;32m    476\u001b[0m             \u001b[38;5;124m\"\u001b[39m\u001b[38;5;124mCould not extract the information for large SV annotation\u001b[39m\u001b[38;5;124m\"\u001b[39m,\n\u001b[1;32m    477\u001b[0m             \u001b[38;5;124m\"\u001b[39m\u001b[38;5;124mRemove variant from testing\u001b[39m\u001b[38;5;124m\"\u001b[39m,\n\u001b[1;32m    478\u001b[0m         )\n",
      "File \u001b[0;32m~/GIT/gpsea/src/gpsea/preprocessing/_phenopacket.py:508\u001b[0m, in \u001b[0;36mPhenopacketPatientCreator._map_to_imprecise_sv\u001b[0;34m(self, genomic_interpretation)\u001b[0m\n\u001b[1;32m    506\u001b[0m         \u001b[38;5;28;01mif\u001b[39;00m structural_type \u001b[38;5;129;01mis\u001b[39;00m \u001b[38;5;129;01mnot\u001b[39;00m \u001b[38;5;28;01mNone\u001b[39;00m \u001b[38;5;129;01mand\u001b[39;00m gene_context \u001b[38;5;129;01mis\u001b[39;00m \u001b[38;5;129;01mnot\u001b[39;00m \u001b[38;5;28;01mNone\u001b[39;00m:\n\u001b[1;32m    507\u001b[0m             st \u001b[38;5;241m=\u001b[39m hpotk\u001b[38;5;241m.\u001b[39mTermId\u001b[38;5;241m.\u001b[39mfrom_curie(curie\u001b[38;5;241m=\u001b[39mstructural_type\u001b[38;5;241m.\u001b[39mid)\n\u001b[0;32m--> 508\u001b[0m             variant_class \u001b[38;5;241m=\u001b[39m \u001b[38;5;28;43mself\u001b[39;49m\u001b[38;5;241;43m.\u001b[39;49m\u001b[43m_map_structural_type_to_variant_class\u001b[49m\u001b[43m(\u001b[49m\u001b[43mst\u001b[49m\u001b[43m)\u001b[49m\n\u001b[1;32m    509\u001b[0m             \u001b[38;5;28;01mreturn\u001b[39;00m ImpreciseSvInfo(\n\u001b[1;32m    510\u001b[0m                 structural_type\u001b[38;5;241m=\u001b[39mst,\n\u001b[1;32m    511\u001b[0m                 variant_class\u001b[38;5;241m=\u001b[39mvariant_class,\n\u001b[1;32m    512\u001b[0m                 gene_id\u001b[38;5;241m=\u001b[39mgene_context\u001b[38;5;241m.\u001b[39mvalue_id,\n\u001b[1;32m    513\u001b[0m                 gene_symbol\u001b[38;5;241m=\u001b[39mgene_context\u001b[38;5;241m.\u001b[39msymbol,\n\u001b[1;32m    514\u001b[0m             )\n\u001b[1;32m    516\u001b[0m \u001b[38;5;28;01mreturn\u001b[39;00m \u001b[38;5;28;01mNone\u001b[39;00m\n",
      "File \u001b[0;32m~/GIT/gpsea/src/gpsea/preprocessing/_phenopacket.py:532\u001b[0m, in \u001b[0;36mPhenopacketPatientCreator._map_structural_type_to_variant_class\u001b[0;34m(self, structural_type)\u001b[0m\n\u001b[1;32m    530\u001b[0m         \u001b[38;5;28;01mreturn\u001b[39;00m VariantClass\u001b[38;5;241m.\u001b[39mDUP\n\u001b[1;32m    531\u001b[0m     \u001b[38;5;28;01melse\u001b[39;00m:\n\u001b[0;32m--> 532\u001b[0m         \u001b[38;5;28;01mraise\u001b[39;00m \u001b[38;5;167;01mValueError\u001b[39;00m(\u001b[38;5;124mf\u001b[39m\u001b[38;5;124m\"\u001b[39m\u001b[38;5;124mUnknown structural type \u001b[39m\u001b[38;5;132;01m{\u001b[39;00mstructural_type\u001b[38;5;132;01m}\u001b[39;00m\u001b[38;5;124m\"\u001b[39m)\n\u001b[1;32m    533\u001b[0m \u001b[38;5;28;01melse\u001b[39;00m:\n\u001b[1;32m    534\u001b[0m     \u001b[38;5;28;01mraise\u001b[39;00m \u001b[38;5;167;01mValueError\u001b[39;00m(\u001b[38;5;124mf\u001b[39m\u001b[38;5;124m\"\u001b[39m\u001b[38;5;124mUnknown structural type \u001b[39m\u001b[38;5;132;01m{\u001b[39;00mstructural_type\u001b[38;5;132;01m}\u001b[39;00m\u001b[38;5;124m\"\u001b[39m)\n",
      "\u001b[0;31mValueError\u001b[0m: Unknown structural type SO:1000044"
     ]
    }
   ],
   "source": [
    "from gpsea.preprocessing import configure_caching_cohort_creator, load_phenopackets\n",
    "cohort_creator = configure_caching_cohort_creator(hpo)\n",
    "cohort, validation = load_phenopackets(phenopackets=phenopackets,cohort_creator=cohort_creator,)"
   ]
  }
 ],
 "metadata": {
  "kernelspec": {
   "display_name": "venv",
   "language": "python",
   "name": "python3"
  },
  "language_info": {
   "codemirror_mode": {
    "name": "ipython",
    "version": 3
   },
   "file_extension": ".py",
   "mimetype": "text/x-python",
   "name": "python",
   "nbconvert_exporter": "python",
   "pygments_lexer": "ipython3",
   "version": "3.12.4"
  }
 },
 "nbformat": 4,
 "nbformat_minor": 2
}
