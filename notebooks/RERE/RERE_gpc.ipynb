{
 "cells": [
  {
   "cell_type": "markdown",
   "id": "9647946a",
   "metadata": {},
   "source": [
    "# Arginine-glutamic acid dipeptide repeats (RERE)\n",
    "\n",
    "The Arginine-glutamic acid dipeptide repeats (RERE) RERE gene encodes a nuclear receptor coregulator that positively regulates retinoic acid signaling [Fregeau et al., 2016](https://pubmed.ncbi.nlm.nih.gov/27087320/). A high percentage of RERE pathogenic variants affect a 21 amino acid (amino acids 1425–1445), histidine-rich region of the Atrophin-1 domain [Jordan et al., 2018](https://pubmed.ncbi.nlm.nih.gov/29330883/). The authors noted that Of the 19 individuals with NEDBEH described here and by Fregeau et al. (2016), nine (47%) carry sequence variants that affect a histidine-rich region of the Atrophin-1 domain that spans 21 amino acids (1425– 1445). The amino acid sequence in this region is 100% conserved down to Xenopus and zebrafish, but the functional significance of this domain is currently unknown.\n",
    "\n",
    "Let us try to reproduce Table 3 of https://www.ncbi.nlm.nih.gov/pmc/articles/PMC5903952/\n",
    "To do this, we will want to use (for instance)  Abnormal brain morphology HP:0012443 for \"Brain anomalies\", and use the MTC feature that tests only one term at a time (this will mean no Bonferroni is applied, just as in the original publication).  \n",
    "\n",
    "Take a look at \"analysis_config.specify_terms_strategy()\"\n",
    "Do this once for each of the items in Table 3 with the appropriate HPO term.\n",
    "Presumably, we will also not achieve statistical significance, but if we get a comparable result as the authors, this will be fine.\n",
    "\n",
    "As a stretch goal, we can figure out how to do \"Number of defects per individual\"\n"
   ]
  },
  {
   "cell_type": "code",
   "execution_count": 1,
   "id": "3e5fb63c-37eb-41c6-a98f-907bd1bc7de4",
   "metadata": {},
   "outputs": [
    {
     "name": "stdout",
     "output_type": "stream",
     "text": [
      "Loaded HPO v2023-10-09\n",
      "Using genophenocorr version 0.1.1dev\n"
     ]
    }
   ],
   "source": [
    "import genophenocorr\n",
    "from genophenocorr.preprocessing import load_phenopacket_folder\n",
    "from genophenocorr.preprocessing import configure_caching_cohort_creator\n",
    "import hpotk\n",
    "\n",
    "store = hpotk.configure_ontology_store()\n",
    "hpo = store.load_minimal_hpo(release='v2023-10-09')\n",
    "print(f'Loaded HPO v{hpo.version}')\n",
    "print(f\"Using genophenocorr version {genophenocorr.__version__}\")"
   ]
  },
  {
   "cell_type": "code",
   "execution_count": 2,
   "id": "450177cb-5c82-4eee-82fa-df80e1a6fa2b",
   "metadata": {},
   "outputs": [
    {
     "ename": "ValueError",
     "evalue": "`/Users/robin/PycharmProjects/phenopacket-store/notebooks/RERE/phenopackets` does not point to a directory",
     "output_type": "error",
     "traceback": [
      "\u001b[0;31m---------------------------------------------------------------------------\u001b[0m",
      "\u001b[0;31mValueError\u001b[0m                                Traceback (most recent call last)",
      "Cell \u001b[0;32mIn[2], line 5\u001b[0m\n\u001b[1;32m      3\u001b[0m cohort_creator \u001b[38;5;241m=\u001b[39m configure_caching_cohort_creator(hpo, timeout\u001b[38;5;241m=\u001b[39m\u001b[38;5;241m20\u001b[39m)\n\u001b[1;32m      4\u001b[0m phenopacket_input_folder \u001b[38;5;241m=\u001b[39m \u001b[38;5;124m\"\u001b[39m\u001b[38;5;124m../../../phenopacket-store/notebooks/RERE/phenopackets/\u001b[39m\u001b[38;5;124m\"\u001b[39m\n\u001b[0;32m----> 5\u001b[0m cohort \u001b[38;5;241m=\u001b[39m \u001b[43mload_phenopacket_folder\u001b[49m\u001b[43m(\u001b[49m\u001b[43mpp_directory\u001b[49m\u001b[38;5;241;43m=\u001b[39;49m\u001b[43mphenopacket_input_folder\u001b[49m\u001b[43m,\u001b[49m\u001b[43m \u001b[49m\u001b[43mcohort_creator\u001b[49m\u001b[38;5;241;43m=\u001b[39;49m\u001b[43mcohort_creator\u001b[49m\u001b[43m)\u001b[49m\n",
      "File \u001b[0;32m~/PycharmProjects/genophenocorr/src/genophenocorr/preprocessing/_config.py:232\u001b[0m, in \u001b[0;36mload_phenopacket_folder\u001b[0;34m(pp_directory, cohort_creator, validation_policy)\u001b[0m\n\u001b[1;32m    230\u001b[0m fpath_pp_abs \u001b[38;5;241m=\u001b[39m os\u001b[38;5;241m.\u001b[39mpath\u001b[38;5;241m.\u001b[39mabspath(pp_directory)\n\u001b[1;32m    231\u001b[0m \u001b[38;5;28;01mif\u001b[39;00m \u001b[38;5;129;01mnot\u001b[39;00m os\u001b[38;5;241m.\u001b[39mpath\u001b[38;5;241m.\u001b[39misdir(fpath_pp_abs):\n\u001b[0;32m--> 232\u001b[0m     \u001b[38;5;28;01mraise\u001b[39;00m \u001b[38;5;167;01mValueError\u001b[39;00m(\u001b[38;5;124mf\u001b[39m\u001b[38;5;124m'\u001b[39m\u001b[38;5;124m`\u001b[39m\u001b[38;5;132;01m{\u001b[39;00mfpath_pp_abs\u001b[38;5;132;01m}\u001b[39;00m\u001b[38;5;124m` does not point to a directory\u001b[39m\u001b[38;5;124m'\u001b[39m)\n\u001b[1;32m    233\u001b[0m \u001b[38;5;28;01mif\u001b[39;00m validation_policy\u001b[38;5;241m.\u001b[39mlower() \u001b[38;5;129;01mnot\u001b[39;00m \u001b[38;5;129;01min\u001b[39;00m VALIDATION_POLICIES:\n\u001b[1;32m    234\u001b[0m     \u001b[38;5;28;01mraise\u001b[39;00m \u001b[38;5;167;01mValueError\u001b[39;00m(\u001b[38;5;124mf\u001b[39m\u001b[38;5;124m'\u001b[39m\u001b[38;5;132;01m{\u001b[39;00mvalidation_policy\u001b[38;5;132;01m}\u001b[39;00m\u001b[38;5;124m must be one of \u001b[39m\u001b[38;5;132;01m{\u001b[39;00mVALIDATION_POLICIES\u001b[38;5;132;01m}\u001b[39;00m\u001b[38;5;124m'\u001b[39m)\n",
      "\u001b[0;31mValueError\u001b[0m: `/Users/robin/PycharmProjects/phenopacket-store/notebooks/RERE/phenopackets` does not point to a directory"
     ]
    }
   ],
   "source": [
    "RERE_MANE_transcript = 'NM_012102.4'\n",
    "RERE_protein_id = \"NP_036234.3\"\n",
    "cohort_creator = configure_caching_cohort_creator(hpo, timeout=20)\n",
    "phenopacket_input_folder = \"../../../phenopacket-store/notebooks/RERE/phenopackets/\"\n",
    "cohort = load_phenopacket_folder(pp_directory=phenopacket_input_folder, cohort_creator=cohort_creator)"
   ]
  },
  {
   "cell_type": "code",
   "execution_count": null,
   "id": "3756ddde-1abc-4536-a1ea-0663cb6695ac",
   "metadata": {},
   "outputs": [],
   "source": [
    "from IPython.display import display, HTML\n",
    "from genophenocorr.view import CohortViewable\n",
    "\n",
    "cv = CohortViewable(hpo=hpo)\n",
    "html = cv.process(cohort=cohort, transcript_id=RERE_MANE_transcript)\n",
    "\n",
    "display(HTML(html))"
   ]
  },
  {
   "cell_type": "code",
   "execution_count": null,
   "id": "6f40dc25-1376-45f0-8c1b-6ee6f7640051",
   "metadata": {},
   "outputs": [],
   "source": [
    "from genophenocorr.preprocessing import UniprotProteinMetadataService\n",
    "from genophenocorr.model.genome import GRCh38\n",
    "from genophenocorr.preprocessing import VVTranscriptCoordinateService\n",
    "from genophenocorr.view import ProteinVisualizable, ProteinVisualizer, ProteinViewable\n",
    "\n",
    "pms = UniprotProteinMetadataService()\n",
    "protein_meta = pms.annotate(RERE_protein_id)\n",
    "txc_service = VVTranscriptCoordinateService(genome_build=GRCh38)\n",
    "tx_coordinates = txc_service.fetch(RERE_MANE_transcript)\n",
    "pvis = ProteinVisualizable(tx_coordinates=tx_coordinates, protein_meta=protein_meta, cohort=cohort)"
   ]
  },
  {
   "cell_type": "code",
   "execution_count": null,
   "id": "074866d5",
   "metadata": {},
   "outputs": [],
   "source": [
    "viewer = ProteinViewable()\n",
    "html_prot = viewer.process(cohort, pvis)\n",
    "display(HTML(html_prot))"
   ]
  },
  {
   "cell_type": "code",
   "execution_count": null,
   "id": "afcfc60f",
   "metadata": {},
   "outputs": [],
   "source": [
    "drawer = ProteinVisualizer()\n",
    "drawer.draw_fig(pvis=pvis)"
   ]
  },
  {
   "cell_type": "code",
   "execution_count": null,
   "id": "0d8e5cc0",
   "metadata": {},
   "outputs": [],
   "source": [
    "from genophenocorr.analysis import configure_cohort_analysis, CohortAnalysisConfiguration\n",
    "from genophenocorr.analysis.predicate import PatientCategories\n",
    "from genophenocorr.model.genome import Region\n",
    "\n",
    "analysis_config = CohortAnalysisConfiguration()\n",
    "analysis_config.missing_implies_excluded = False\n",
    "\n",
    "analysis = configure_cohort_analysis(cohort, hpo, config=analysis_config)"
   ]
  },
  {
   "cell_type": "code",
   "execution_count": null,
   "id": "617d420c",
   "metadata": {},
   "outputs": [],
   "source": [
    "from genophenocorr.model import VariantEffect\n",
    "\n",
    "frameshift = analysis.compare_by_variant_effect(VariantEffect.FRAMESHIFT_VARIANT, tx_id=RERE_MANE_transcript)\n",
    "frameshift.summarize(hpo, PatientCategories.YES)"
   ]
  },
  {
   "cell_type": "code",
   "execution_count": null,
   "id": "1b191814",
   "metadata": {},
   "outputs": [],
   "source": [
    "from genophenocorr.analysis import configure_cohort_analysis, CohortAnalysisConfiguration\n",
    "from genophenocorr.analysis.predicate import PatientCategories\n",
    "\n",
    "analysis_config = CohortAnalysisConfiguration()\n",
    "analysis_config.missing_implies_excluded = False\n",
    "analysis_config.heuristic_strategy()\n",
    "analysis = configure_cohort_analysis(cohort, hpo, config=analysis_config)"
   ]
  },
  {
   "cell_type": "code",
   "execution_count": null,
   "id": "f1319fa7",
   "metadata": {},
   "outputs": [],
   "source": [
    "frameshift = analysis.compare_by_variant_effect(VariantEffect.FRAMESHIFT_VARIANT, tx_id=RERE_MANE_transcript)\n",
    "frameshift.summarize(hpo, PatientCategories.YES)"
   ]
  },
  {
   "cell_type": "code",
   "execution_count": null,
   "id": "59a07380",
   "metadata": {},
   "outputs": [],
   "source": [
    "missense = analysis.compare_by_variant_effect(VariantEffect.MISSENSE_VARIANT, tx_id=RERE_MANE_transcript)\n",
    "missense.summarize(hpo, PatientCategories.YES)"
   ]
  },
  {
   "cell_type": "code",
   "execution_count": null,
   "id": "fe6361c3",
   "metadata": {},
   "outputs": [],
   "source": [
    "from genophenocorr.model import FeatureType\n",
    "\n",
    "feature = analysis.compare_by_protein_feature_type(FeatureType.DOMAIN, tx_id=RERE_MANE_transcript)\n",
    "feature.summarize(hpo, PatientCategories.YES)"
   ]
  },
  {
   "cell_type": "code",
   "execution_count": null,
   "id": "cc712ff1",
   "metadata": {},
   "outputs": [],
   "source": []
  }
 ],
 "metadata": {
  "kernelspec": {
   "display_name": "gpcvenv",
   "language": "python",
   "name": "python3"
  },
  "language_info": {
   "codemirror_mode": {
    "name": "ipython",
    "version": 3
   },
   "file_extension": ".py",
   "mimetype": "text/x-python",
   "name": "python",
   "nbconvert_exporter": "python",
   "pygments_lexer": "ipython3",
   "version": "3.12.4"
  }
 },
 "nbformat": 4,
 "nbformat_minor": 5
}
