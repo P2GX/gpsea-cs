{
 "cells": [
  {
   "cell_type": "markdown",
   "metadata": {},
   "source": [
    "# ACADM\n",
    "[Medium-chain acyl-CoA dehydrogenase deficiency (ACADMD)](https://omim.org/entry/201450) is caused by homozygous or compound heterozygous mutation in the medium-chain acyl-CoA dehydrogenase gene (ACADM).\n",
    "Here we ingest a dataset reported in [Tucci S, et al. (2021) Genotype and residual enzyme activity in medium-chain acyl-CoA dehydrogenase (MCAD) deficiency: Are predictions possible? J Inherit Metab Dis.](https://pubmed.ncbi.nlm.nih.gov/33580884/). Limited clinical information is provided, but we can collect data on genotypes and enzyme activity to show how GPSEA can be used to perform tests of association of genotypes with numerical measurements using a t test.\n",
    "\n",
    "The authors speak of \n",
    "> a severe mutation, c.985G>A (p.Lys329Glu), or a mild mutation, c.199T>C (p.Tyr67His).\n",
    "\n",
    "We will perform t tests for both of thest variants."
   ]
  },
  {
   "cell_type": "code",
   "execution_count": 1,
   "metadata": {},
   "outputs": [
    {
     "name": "stdout",
     "output_type": "stream",
     "text": [
      "Loaded HPO v2024-08-13\n",
      "Using gpsea version 0.7.1\n"
     ]
    }
   ],
   "source": [
    "import gpsea\n",
    "import hpotk\n",
    "\n",
    "store = hpotk.configure_ontology_store()\n",
    "hpo = store.load_minimal_hpo()\n",
    "print(f'Loaded HPO v{hpo.version}')\n",
    "print(f\"Using gpsea version {gpsea.__version__}\")"
   ]
  },
  {
   "cell_type": "markdown",
   "metadata": {},
   "source": [
    "# ACADM\n",
    "We user the [Matched Annotation from NCBI and EMBL-EBI (MANE)](https://www.ncbi.nlm.nih.gov/refseq/MANE/) transcript and the corresponding protein identifier for ACADM."
   ]
  },
  {
   "cell_type": "code",
   "execution_count": 2,
   "metadata": {},
   "outputs": [],
   "source": [
    "gene_symbol = 'ACADM'\n",
    "mane_tx_id = 'NM_000016.6'\n",
    "mane_protein_id = 'NP_000007.1' # medium-chain specific acyl-CoA dehydrogenase, mitochondrial isoform a precursor"
   ]
  },
  {
   "cell_type": "code",
   "execution_count": 3,
   "metadata": {},
   "outputs": [
    {
     "name": "stdout",
     "output_type": "stream",
     "text": [
      "Individuals Processed: 115individuals [00:00, 2598.80individuals/s]\n",
      "Validated under permissive policy\n",
      "No errors or warnings were found\n"
     ]
    }
   ],
   "source": [
    "from ppktstore.registry import configure_phenopacket_registry\n",
    "from gpsea.preprocessing import configure_caching_cohort_creator\n",
    "\n",
    "cohort_name = \"ACADM\"\t\n",
    "\n",
    "cohort_creator = configure_caching_cohort_creator(hpo)\n",
    "from gpsea.preprocessing import load_phenopacket_folder\n",
    "pp_dir = 'phenopackets/'\n",
    "cohort, qc_results = load_phenopacket_folder(pp_dir, cohort_creator)  \n",
    "qc_results.summarize()"
   ]
  },
  {
   "cell_type": "code",
   "execution_count": 4,
   "metadata": {},
   "outputs": [
    {
     "data": {
      "text/html": [
       "<!DOCTYPE html>\n",
       "<html lang=\"en\">\n",
       "\n",
       "<head>\n",
       "  <meta charset=\"utf-8\">\n",
       "  <title>Cohort</title>\n",
       "  <style>\n",
       "    table {\n",
       "      border-collapse: collapse;\n",
       "      margin: 25px 0;\n",
       "      font-size: 0.9em;\n",
       "      font-family: sans-serif;\n",
       "      min-width: 400px;\n",
       "      box-shadow: 0 0 20px rgba(0, 0, 0, 0.15);\n",
       "    }\n",
       "\n",
       "    .table .column-1 {\n",
       "      text-align: left;\n",
       "    }\n",
       "\n",
       "    th {\n",
       "      background-color: LightSkyBlue;\n",
       "      border: 1px solid #dddddd;\n",
       "      text-align: left;\n",
       "      padding: 2px;\n",
       "      font-weight: bold;\n",
       "      font-size: 120%;\n",
       "    }\n",
       "\n",
       "    tr {\n",
       "      border: 1px solid #dddddd;\n",
       "    }\n",
       "\n",
       "    td {\n",
       "      padding: 2px;\n",
       "      font-weight: bold;\n",
       "    }\n",
       "\n",
       "    tr:nth-child(even) {\n",
       "      background-color: #f2f2f2;\n",
       "    }\n",
       "\n",
       "    .table td,\n",
       "    tr {\n",
       "      text-align: right;\n",
       "    }\n",
       "\n",
       "    .lft {\n",
       "      text-align: left;\n",
       "    }\n",
       "\n",
       "    div {\n",
       "      display: block;\n",
       "      width: 100%;\n",
       "      padding-right: 1%;\n",
       "      margin-bottom: 20px;\n",
       "      /* Add margin to separate divs */\n",
       "    }\n",
       "\n",
       "    caption {\n",
       "      caption-side: top;\n",
       "      text-align: left;\n",
       "      padding-bottom: 10px;\n",
       "      font-weight: bold;\n",
       "    }\n",
       "  </style>\n",
       "</head>\n",
       "\n",
       "<body>\n",
       "  <h1>GPSEA cohort analysis</h1>\n",
       "  <p>\n",
       "    Successfully loaded 115 individuals.\n",
       "\n",
       "    \n",
       "    0 were recorded as male,\n",
       "    0 as female,\n",
       "    and 115 as unknown sex.\n",
       "\n",
       "    \n",
       "    \n",
       "    No information about individuals' vital status was reported.\n",
       "    \n",
       "\n",
       "    \n",
       "    The cohort included 0 HPO terms.\n",
       "\n",
       "    \n",
       "    0 individuals had disease onset information\n",
       "    and 0 had information about the age of last encounter.\n",
       "\n",
       "\n",
       "    \n",
       "    \n",
       "  </p>\n",
       "\n",
       "  \n",
       "  <p>Not able to load 115 individuals.</p>\n",
       "  \n",
       "\n",
       "  \n",
       "  <table>\n",
       "    <caption style=\"color: black;\">\n",
       "      <h3>Top 10 HPO terms</h3>\n",
       "      A total of 0 HPO terms were used to annotated the cohort.\n",
       "      \n",
       "    </caption>\n",
       "    <tbody>\n",
       "      <tr class=\"strng\">\n",
       "        <th class=\"lft\">HPO Term</th>\n",
       "        <th>ID</th>\n",
       "        <th>Seen in <em>n</em> individuals</th>\n",
       "      </tr>\n",
       "\n",
       "      \n",
       "    </tbody>\n",
       "  </table>\n",
       "\n",
       "  \n",
       "\n",
       "  \n",
       "  <table>\n",
       "    <caption style=\"color: black;\">\n",
       "      <h3>Top 10 variants</h3>\n",
       "      Variants are shown according to NM_000016.6.\n",
       "      A total of 47 unique variants\n",
       "      were identified in the cohort.\n",
       "    </caption>\n",
       "    <tbody>\n",
       "      <tr class=\"strng\">\n",
       "        <th>Seen in <em>n</em> individuals</th>\n",
       "        <th class=\"lft\">Variant key</th>\n",
       "        <th>Variant Name</th>\n",
       "        <th>Protein Effect</th>\n",
       "        <th>Variant Class</th>\n",
       "      </tr>\n",
       "      \n",
       "      <tr>\n",
       "        <td>90</td>\n",
       "        <td class=\"lft\">1_75761161_75761161_A_G</td>\n",
       "        <td>c.985A>G</td>\n",
       "        <td>p.Lys329Glu</td>\n",
       "        <td>MISSENSE_VARIANT</td>\n",
       "      </tr>\n",
       "      \n",
       "      <tr>\n",
       "        <td>20</td>\n",
       "        <td class=\"lft\">1_75732724_75732724_T_C</td>\n",
       "        <td>c.199T>C</td>\n",
       "        <td>p.Tyr67His</td>\n",
       "        <td>MISSENSE_VARIANT</td>\n",
       "      </tr>\n",
       "      \n",
       "      <tr>\n",
       "        <td>9</td>\n",
       "        <td class=\"lft\">1_75732879_75732879_C_CT</td>\n",
       "        <td>c.244dup</td>\n",
       "        <td>p.Trp82LeufsTer23</td>\n",
       "        <td>FRAMESHIFT_VARIANT</td>\n",
       "      </tr>\n",
       "      \n",
       "      <tr>\n",
       "        <td>7</td>\n",
       "        <td class=\"lft\">1_75749509_75749509_G_A</td>\n",
       "        <td>c.799G>A</td>\n",
       "        <td>p.Gly267Arg</td>\n",
       "        <td>MISSENSE_VARIANT</td>\n",
       "      </tr>\n",
       "      \n",
       "      <tr>\n",
       "        <td>6</td>\n",
       "        <td class=\"lft\">1_75733624_75733625_TG_T</td>\n",
       "        <td>c.387+1del</td>\n",
       "        <td>None</td>\n",
       "        <td>FRAMESHIFT_VARIANT</td>\n",
       "      </tr>\n",
       "      \n",
       "      <tr>\n",
       "        <td>3</td>\n",
       "        <td class=\"lft\">1_75733561_75733561_T_C</td>\n",
       "        <td>c.320T>C</td>\n",
       "        <td>p.Leu107Ser</td>\n",
       "        <td>MISSENSE_VARIANT</td>\n",
       "      </tr>\n",
       "      \n",
       "      <tr>\n",
       "        <td>3</td>\n",
       "        <td class=\"lft\">1_75745859_75745859_C_G</td>\n",
       "        <td>c.653C>G</td>\n",
       "        <td>p.Ala218Gly</td>\n",
       "        <td>MISSENSE_VARIANT</td>\n",
       "      </tr>\n",
       "      \n",
       "      <tr>\n",
       "        <td>3</td>\n",
       "        <td class=\"lft\">1_75732652_75732652_G_A</td>\n",
       "        <td>c.127G>A</td>\n",
       "        <td>p.Glu43Lys</td>\n",
       "        <td>MISSENSE_VARIANT</td>\n",
       "      </tr>\n",
       "      \n",
       "      <tr>\n",
       "        <td>3</td>\n",
       "        <td class=\"lft\">1_75761267_75761267_T_C</td>\n",
       "        <td>c.1091T>C</td>\n",
       "        <td>p.Ile364Thr</td>\n",
       "        <td>MISSENSE_VARIANT</td>\n",
       "      </tr>\n",
       "      \n",
       "      <tr>\n",
       "        <td>2</td>\n",
       "        <td class=\"lft\">1_75732869_75732869_T_C</td>\n",
       "        <td>c.233T>C</td>\n",
       "        <td>p.Ile78Thr</td>\n",
       "        <td>MISSENSE_VARIANT</td>\n",
       "      </tr>\n",
       "      \n",
       "    </tbody>\n",
       "  </table>\n",
       "  \n",
       "  \n",
       "  <table>\n",
       "    <caption style=\"color: black;\">\n",
       "      <h3>Diseases</h3>\n",
       "    </caption>\n",
       "    <tbody>\n",
       "      <tr class=\"strng\">\n",
       "        <th class=\"lft\">Name</th>\n",
       "        <th>ID</th>\n",
       "        <th><em>N</em> diagnosed individuals</th>\n",
       "      </tr>\n",
       "      \n",
       "      <tr>\n",
       "        <td class=\"lft\">Acyl-CoA dehydrogenase, medium chain, deficiency of</td>\n",
       "        <td>OMIM:201450</td>\n",
       "        <td>115</td>\n",
       "      </tr>\n",
       "      \n",
       "    </tbody>\n",
       "  </table>\n",
       "  \n",
       "  \n",
       "  \n",
       "  <table>\n",
       "    <caption style=\"color: black;\">\n",
       "      <h3>Variant categories for NM_000016.6</h3>\n",
       "    </caption>\n",
       "    <tbody>\n",
       "      <tr class=\"strng\">\n",
       "        <th class=\"lft\">Variant effect</th>\n",
       "        <th>Annotation count</th>\n",
       "        <th>Percent</th>\n",
       "      </tr>\n",
       "      \n",
       "      <tr>\n",
       "        <td class=\"lft\">MISSENSE_VARIANT</td>\n",
       "        <td>160</td>\n",
       "        <td>83%</td>\n",
       "      </tr>\n",
       "      \n",
       "      <tr>\n",
       "        <td class=\"lft\">FRAMESHIFT_VARIANT</td>\n",
       "        <td>20</td>\n",
       "        <td>10%</td>\n",
       "      </tr>\n",
       "      \n",
       "      <tr>\n",
       "        <td class=\"lft\">INTRON_VARIANT</td>\n",
       "        <td>4</td>\n",
       "        <td>2%</td>\n",
       "      </tr>\n",
       "      \n",
       "      <tr>\n",
       "        <td class=\"lft\">STOP_GAINED</td>\n",
       "        <td>2</td>\n",
       "        <td>1%</td>\n",
       "      </tr>\n",
       "      \n",
       "      <tr>\n",
       "        <td class=\"lft\">SPLICE_POLYPYRIMIDINE_TRACT_VARIANT</td>\n",
       "        <td>2</td>\n",
       "        <td>1%</td>\n",
       "      </tr>\n",
       "      \n",
       "      <tr>\n",
       "        <td class=\"lft\">SPLICE_REGION_VARIANT</td>\n",
       "        <td>1</td>\n",
       "        <td>1%</td>\n",
       "      </tr>\n",
       "      \n",
       "      <tr>\n",
       "        <td class=\"lft\">SPLICE_DONOR_VARIANT</td>\n",
       "        <td>1</td>\n",
       "        <td>1%</td>\n",
       "      </tr>\n",
       "      \n",
       "      <tr>\n",
       "        <td class=\"lft\">SPLICE_DONOR_REGION_VARIANT</td>\n",
       "        <td>1</td>\n",
       "        <td>1%</td>\n",
       "      </tr>\n",
       "      \n",
       "      <tr>\n",
       "        <td class=\"lft\">SYNONYMOUS_VARIANT</td>\n",
       "        <td>1</td>\n",
       "        <td>1%</td>\n",
       "      </tr>\n",
       "      \n",
       "    </tbody>\n",
       "  </table>\n",
       "  \n",
       "\n",
       "</body>\n",
       "</html>"
      ],
      "text/plain": [
       "<gpsea.view._report.HtmlGpseaReport at 0x16b08c440>"
      ]
     },
     "execution_count": 4,
     "metadata": {},
     "output_type": "execute_result"
    }
   ],
   "source": [
    "from gpsea.view import CohortViewer\n",
    "viewer = CohortViewer(hpo)\n",
    "viewer.process(cohort=cohort, transcript_id=mane_tx_id)"
   ]
  },
  {
   "cell_type": "code",
   "execution_count": 5,
   "metadata": {},
   "outputs": [
    {
     "data": {
      "image/png": "[encoded data removed]",
      "text/plain": [
       "<Figure size 1500x800 with 1 Axes>"
      ]
     },
     "metadata": {},
     "output_type": "display_data"
    }
   ],
   "source": [
    "from gpsea.model.genome import GRCh38\n",
    "from gpsea.preprocessing import configure_default_protein_metadata_service, VVMultiCoordinateService\n",
    "txc_service = VVMultiCoordinateService(genome_build=GRCh38)\n",
    "pms = configure_default_protein_metadata_service()\n",
    "tx_coordinates = txc_service.fetch(mane_tx_id)\n",
    "protein_meta = pms.annotate(mane_protein_id)\n",
    "from gpsea.view import ProteinVisualizer\n",
    "import matplotlib.pyplot as plt\n",
    "acadm_fig, acadm_ax = plt.subplots(figsize=(15, 8))\n",
    "visualizer = ProteinVisualizer()\n",
    "visualizer.draw_protein_diagram(\n",
    "    tx_coordinates,\n",
    "    protein_meta,\n",
    "    cohort,\n",
    "    ax=acadm_ax,\n",
    ")\n",
    "acadm_fig.tight_layout()"
   ]
  },
  {
   "cell_type": "markdown",
   "metadata": {},
   "source": [
    "# Genotype-Phenotype Correlation  (GPC) Analysis\n",
    "\n",
    "Following Tucci et al (see above), we will test the \"severe\" variant c.985G>A (p.Lys329Glu) and the \"mild\" variant, c.199T>C (p.Tyr67His) for correlation with MCAD activity using a t test. Our input data mainly included information about variants and enzyme activity, so there are the only two tests we will perform for this cohort."
   ]
  },
  {
   "cell_type": "code",
   "execution_count": 6,
   "metadata": {},
   "outputs": [],
   "source": [
    "from gpsea.model import VariantEffect\n",
    "from gpsea.analysis.predicate.genotype import VariantPredicates\n",
    "from gpsea.analysis.predicate.genotype import biallelic_predicate\n",
    "\n",
    "\n",
    "from gpsea.model import VariantEffect\n",
    "from gpsea.analysis.predicate.genotype import VariantPredicates\n",
    "is_missense = VariantPredicates.variant_effect(VariantEffect.MISSENSE_VARIANT, tx_id=mane_tx_id)\n",
    "\n",
    "\n",
    "Lys329Glu = VariantPredicates.variant_key(\"1_75761161_75761161_A_G\") # c.985A>G\tp.Lys329Glu\t\n",
    "Tyr67His = VariantPredicates.variant_key(\"1_75732724_75732724_T_C\") #c.199T>C\tp.Tyr67His\t\n",
    "\n",
    "Lys329Glu_homozygote_predicate = biallelic_predicate(\n",
    "    a_predicate=Lys329Glu,\n",
    "    b_predicate=~Lys329Glu,\n",
    "    a_label=\"K329Q\",\n",
    "    b_label=\"other\",\n",
    "    partitions=((0,), (1,2))\n",
    ")\n",
    "\n",
    "Tyr67His_homoyzgote_or_ch_predicate = biallelic_predicate(\n",
    "    a_predicate=Tyr67His,\n",
    "    b_predicate=~Tyr67His,\n",
    "    a_label=\"Y67H\",\n",
    "    b_label=\"other\",\n",
    "    partitions=((0,1), (2,))\n",
    ")"
   ]
  },
  {
   "cell_type": "code",
   "execution_count": 7,
   "metadata": {},
   "outputs": [],
   "source": [
    "from gpsea.analysis.pscore import MeasurementPhenotypeScorer, PhenotypeScoreAnalysisResult\n",
    "from gpsea.analysis.pscore.stats import TTestStatistic\n",
    "from gpsea.analysis.pscore import PhenotypeScoreAnalysis\n",
    "from gpsea.analysis.predicate.genotype import GenotypePolyPredicate\n",
    "from gpsea.model import Cohort\n",
    "\n",
    "def perform_t_test(loinc_id: str,\n",
    "                   loinc_label:str,\n",
    "                   cohort: Cohort,\n",
    "                   gt_predicate: GenotypePolyPredicate) -> PhenotypeScoreAnalysisResult:\n",
    "    pheno_scorer = MeasurementPhenotypeScorer.from_measurement_id(\n",
    "        term_id=loinc_id,\n",
    "        label=loinc_label\n",
    "    )\n",
    "    score_statistic = TTestStatistic()\n",
    "    score_analysis = PhenotypeScoreAnalysis(\n",
    "        score_statistic=score_statistic,\n",
    "    )\n",
    "    result = score_analysis.compare_genotype_vs_phenotype_score(\n",
    "        cohort=cohort,\n",
    "        gt_predicate=gt_predicate,\n",
    "        pheno_scorer=pheno_scorer,\n",
    "    )\n",
    "    return result"
   ]
  },
  {
   "cell_type": "markdown",
   "metadata": {},
   "source": [
    "# LOINC:74892-1: MCAD Activity%\n",
    "LOINC code [LOINC:74892-1](https://loinc.org/74892-1) specifies medium-chain acyl-CoA dehydrogenase (MCAD) activity. See [EC 1.3.8.7: medium-chain acyl-CoA dehydrogenase](https://www.brenda-enzymes.org/all_enzymes.php?ecno=1.3.8.7)."
   ]
  },
  {
   "cell_type": "code",
   "execution_count": 8,
   "metadata": {},
   "outputs": [],
   "source": [
    "loinc_id =\"LOINC:74892-1\"\n",
    "loinc_label = \"MCAD Activity%\""
   ]
  },
  {
   "cell_type": "markdown",
   "metadata": {},
   "source": [
    "# Lys329Glu\n",
    "c.985G>A (p.Lys329Glu) is tthe severe mutation according to the authors."
   ]
  },
  {
   "cell_type": "code",
   "execution_count": 9,
   "metadata": {},
   "outputs": [
    {
     "name": "stdout",
     "output_type": "stream",
     "text": [
      "Lys329Glu: t test for MCAD Activity%(LOINC:74892-1): 6.122643015760305e-10\n"
     ]
    },
    {
     "data": {
      "image/png": "[encoded data removed]",
      "text/plain": [
       "<Figure size 500x300 with 1 Axes>"
      ]
     },
     "metadata": {},
     "output_type": "display_data"
    }
   ],
   "source": [
    "import matplotlib.pyplot as plt\n",
    "\n",
    "result_Lys329Glu = perform_t_test(loinc_id=loinc_id, loinc_label=loinc_label, cohort=cohort, gt_predicate=Lys329Glu_homozygote_predicate)\n",
    "print(f\"Lys329Glu: t test for {loinc_label}({loinc_id}): {result_Lys329Glu.pval}\")\n",
    "\n",
    "fig, ax = plt.subplots(figsize=(5, 3))\n",
    "p_value_text = f'p-value: {result_Lys329Glu.pval:.2e}'\n",
    "ax.text(0.7, 30, p_value_text, weight='bold')\n",
    "ax.set_ylabel(\"MCAD activity\")\n",
    "\n",
    "\n",
    "result_Lys329Glu.plot_boxplots(ax=ax)\n"
   ]
  },
  {
   "cell_type": "markdown",
   "metadata": {},
   "source": [
    "# Getting original data\n",
    "We can access the original data as follows. We use it here to calcualte the mean MCAD activity for each group, and create a string that we will use for the summary."
   ]
  },
  {
   "cell_type": "code",
   "execution_count": 10,
   "metadata": {},
   "outputs": [
    {
     "name": "stdout",
     "output_type": "stream",
     "text": [
      "Mean MCAD activity for K329/K329: 0.52%, and for K329/other or other/other: 13.23%\n"
     ]
    }
   ],
   "source": [
    "df = result_Lys329Glu.data\n",
    "group0_mean = df[df[\"genotype\"] == 0][\"phenotype\"].mean()\n",
    "group1_mean = df[df[\"genotype\"] == 1][\"phenotype\"].mean()\n",
    "k329_interpretation = f\"Mean MCAD activity for K329/K329: {group0_mean:.2f}%, and for K329/other or other/other: {group1_mean:.2f}%\"\n",
    "print(k329_interpretation)"
   ]
  },
  {
   "cell_type": "markdown",
   "metadata": {},
   "source": [
    "# Tyr67His\n",
    "c.199T>C (p.Tyr67His) is a mild mutation according to the authors"
   ]
  },
  {
   "cell_type": "code",
   "execution_count": 11,
   "metadata": {},
   "outputs": [
    {
     "name": "stdout",
     "output_type": "stream",
     "text": [
      "Tyr67His: t test for MCAD Activity%(LOINC:74892-1): 2.0099847817662854e-05\n"
     ]
    },
    {
     "data": {
      "image/png": "[encoded data removed]",
      "text/plain": [
       "<Figure size 500x300 with 1 Axes>"
      ]
     },
     "metadata": {},
     "output_type": "display_data"
    }
   ],
   "source": [
    "import matplotlib.pyplot as plt\n",
    "\n",
    "result_Tyr67His = perform_t_test(loinc_id=loinc_id, loinc_label=loinc_label, cohort=cohort, gt_predicate=Tyr67His_homoyzgote_or_ch_predicate)\n",
    "print(f\"Tyr67His: t test for {loinc_label}({loinc_id}): {result_Tyr67His.pval}\")\n",
    "fig, ax = plt.subplots(figsize=(5, 3))\n",
    "\n",
    "p_value_text = f'p-value: {result_Tyr67His.pval:.2e}'\n",
    "ax.text(0.7, 32, p_value_text, weight='bold')\n",
    "ax.set_ylabel(\"MCAD activity\")\n",
    "\n",
    "result_Tyr67His.plot_boxplots(ax=ax)"
   ]
  },
  {
   "cell_type": "code",
   "execution_count": 12,
   "metadata": {},
   "outputs": [
    {
     "name": "stdout",
     "output_type": "stream",
     "text": [
      "Mean MCAD activity for Y67H/Y67H: 18.60%, and for Y67H/other or other/other: 7.68%\n"
     ]
    }
   ],
   "source": [
    "df = result_Tyr67His.data\n",
    "group0_mean = df[df[\"genotype\"] == 0][\"phenotype\"].mean()\n",
    "group1_mean = df[df[\"genotype\"] == 1][\"phenotype\"].mean()\n",
    "y67h_interpretation = f\"Mean MCAD activity for Y67H/Y67H: {group0_mean:.2f}%, and for Y67H/other or other/other: {group1_mean:.2f}%\"\n",
    "print(y67h_interpretation)"
   ]
  },
  {
   "cell_type": "markdown",
   "metadata": {},
   "source": [
    "# Summary"
   ]
  },
  {
   "cell_type": "markdown",
   "metadata": {},
   "source": []
  },
  {
   "cell_type": "code",
   "execution_count": 13,
   "metadata": {},
   "outputs": [],
   "source": [
    "from gpseacs.report import GpseaAnalysisReport, GPAnalysisResultSummary\n",
    "\n",
    "\n",
    "M_results = (\n",
    "    GPAnalysisResultSummary.from_mono(\n",
    "        result=result_Lys329Glu,\n",
    "        xrefs={\n",
    "            'LOINC:74892-1': ('PMID:33580884'),\n",
    "        },\n",
    "        interpretation=k329_interpretation\n",
    "    ),\n",
    "    GPAnalysisResultSummary.from_mono(\n",
    "        result=result_Tyr67His,\n",
    "        xrefs={\n",
    "            'LOINC:74892-1': ('PMID:33580884'),\n",
    "        },\n",
    "        interpretation=y67h_interpretation\n",
    "    )\n",
    ")\n",
    "\n",
    "abcb7_caption = \"No statistically significant results identified.\"\n",
    "report = GpseaAnalysisReport(name=gene_symbol, \n",
    "                             cohort=cohort, \n",
    "                             mono_results=M_results,\n",
    "                             gene_symbol=gene_symbol,\n",
    "                             mane_tx_id=mane_tx_id,\n",
    "                             mane_protein_id=mane_protein_id,\n",
    "                             caption=abcb7_caption)"
   ]
  },
  {
   "cell_type": "code",
   "execution_count": 14,
   "metadata": {},
   "outputs": [
    {
     "data": {
      "text/html": [
       "<!DOCTYPE html>\n",
       "<html lang=\"en\">\n",
       "<head>\n",
       "  <meta charset=\"utf-8\">\n",
       "  <title>Cohort</title>\n",
       "    <style>\n",
       "    table {\n",
       "      border-collapse: collapse;\n",
       "      margin: 25px 0;\n",
       "      font-size: 0.9em;\n",
       "      font-family: sans-serif;\n",
       "      min-width: 400px;\n",
       "      box-shadow: 0 0 20px rgba(0, 0, 0, 0.15);\n",
       "    }\n",
       "\n",
       "    .table .column-1 {\n",
       "      text-align: left;\n",
       "    }\n",
       "    th {\n",
       "      background-color: LightSkyBlue;\n",
       "      border: 1px solid #dddddd;\n",
       "      text-align: left;\n",
       "      padding: 2px;\n",
       "      font-weight: bold;\n",
       "      font-size: 120%;\n",
       "      min-width: 100px;\n",
       "      border: 1px solid #ddd;\n",
       "      padding: 8px;\n",
       "        \n",
       "    }\n",
       "\n",
       "    tr {\n",
       "      border: 1px solid #dddddd;\n",
       "    }\n",
       "\n",
       "    td {\n",
       "      padding: 2px;\n",
       "      font-weight: bold;\n",
       "    }\n",
       "\n",
       "    tr:nth-child(even) {\n",
       "      background-color: #f2f2f2;\n",
       "    }\n",
       "\n",
       "    .table td, tr {\n",
       "      text-align: right;\n",
       "    }\n",
       "\n",
       "    .lft {\n",
       "      text-align: left;\n",
       "    }\n",
       "\n",
       "    div {\n",
       "      display: block;\n",
       "      width: 100%;\n",
       "      padding-right: 1%;\n",
       "      margin-bottom: 20px; /* Add margin to separate divs */\n",
       "    }\n",
       "\n",
       "    p {\n",
       "      width: 75%;\n",
       "    }\n",
       "\n",
       "    caption {\n",
       "      caption-side: top;\n",
       "      text-align: left;\n",
       "      padding-bottom: 10px;\n",
       "      font-weight: bold;\n",
       "    }\n",
       "  </style>\n",
       "</head>\n",
       "\n",
       "<body>\n",
       "  <h1>ACADM Summary</h1>\n",
       "  <p>The cohort comprised 115 individuals (0 females, 0 males, 115 with unknown sex). A total of 0 HPO terms were used to annotate the cohort. Disease diagnosis: Acyl-CoA dehydrogenase, medium chain, deficiency of (OMIM:201450). No statistically significant results identified. A total of 188 unique variant alleles were found in ACADM (transcript: NM_000016.6, protein id: NP_000007.1). HPO version: 2024-08-13. GPSEA version: 0.7.1.</p>\n",
       "  \n",
       " \n",
       "  \n",
       "  \n",
       "  \n",
       "  <table>\n",
       "    <caption style=\"color: black;\">\n",
       "        t-test to compare  K329Q/K329Q and K329Q/other OR other/other with respect to LOINC:74892-1.\n",
       "    </caption>\n",
       "        <tbody>\n",
       "            <tr class=\"strng\">\n",
       "              <th>Description</th>\n",
       "              <th>Variable</th>\n",
       "                <th>Genotype (A)</th>\n",
       "                <th>Genotype (B)</th>\n",
       "              \n",
       "              <th>p value</th>\n",
       "            </tr>\n",
       "            <tr>\n",
       "              <td class=\"lft\">Value of MCAD Activity% [LOINC:74892-1]</td>\n",
       "              <td class=\"lft\">LOINC:74892-1</td>\n",
       "                <td class=\"lft\">K329Q/K329Q</td>\n",
       "                <td class=\"lft\">K329Q/other OR other/other</td>\n",
       "                <td class=\"lft\">6.12e-10</td>\n",
       "            </tr>\n",
       "          </tbody>\n",
       "    </table>\n",
       "  \n",
       "  <table>\n",
       "    <caption style=\"color: black;\">\n",
       "        t-test to compare  Y67H/Y67H OR Y67H/other and other/other with respect to LOINC:74892-1.\n",
       "    </caption>\n",
       "        <tbody>\n",
       "            <tr class=\"strng\">\n",
       "              <th>Description</th>\n",
       "              <th>Variable</th>\n",
       "                <th>Genotype (A)</th>\n",
       "                <th>Genotype (B)</th>\n",
       "              \n",
       "              <th>p value</th>\n",
       "            </tr>\n",
       "            <tr>\n",
       "              <td class=\"lft\">Value of MCAD Activity% [LOINC:74892-1]</td>\n",
       "              <td class=\"lft\">LOINC:74892-1</td>\n",
       "                <td class=\"lft\">Y67H/Y67H OR Y67H/other</td>\n",
       "                <td class=\"lft\">other/other</td>\n",
       "                <td class=\"lft\">2.01e-05</td>\n",
       "            </tr>\n",
       "          </tbody>\n",
       "    </table>\n",
       "  \n",
       "  \n",
       "\n",
       "\n",
       "\n",
       "</body>\n",
       "</html>"
      ],
      "text/plain": [
       "<gpseacs.report._api.HtmlGpseaNotebookSummarizer at 0x31bad2180>"
      ]
     },
     "execution_count": 14,
     "metadata": {},
     "output_type": "execute_result"
    }
   ],
   "source": [
    "from gpseacs.report import GpseaNotebookSummarizer\n",
    "summarizer = GpseaNotebookSummarizer(hpo=hpo, gpsea_version=gpsea.__version__)\n",
    "summarizer.summarize_report(report=report)"
   ]
  },
  {
   "cell_type": "code",
   "execution_count": 15,
   "metadata": {},
   "outputs": [
    {
     "name": "stdout",
     "output_type": "stream",
     "text": [
      "Figure saved to ../../supplement/img/ACADM_protein_diagram-draft.pdf\n",
      "Output to ../../supplement/tex/ACADM_summary_draft.tex\n"
     ]
    }
   ],
   "source": [
    "summarizer.process_latex(report=report, mpt_fig=acadm_fig)"
   ]
  }
 ],
 "metadata": {
  "kernelspec": {
   "display_name": "venv",
   "language": "python",
   "name": "python3"
  },
  "language_info": {
   "codemirror_mode": {
    "name": "ipython",
    "version": 3
   },
   "file_extension": ".py",
   "mimetype": "text/x-python",
   "name": "python",
   "nbconvert_exporter": "python",
   "pygments_lexer": "ipython3",
   "version": "3.12.4"
  }
 },
 "nbformat": 4,
 "nbformat_minor": 2
}
